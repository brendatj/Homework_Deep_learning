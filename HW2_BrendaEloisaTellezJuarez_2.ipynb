{
  "nbformat": 4,
  "nbformat_minor": 0,
  "metadata": {
    "colab": {
      "provenance": [],
      "toc_visible": true
    },
    "kernelspec": {
      "display_name": "Python 3",
      "name": "python3"
    },
    "accelerator": "GPU",
    "gpuClass": "standard",
    "widgets": {
      "application/vnd.jupyter.widget-state+json": {
        "1a5b163ec8a14a0b8ab568dabf391d46": {
          "model_module": "@jupyter-widgets/controls",
          "model_name": "HBoxModel",
          "model_module_version": "1.5.0",
          "state": {
            "_dom_classes": [],
            "_model_module": "@jupyter-widgets/controls",
            "_model_module_version": "1.5.0",
            "_model_name": "HBoxModel",
            "_view_count": null,
            "_view_module": "@jupyter-widgets/controls",
            "_view_module_version": "1.5.0",
            "_view_name": "HBoxView",
            "box_style": "",
            "children": [
              "IPY_MODEL_af7aaa94548b4ad58d24157ee10bcfb8",
              "IPY_MODEL_baf9d744152f4a0186fc3a5bab328bc6",
              "IPY_MODEL_fbac4bd45b0e4c2faa5c6156fa8a5d3d"
            ],
            "layout": "IPY_MODEL_c54870442087401687ec9c14fb4e9c54"
          }
        },
        "af7aaa94548b4ad58d24157ee10bcfb8": {
          "model_module": "@jupyter-widgets/controls",
          "model_name": "HTMLModel",
          "model_module_version": "1.5.0",
          "state": {
            "_dom_classes": [],
            "_model_module": "@jupyter-widgets/controls",
            "_model_module_version": "1.5.0",
            "_model_name": "HTMLModel",
            "_view_count": null,
            "_view_module": "@jupyter-widgets/controls",
            "_view_module_version": "1.5.0",
            "_view_name": "HTMLView",
            "description": "",
            "description_tooltip": null,
            "layout": "IPY_MODEL_7e4bd94a64cd4c8ab9861091e710d2d6",
            "placeholder": "​",
            "style": "IPY_MODEL_428511f4446a4278b66e3c9f588c652a",
            "value": "Dl Completed...: "
          }
        },
        "baf9d744152f4a0186fc3a5bab328bc6": {
          "model_module": "@jupyter-widgets/controls",
          "model_name": "FloatProgressModel",
          "model_module_version": "1.5.0",
          "state": {
            "_dom_classes": [],
            "_model_module": "@jupyter-widgets/controls",
            "_model_module_version": "1.5.0",
            "_model_name": "FloatProgressModel",
            "_view_count": null,
            "_view_module": "@jupyter-widgets/controls",
            "_view_module_version": "1.5.0",
            "_view_name": "ProgressView",
            "bar_style": "success",
            "description": "",
            "description_tooltip": null,
            "layout": "IPY_MODEL_e79da07d0b7947bbaced1df1ea1bb4dc",
            "max": 1,
            "min": 0,
            "orientation": "horizontal",
            "style": "IPY_MODEL_16be059d60e043e5b006b74a49ce552c",
            "value": 0
          }
        },
        "fbac4bd45b0e4c2faa5c6156fa8a5d3d": {
          "model_module": "@jupyter-widgets/controls",
          "model_name": "HTMLModel",
          "model_module_version": "1.5.0",
          "state": {
            "_dom_classes": [],
            "_model_module": "@jupyter-widgets/controls",
            "_model_module_version": "1.5.0",
            "_model_name": "HTMLModel",
            "_view_count": null,
            "_view_module": "@jupyter-widgets/controls",
            "_view_module_version": "1.5.0",
            "_view_name": "HTMLView",
            "description": "",
            "description_tooltip": null,
            "layout": "IPY_MODEL_0becff616b00471b94dc4e037764234a",
            "placeholder": "​",
            "style": "IPY_MODEL_a2b82be6b0204e349cb3392030b3db98",
            "value": " 0/0 [00:00&lt;?, ? url/s]"
          }
        },
        "c54870442087401687ec9c14fb4e9c54": {
          "model_module": "@jupyter-widgets/base",
          "model_name": "LayoutModel",
          "model_module_version": "1.2.0",
          "state": {
            "_model_module": "@jupyter-widgets/base",
            "_model_module_version": "1.2.0",
            "_model_name": "LayoutModel",
            "_view_count": null,
            "_view_module": "@jupyter-widgets/base",
            "_view_module_version": "1.2.0",
            "_view_name": "LayoutView",
            "align_content": null,
            "align_items": null,
            "align_self": null,
            "border": null,
            "bottom": null,
            "display": null,
            "flex": null,
            "flex_flow": null,
            "grid_area": null,
            "grid_auto_columns": null,
            "grid_auto_flow": null,
            "grid_auto_rows": null,
            "grid_column": null,
            "grid_gap": null,
            "grid_row": null,
            "grid_template_areas": null,
            "grid_template_columns": null,
            "grid_template_rows": null,
            "height": null,
            "justify_content": null,
            "justify_items": null,
            "left": null,
            "margin": null,
            "max_height": null,
            "max_width": null,
            "min_height": null,
            "min_width": null,
            "object_fit": null,
            "object_position": null,
            "order": null,
            "overflow": null,
            "overflow_x": null,
            "overflow_y": null,
            "padding": null,
            "right": null,
            "top": null,
            "visibility": null,
            "width": null
          }
        },
        "7e4bd94a64cd4c8ab9861091e710d2d6": {
          "model_module": "@jupyter-widgets/base",
          "model_name": "LayoutModel",
          "model_module_version": "1.2.0",
          "state": {
            "_model_module": "@jupyter-widgets/base",
            "_model_module_version": "1.2.0",
            "_model_name": "LayoutModel",
            "_view_count": null,
            "_view_module": "@jupyter-widgets/base",
            "_view_module_version": "1.2.0",
            "_view_name": "LayoutView",
            "align_content": null,
            "align_items": null,
            "align_self": null,
            "border": null,
            "bottom": null,
            "display": null,
            "flex": null,
            "flex_flow": null,
            "grid_area": null,
            "grid_auto_columns": null,
            "grid_auto_flow": null,
            "grid_auto_rows": null,
            "grid_column": null,
            "grid_gap": null,
            "grid_row": null,
            "grid_template_areas": null,
            "grid_template_columns": null,
            "grid_template_rows": null,
            "height": null,
            "justify_content": null,
            "justify_items": null,
            "left": null,
            "margin": null,
            "max_height": null,
            "max_width": null,
            "min_height": null,
            "min_width": null,
            "object_fit": null,
            "object_position": null,
            "order": null,
            "overflow": null,
            "overflow_x": null,
            "overflow_y": null,
            "padding": null,
            "right": null,
            "top": null,
            "visibility": null,
            "width": null
          }
        },
        "428511f4446a4278b66e3c9f588c652a": {
          "model_module": "@jupyter-widgets/controls",
          "model_name": "DescriptionStyleModel",
          "model_module_version": "1.5.0",
          "state": {
            "_model_module": "@jupyter-widgets/controls",
            "_model_module_version": "1.5.0",
            "_model_name": "DescriptionStyleModel",
            "_view_count": null,
            "_view_module": "@jupyter-widgets/base",
            "_view_module_version": "1.2.0",
            "_view_name": "StyleView",
            "description_width": ""
          }
        },
        "e79da07d0b7947bbaced1df1ea1bb4dc": {
          "model_module": "@jupyter-widgets/base",
          "model_name": "LayoutModel",
          "model_module_version": "1.2.0",
          "state": {
            "_model_module": "@jupyter-widgets/base",
            "_model_module_version": "1.2.0",
            "_model_name": "LayoutModel",
            "_view_count": null,
            "_view_module": "@jupyter-widgets/base",
            "_view_module_version": "1.2.0",
            "_view_name": "LayoutView",
            "align_content": null,
            "align_items": null,
            "align_self": null,
            "border": null,
            "bottom": null,
            "display": null,
            "flex": null,
            "flex_flow": null,
            "grid_area": null,
            "grid_auto_columns": null,
            "grid_auto_flow": null,
            "grid_auto_rows": null,
            "grid_column": null,
            "grid_gap": null,
            "grid_row": null,
            "grid_template_areas": null,
            "grid_template_columns": null,
            "grid_template_rows": null,
            "height": null,
            "justify_content": null,
            "justify_items": null,
            "left": null,
            "margin": null,
            "max_height": null,
            "max_width": null,
            "min_height": null,
            "min_width": null,
            "object_fit": null,
            "object_position": null,
            "order": null,
            "overflow": null,
            "overflow_x": null,
            "overflow_y": null,
            "padding": null,
            "right": null,
            "top": null,
            "visibility": null,
            "width": "20px"
          }
        },
        "16be059d60e043e5b006b74a49ce552c": {
          "model_module": "@jupyter-widgets/controls",
          "model_name": "ProgressStyleModel",
          "model_module_version": "1.5.0",
          "state": {
            "_model_module": "@jupyter-widgets/controls",
            "_model_module_version": "1.5.0",
            "_model_name": "ProgressStyleModel",
            "_view_count": null,
            "_view_module": "@jupyter-widgets/base",
            "_view_module_version": "1.2.0",
            "_view_name": "StyleView",
            "bar_color": null,
            "description_width": ""
          }
        },
        "0becff616b00471b94dc4e037764234a": {
          "model_module": "@jupyter-widgets/base",
          "model_name": "LayoutModel",
          "model_module_version": "1.2.0",
          "state": {
            "_model_module": "@jupyter-widgets/base",
            "_model_module_version": "1.2.0",
            "_model_name": "LayoutModel",
            "_view_count": null,
            "_view_module": "@jupyter-widgets/base",
            "_view_module_version": "1.2.0",
            "_view_name": "LayoutView",
            "align_content": null,
            "align_items": null,
            "align_self": null,
            "border": null,
            "bottom": null,
            "display": null,
            "flex": null,
            "flex_flow": null,
            "grid_area": null,
            "grid_auto_columns": null,
            "grid_auto_flow": null,
            "grid_auto_rows": null,
            "grid_column": null,
            "grid_gap": null,
            "grid_row": null,
            "grid_template_areas": null,
            "grid_template_columns": null,
            "grid_template_rows": null,
            "height": null,
            "justify_content": null,
            "justify_items": null,
            "left": null,
            "margin": null,
            "max_height": null,
            "max_width": null,
            "min_height": null,
            "min_width": null,
            "object_fit": null,
            "object_position": null,
            "order": null,
            "overflow": null,
            "overflow_x": null,
            "overflow_y": null,
            "padding": null,
            "right": null,
            "top": null,
            "visibility": null,
            "width": null
          }
        },
        "a2b82be6b0204e349cb3392030b3db98": {
          "model_module": "@jupyter-widgets/controls",
          "model_name": "DescriptionStyleModel",
          "model_module_version": "1.5.0",
          "state": {
            "_model_module": "@jupyter-widgets/controls",
            "_model_module_version": "1.5.0",
            "_model_name": "DescriptionStyleModel",
            "_view_count": null,
            "_view_module": "@jupyter-widgets/base",
            "_view_module_version": "1.2.0",
            "_view_name": "StyleView",
            "description_width": ""
          }
        },
        "31bc9fb0a18b40ebaf888263ff189680": {
          "model_module": "@jupyter-widgets/controls",
          "model_name": "HBoxModel",
          "model_module_version": "1.5.0",
          "state": {
            "_dom_classes": [],
            "_model_module": "@jupyter-widgets/controls",
            "_model_module_version": "1.5.0",
            "_model_name": "HBoxModel",
            "_view_count": null,
            "_view_module": "@jupyter-widgets/controls",
            "_view_module_version": "1.5.0",
            "_view_name": "HBoxView",
            "box_style": "",
            "children": [
              "IPY_MODEL_b961ab5d711f4f94807bbf0867f4fed1",
              "IPY_MODEL_1120ab9e31c741298b6134689e8163b8",
              "IPY_MODEL_c45418feeb934bb29daeb793fedbacd2"
            ],
            "layout": "IPY_MODEL_7aa102cae505496f9673b302e355c186"
          }
        },
        "b961ab5d711f4f94807bbf0867f4fed1": {
          "model_module": "@jupyter-widgets/controls",
          "model_name": "HTMLModel",
          "model_module_version": "1.5.0",
          "state": {
            "_dom_classes": [],
            "_model_module": "@jupyter-widgets/controls",
            "_model_module_version": "1.5.0",
            "_model_name": "HTMLModel",
            "_view_count": null,
            "_view_module": "@jupyter-widgets/controls",
            "_view_module_version": "1.5.0",
            "_view_name": "HTMLView",
            "description": "",
            "description_tooltip": null,
            "layout": "IPY_MODEL_22857230d1bb49dcbd610114bf74d93d",
            "placeholder": "​",
            "style": "IPY_MODEL_82e04d7427f44d2281e71cf6a1cbac0d",
            "value": "Dl Size...: "
          }
        },
        "1120ab9e31c741298b6134689e8163b8": {
          "model_module": "@jupyter-widgets/controls",
          "model_name": "FloatProgressModel",
          "model_module_version": "1.5.0",
          "state": {
            "_dom_classes": [],
            "_model_module": "@jupyter-widgets/controls",
            "_model_module_version": "1.5.0",
            "_model_name": "FloatProgressModel",
            "_view_count": null,
            "_view_module": "@jupyter-widgets/controls",
            "_view_module_version": "1.5.0",
            "_view_name": "ProgressView",
            "bar_style": "success",
            "description": "",
            "description_tooltip": null,
            "layout": "IPY_MODEL_065f02e52d964d83a170e50761e6b07a",
            "max": 1,
            "min": 0,
            "orientation": "horizontal",
            "style": "IPY_MODEL_e6af15f04bc04a2f96219a786d31010d",
            "value": 0
          }
        },
        "c45418feeb934bb29daeb793fedbacd2": {
          "model_module": "@jupyter-widgets/controls",
          "model_name": "HTMLModel",
          "model_module_version": "1.5.0",
          "state": {
            "_dom_classes": [],
            "_model_module": "@jupyter-widgets/controls",
            "_model_module_version": "1.5.0",
            "_model_name": "HTMLModel",
            "_view_count": null,
            "_view_module": "@jupyter-widgets/controls",
            "_view_module_version": "1.5.0",
            "_view_name": "HTMLView",
            "description": "",
            "description_tooltip": null,
            "layout": "IPY_MODEL_292527f1342949af97b509364abca3e2",
            "placeholder": "​",
            "style": "IPY_MODEL_03ae6a09a8f7451ca7df4e493b57587d",
            "value": " 0/0 [00:00&lt;?, ? MiB/s]"
          }
        },
        "7aa102cae505496f9673b302e355c186": {
          "model_module": "@jupyter-widgets/base",
          "model_name": "LayoutModel",
          "model_module_version": "1.2.0",
          "state": {
            "_model_module": "@jupyter-widgets/base",
            "_model_module_version": "1.2.0",
            "_model_name": "LayoutModel",
            "_view_count": null,
            "_view_module": "@jupyter-widgets/base",
            "_view_module_version": "1.2.0",
            "_view_name": "LayoutView",
            "align_content": null,
            "align_items": null,
            "align_self": null,
            "border": null,
            "bottom": null,
            "display": null,
            "flex": null,
            "flex_flow": null,
            "grid_area": null,
            "grid_auto_columns": null,
            "grid_auto_flow": null,
            "grid_auto_rows": null,
            "grid_column": null,
            "grid_gap": null,
            "grid_row": null,
            "grid_template_areas": null,
            "grid_template_columns": null,
            "grid_template_rows": null,
            "height": null,
            "justify_content": null,
            "justify_items": null,
            "left": null,
            "margin": null,
            "max_height": null,
            "max_width": null,
            "min_height": null,
            "min_width": null,
            "object_fit": null,
            "object_position": null,
            "order": null,
            "overflow": null,
            "overflow_x": null,
            "overflow_y": null,
            "padding": null,
            "right": null,
            "top": null,
            "visibility": null,
            "width": null
          }
        },
        "22857230d1bb49dcbd610114bf74d93d": {
          "model_module": "@jupyter-widgets/base",
          "model_name": "LayoutModel",
          "model_module_version": "1.2.0",
          "state": {
            "_model_module": "@jupyter-widgets/base",
            "_model_module_version": "1.2.0",
            "_model_name": "LayoutModel",
            "_view_count": null,
            "_view_module": "@jupyter-widgets/base",
            "_view_module_version": "1.2.0",
            "_view_name": "LayoutView",
            "align_content": null,
            "align_items": null,
            "align_self": null,
            "border": null,
            "bottom": null,
            "display": null,
            "flex": null,
            "flex_flow": null,
            "grid_area": null,
            "grid_auto_columns": null,
            "grid_auto_flow": null,
            "grid_auto_rows": null,
            "grid_column": null,
            "grid_gap": null,
            "grid_row": null,
            "grid_template_areas": null,
            "grid_template_columns": null,
            "grid_template_rows": null,
            "height": null,
            "justify_content": null,
            "justify_items": null,
            "left": null,
            "margin": null,
            "max_height": null,
            "max_width": null,
            "min_height": null,
            "min_width": null,
            "object_fit": null,
            "object_position": null,
            "order": null,
            "overflow": null,
            "overflow_x": null,
            "overflow_y": null,
            "padding": null,
            "right": null,
            "top": null,
            "visibility": null,
            "width": null
          }
        },
        "82e04d7427f44d2281e71cf6a1cbac0d": {
          "model_module": "@jupyter-widgets/controls",
          "model_name": "DescriptionStyleModel",
          "model_module_version": "1.5.0",
          "state": {
            "_model_module": "@jupyter-widgets/controls",
            "_model_module_version": "1.5.0",
            "_model_name": "DescriptionStyleModel",
            "_view_count": null,
            "_view_module": "@jupyter-widgets/base",
            "_view_module_version": "1.2.0",
            "_view_name": "StyleView",
            "description_width": ""
          }
        },
        "065f02e52d964d83a170e50761e6b07a": {
          "model_module": "@jupyter-widgets/base",
          "model_name": "LayoutModel",
          "model_module_version": "1.2.0",
          "state": {
            "_model_module": "@jupyter-widgets/base",
            "_model_module_version": "1.2.0",
            "_model_name": "LayoutModel",
            "_view_count": null,
            "_view_module": "@jupyter-widgets/base",
            "_view_module_version": "1.2.0",
            "_view_name": "LayoutView",
            "align_content": null,
            "align_items": null,
            "align_self": null,
            "border": null,
            "bottom": null,
            "display": null,
            "flex": null,
            "flex_flow": null,
            "grid_area": null,
            "grid_auto_columns": null,
            "grid_auto_flow": null,
            "grid_auto_rows": null,
            "grid_column": null,
            "grid_gap": null,
            "grid_row": null,
            "grid_template_areas": null,
            "grid_template_columns": null,
            "grid_template_rows": null,
            "height": null,
            "justify_content": null,
            "justify_items": null,
            "left": null,
            "margin": null,
            "max_height": null,
            "max_width": null,
            "min_height": null,
            "min_width": null,
            "object_fit": null,
            "object_position": null,
            "order": null,
            "overflow": null,
            "overflow_x": null,
            "overflow_y": null,
            "padding": null,
            "right": null,
            "top": null,
            "visibility": null,
            "width": "20px"
          }
        },
        "e6af15f04bc04a2f96219a786d31010d": {
          "model_module": "@jupyter-widgets/controls",
          "model_name": "ProgressStyleModel",
          "model_module_version": "1.5.0",
          "state": {
            "_model_module": "@jupyter-widgets/controls",
            "_model_module_version": "1.5.0",
            "_model_name": "ProgressStyleModel",
            "_view_count": null,
            "_view_module": "@jupyter-widgets/base",
            "_view_module_version": "1.2.0",
            "_view_name": "StyleView",
            "bar_color": null,
            "description_width": ""
          }
        },
        "292527f1342949af97b509364abca3e2": {
          "model_module": "@jupyter-widgets/base",
          "model_name": "LayoutModel",
          "model_module_version": "1.2.0",
          "state": {
            "_model_module": "@jupyter-widgets/base",
            "_model_module_version": "1.2.0",
            "_model_name": "LayoutModel",
            "_view_count": null,
            "_view_module": "@jupyter-widgets/base",
            "_view_module_version": "1.2.0",
            "_view_name": "LayoutView",
            "align_content": null,
            "align_items": null,
            "align_self": null,
            "border": null,
            "bottom": null,
            "display": null,
            "flex": null,
            "flex_flow": null,
            "grid_area": null,
            "grid_auto_columns": null,
            "grid_auto_flow": null,
            "grid_auto_rows": null,
            "grid_column": null,
            "grid_gap": null,
            "grid_row": null,
            "grid_template_areas": null,
            "grid_template_columns": null,
            "grid_template_rows": null,
            "height": null,
            "justify_content": null,
            "justify_items": null,
            "left": null,
            "margin": null,
            "max_height": null,
            "max_width": null,
            "min_height": null,
            "min_width": null,
            "object_fit": null,
            "object_position": null,
            "order": null,
            "overflow": null,
            "overflow_x": null,
            "overflow_y": null,
            "padding": null,
            "right": null,
            "top": null,
            "visibility": null,
            "width": null
          }
        },
        "03ae6a09a8f7451ca7df4e493b57587d": {
          "model_module": "@jupyter-widgets/controls",
          "model_name": "DescriptionStyleModel",
          "model_module_version": "1.5.0",
          "state": {
            "_model_module": "@jupyter-widgets/controls",
            "_model_module_version": "1.5.0",
            "_model_name": "DescriptionStyleModel",
            "_view_count": null,
            "_view_module": "@jupyter-widgets/base",
            "_view_module_version": "1.2.0",
            "_view_name": "StyleView",
            "description_width": ""
          }
        },
        "6e7d8326003841959e5d656d012cb791": {
          "model_module": "@jupyter-widgets/controls",
          "model_name": "HBoxModel",
          "model_module_version": "1.5.0",
          "state": {
            "_dom_classes": [],
            "_model_module": "@jupyter-widgets/controls",
            "_model_module_version": "1.5.0",
            "_model_name": "HBoxModel",
            "_view_count": null,
            "_view_module": "@jupyter-widgets/controls",
            "_view_module_version": "1.5.0",
            "_view_name": "HBoxView",
            "box_style": "",
            "children": [
              "IPY_MODEL_fb621e8437864993807c57da88723b19",
              "IPY_MODEL_d492328bd4834da7a40a0c625217e628",
              "IPY_MODEL_6df277d6717647ec88fd999b4f2478ab"
            ],
            "layout": "IPY_MODEL_53011407c85943389f044b77b0b90107"
          }
        },
        "fb621e8437864993807c57da88723b19": {
          "model_module": "@jupyter-widgets/controls",
          "model_name": "HTMLModel",
          "model_module_version": "1.5.0",
          "state": {
            "_dom_classes": [],
            "_model_module": "@jupyter-widgets/controls",
            "_model_module_version": "1.5.0",
            "_model_name": "HTMLModel",
            "_view_count": null,
            "_view_module": "@jupyter-widgets/controls",
            "_view_module_version": "1.5.0",
            "_view_name": "HTMLView",
            "description": "",
            "description_tooltip": null,
            "layout": "IPY_MODEL_cf883c2310ba47e69268605d1fb44c3c",
            "placeholder": "​",
            "style": "IPY_MODEL_c112ad230aac41748b8a224add014b76",
            "value": "Extraction completed...: 100%"
          }
        },
        "d492328bd4834da7a40a0c625217e628": {
          "model_module": "@jupyter-widgets/controls",
          "model_name": "FloatProgressModel",
          "model_module_version": "1.5.0",
          "state": {
            "_dom_classes": [],
            "_model_module": "@jupyter-widgets/controls",
            "_model_module_version": "1.5.0",
            "_model_name": "FloatProgressModel",
            "_view_count": null,
            "_view_module": "@jupyter-widgets/controls",
            "_view_module_version": "1.5.0",
            "_view_name": "ProgressView",
            "bar_style": "success",
            "description": "",
            "description_tooltip": null,
            "layout": "IPY_MODEL_47929d297d2d46bdb7af0961b61853f1",
            "max": 1,
            "min": 0,
            "orientation": "horizontal",
            "style": "IPY_MODEL_2f9e17b10e644c9895a8b961dc3f5e2c",
            "value": 1
          }
        },
        "6df277d6717647ec88fd999b4f2478ab": {
          "model_module": "@jupyter-widgets/controls",
          "model_name": "HTMLModel",
          "model_module_version": "1.5.0",
          "state": {
            "_dom_classes": [],
            "_model_module": "@jupyter-widgets/controls",
            "_model_module_version": "1.5.0",
            "_model_name": "HTMLModel",
            "_view_count": null,
            "_view_module": "@jupyter-widgets/controls",
            "_view_module_version": "1.5.0",
            "_view_name": "HTMLView",
            "description": "",
            "description_tooltip": null,
            "layout": "IPY_MODEL_5053b89c05694d7cbd5c83d27bb83bb4",
            "placeholder": "​",
            "style": "IPY_MODEL_d08c6a8b26844c15879f3d4c27e91a79",
            "value": " 1/1 [00:00&lt;00:00,  2.40 file/s]"
          }
        },
        "53011407c85943389f044b77b0b90107": {
          "model_module": "@jupyter-widgets/base",
          "model_name": "LayoutModel",
          "model_module_version": "1.2.0",
          "state": {
            "_model_module": "@jupyter-widgets/base",
            "_model_module_version": "1.2.0",
            "_model_name": "LayoutModel",
            "_view_count": null,
            "_view_module": "@jupyter-widgets/base",
            "_view_module_version": "1.2.0",
            "_view_name": "LayoutView",
            "align_content": null,
            "align_items": null,
            "align_self": null,
            "border": null,
            "bottom": null,
            "display": null,
            "flex": null,
            "flex_flow": null,
            "grid_area": null,
            "grid_auto_columns": null,
            "grid_auto_flow": null,
            "grid_auto_rows": null,
            "grid_column": null,
            "grid_gap": null,
            "grid_row": null,
            "grid_template_areas": null,
            "grid_template_columns": null,
            "grid_template_rows": null,
            "height": null,
            "justify_content": null,
            "justify_items": null,
            "left": null,
            "margin": null,
            "max_height": null,
            "max_width": null,
            "min_height": null,
            "min_width": null,
            "object_fit": null,
            "object_position": null,
            "order": null,
            "overflow": null,
            "overflow_x": null,
            "overflow_y": null,
            "padding": null,
            "right": null,
            "top": null,
            "visibility": null,
            "width": null
          }
        },
        "cf883c2310ba47e69268605d1fb44c3c": {
          "model_module": "@jupyter-widgets/base",
          "model_name": "LayoutModel",
          "model_module_version": "1.2.0",
          "state": {
            "_model_module": "@jupyter-widgets/base",
            "_model_module_version": "1.2.0",
            "_model_name": "LayoutModel",
            "_view_count": null,
            "_view_module": "@jupyter-widgets/base",
            "_view_module_version": "1.2.0",
            "_view_name": "LayoutView",
            "align_content": null,
            "align_items": null,
            "align_self": null,
            "border": null,
            "bottom": null,
            "display": null,
            "flex": null,
            "flex_flow": null,
            "grid_area": null,
            "grid_auto_columns": null,
            "grid_auto_flow": null,
            "grid_auto_rows": null,
            "grid_column": null,
            "grid_gap": null,
            "grid_row": null,
            "grid_template_areas": null,
            "grid_template_columns": null,
            "grid_template_rows": null,
            "height": null,
            "justify_content": null,
            "justify_items": null,
            "left": null,
            "margin": null,
            "max_height": null,
            "max_width": null,
            "min_height": null,
            "min_width": null,
            "object_fit": null,
            "object_position": null,
            "order": null,
            "overflow": null,
            "overflow_x": null,
            "overflow_y": null,
            "padding": null,
            "right": null,
            "top": null,
            "visibility": null,
            "width": null
          }
        },
        "c112ad230aac41748b8a224add014b76": {
          "model_module": "@jupyter-widgets/controls",
          "model_name": "DescriptionStyleModel",
          "model_module_version": "1.5.0",
          "state": {
            "_model_module": "@jupyter-widgets/controls",
            "_model_module_version": "1.5.0",
            "_model_name": "DescriptionStyleModel",
            "_view_count": null,
            "_view_module": "@jupyter-widgets/base",
            "_view_module_version": "1.2.0",
            "_view_name": "StyleView",
            "description_width": ""
          }
        },
        "47929d297d2d46bdb7af0961b61853f1": {
          "model_module": "@jupyter-widgets/base",
          "model_name": "LayoutModel",
          "model_module_version": "1.2.0",
          "state": {
            "_model_module": "@jupyter-widgets/base",
            "_model_module_version": "1.2.0",
            "_model_name": "LayoutModel",
            "_view_count": null,
            "_view_module": "@jupyter-widgets/base",
            "_view_module_version": "1.2.0",
            "_view_name": "LayoutView",
            "align_content": null,
            "align_items": null,
            "align_self": null,
            "border": null,
            "bottom": null,
            "display": null,
            "flex": null,
            "flex_flow": null,
            "grid_area": null,
            "grid_auto_columns": null,
            "grid_auto_flow": null,
            "grid_auto_rows": null,
            "grid_column": null,
            "grid_gap": null,
            "grid_row": null,
            "grid_template_areas": null,
            "grid_template_columns": null,
            "grid_template_rows": null,
            "height": null,
            "justify_content": null,
            "justify_items": null,
            "left": null,
            "margin": null,
            "max_height": null,
            "max_width": null,
            "min_height": null,
            "min_width": null,
            "object_fit": null,
            "object_position": null,
            "order": null,
            "overflow": null,
            "overflow_x": null,
            "overflow_y": null,
            "padding": null,
            "right": null,
            "top": null,
            "visibility": null,
            "width": "20px"
          }
        },
        "2f9e17b10e644c9895a8b961dc3f5e2c": {
          "model_module": "@jupyter-widgets/controls",
          "model_name": "ProgressStyleModel",
          "model_module_version": "1.5.0",
          "state": {
            "_model_module": "@jupyter-widgets/controls",
            "_model_module_version": "1.5.0",
            "_model_name": "ProgressStyleModel",
            "_view_count": null,
            "_view_module": "@jupyter-widgets/base",
            "_view_module_version": "1.2.0",
            "_view_name": "StyleView",
            "bar_color": null,
            "description_width": ""
          }
        },
        "5053b89c05694d7cbd5c83d27bb83bb4": {
          "model_module": "@jupyter-widgets/base",
          "model_name": "LayoutModel",
          "model_module_version": "1.2.0",
          "state": {
            "_model_module": "@jupyter-widgets/base",
            "_model_module_version": "1.2.0",
            "_model_name": "LayoutModel",
            "_view_count": null,
            "_view_module": "@jupyter-widgets/base",
            "_view_module_version": "1.2.0",
            "_view_name": "LayoutView",
            "align_content": null,
            "align_items": null,
            "align_self": null,
            "border": null,
            "bottom": null,
            "display": null,
            "flex": null,
            "flex_flow": null,
            "grid_area": null,
            "grid_auto_columns": null,
            "grid_auto_flow": null,
            "grid_auto_rows": null,
            "grid_column": null,
            "grid_gap": null,
            "grid_row": null,
            "grid_template_areas": null,
            "grid_template_columns": null,
            "grid_template_rows": null,
            "height": null,
            "justify_content": null,
            "justify_items": null,
            "left": null,
            "margin": null,
            "max_height": null,
            "max_width": null,
            "min_height": null,
            "min_width": null,
            "object_fit": null,
            "object_position": null,
            "order": null,
            "overflow": null,
            "overflow_x": null,
            "overflow_y": null,
            "padding": null,
            "right": null,
            "top": null,
            "visibility": null,
            "width": null
          }
        },
        "d08c6a8b26844c15879f3d4c27e91a79": {
          "model_module": "@jupyter-widgets/controls",
          "model_name": "DescriptionStyleModel",
          "model_module_version": "1.5.0",
          "state": {
            "_model_module": "@jupyter-widgets/controls",
            "_model_module_version": "1.5.0",
            "_model_name": "DescriptionStyleModel",
            "_view_count": null,
            "_view_module": "@jupyter-widgets/base",
            "_view_module_version": "1.2.0",
            "_view_name": "StyleView",
            "description_width": ""
          }
        },
        "8f5595e305d84bd49b28c788b74df078": {
          "model_module": "@jupyter-widgets/controls",
          "model_name": "HBoxModel",
          "model_module_version": "1.5.0",
          "state": {
            "_dom_classes": [],
            "_model_module": "@jupyter-widgets/controls",
            "_model_module_version": "1.5.0",
            "_model_name": "HBoxModel",
            "_view_count": null,
            "_view_module": "@jupyter-widgets/controls",
            "_view_module_version": "1.5.0",
            "_view_name": "HBoxView",
            "box_style": "",
            "children": [
              "IPY_MODEL_033fa818fa524abf89b3404e3f704fb0",
              "IPY_MODEL_4aa50f6b8cb6480fbc54f218420d1565",
              "IPY_MODEL_ac7dfcbd98044ed3b6f388b012df9119"
            ],
            "layout": "IPY_MODEL_262efac55e2d4a37a6b59ac96f4b028b"
          }
        },
        "033fa818fa524abf89b3404e3f704fb0": {
          "model_module": "@jupyter-widgets/controls",
          "model_name": "HTMLModel",
          "model_module_version": "1.5.0",
          "state": {
            "_dom_classes": [],
            "_model_module": "@jupyter-widgets/controls",
            "_model_module_version": "1.5.0",
            "_model_name": "HTMLModel",
            "_view_count": null,
            "_view_module": "@jupyter-widgets/controls",
            "_view_module_version": "1.5.0",
            "_view_name": "HTMLView",
            "description": "",
            "description_tooltip": null,
            "layout": "IPY_MODEL_fd72787dc89749ba968fb29ec2567efa",
            "placeholder": "​",
            "style": "IPY_MODEL_da0e7b7f7c994d4bbdbeeb26ed6188c0",
            "value": ""
          }
        },
        "4aa50f6b8cb6480fbc54f218420d1565": {
          "model_module": "@jupyter-widgets/controls",
          "model_name": "FloatProgressModel",
          "model_module_version": "1.5.0",
          "state": {
            "_dom_classes": [],
            "_model_module": "@jupyter-widgets/controls",
            "_model_module_version": "1.5.0",
            "_model_name": "FloatProgressModel",
            "_view_count": null,
            "_view_module": "@jupyter-widgets/controls",
            "_view_module_version": "1.5.0",
            "_view_name": "ProgressView",
            "bar_style": "info",
            "description": "",
            "description_tooltip": null,
            "layout": "IPY_MODEL_9346d095bbf84b20911eb083989b73b3",
            "max": 1,
            "min": 0,
            "orientation": "horizontal",
            "style": "IPY_MODEL_8ff2acca2f8e49aeba84fadbfc893918",
            "value": 1
          }
        },
        "ac7dfcbd98044ed3b6f388b012df9119": {
          "model_module": "@jupyter-widgets/controls",
          "model_name": "HTMLModel",
          "model_module_version": "1.5.0",
          "state": {
            "_dom_classes": [],
            "_model_module": "@jupyter-widgets/controls",
            "_model_module_version": "1.5.0",
            "_model_name": "HTMLModel",
            "_view_count": null,
            "_view_module": "@jupyter-widgets/controls",
            "_view_module_version": "1.5.0",
            "_view_name": "HTMLView",
            "description": "",
            "description_tooltip": null,
            "layout": "IPY_MODEL_7047bffb1a8b450986172bbc369c721f",
            "placeholder": "​",
            "style": "IPY_MODEL_8a5814d3a23944789064c2bfef6bf7f7",
            "value": " 119939/0 [00:28&lt;00:00, 4950.40 examples/s]"
          }
        },
        "262efac55e2d4a37a6b59ac96f4b028b": {
          "model_module": "@jupyter-widgets/base",
          "model_name": "LayoutModel",
          "model_module_version": "1.2.0",
          "state": {
            "_model_module": "@jupyter-widgets/base",
            "_model_module_version": "1.2.0",
            "_model_name": "LayoutModel",
            "_view_count": null,
            "_view_module": "@jupyter-widgets/base",
            "_view_module_version": "1.2.0",
            "_view_name": "LayoutView",
            "align_content": null,
            "align_items": null,
            "align_self": null,
            "border": null,
            "bottom": null,
            "display": null,
            "flex": null,
            "flex_flow": null,
            "grid_area": null,
            "grid_auto_columns": null,
            "grid_auto_flow": null,
            "grid_auto_rows": null,
            "grid_column": null,
            "grid_gap": null,
            "grid_row": null,
            "grid_template_areas": null,
            "grid_template_columns": null,
            "grid_template_rows": null,
            "height": null,
            "justify_content": null,
            "justify_items": null,
            "left": null,
            "margin": null,
            "max_height": null,
            "max_width": null,
            "min_height": null,
            "min_width": null,
            "object_fit": null,
            "object_position": null,
            "order": null,
            "overflow": null,
            "overflow_x": null,
            "overflow_y": null,
            "padding": null,
            "right": null,
            "top": null,
            "visibility": null,
            "width": null
          }
        },
        "fd72787dc89749ba968fb29ec2567efa": {
          "model_module": "@jupyter-widgets/base",
          "model_name": "LayoutModel",
          "model_module_version": "1.2.0",
          "state": {
            "_model_module": "@jupyter-widgets/base",
            "_model_module_version": "1.2.0",
            "_model_name": "LayoutModel",
            "_view_count": null,
            "_view_module": "@jupyter-widgets/base",
            "_view_module_version": "1.2.0",
            "_view_name": "LayoutView",
            "align_content": null,
            "align_items": null,
            "align_self": null,
            "border": null,
            "bottom": null,
            "display": null,
            "flex": null,
            "flex_flow": null,
            "grid_area": null,
            "grid_auto_columns": null,
            "grid_auto_flow": null,
            "grid_auto_rows": null,
            "grid_column": null,
            "grid_gap": null,
            "grid_row": null,
            "grid_template_areas": null,
            "grid_template_columns": null,
            "grid_template_rows": null,
            "height": null,
            "justify_content": null,
            "justify_items": null,
            "left": null,
            "margin": null,
            "max_height": null,
            "max_width": null,
            "min_height": null,
            "min_width": null,
            "object_fit": null,
            "object_position": null,
            "order": null,
            "overflow": null,
            "overflow_x": null,
            "overflow_y": null,
            "padding": null,
            "right": null,
            "top": null,
            "visibility": null,
            "width": null
          }
        },
        "da0e7b7f7c994d4bbdbeeb26ed6188c0": {
          "model_module": "@jupyter-widgets/controls",
          "model_name": "DescriptionStyleModel",
          "model_module_version": "1.5.0",
          "state": {
            "_model_module": "@jupyter-widgets/controls",
            "_model_module_version": "1.5.0",
            "_model_name": "DescriptionStyleModel",
            "_view_count": null,
            "_view_module": "@jupyter-widgets/base",
            "_view_module_version": "1.2.0",
            "_view_name": "StyleView",
            "description_width": ""
          }
        },
        "9346d095bbf84b20911eb083989b73b3": {
          "model_module": "@jupyter-widgets/base",
          "model_name": "LayoutModel",
          "model_module_version": "1.2.0",
          "state": {
            "_model_module": "@jupyter-widgets/base",
            "_model_module_version": "1.2.0",
            "_model_name": "LayoutModel",
            "_view_count": null,
            "_view_module": "@jupyter-widgets/base",
            "_view_module_version": "1.2.0",
            "_view_name": "LayoutView",
            "align_content": null,
            "align_items": null,
            "align_self": null,
            "border": null,
            "bottom": null,
            "display": null,
            "flex": null,
            "flex_flow": null,
            "grid_area": null,
            "grid_auto_columns": null,
            "grid_auto_flow": null,
            "grid_auto_rows": null,
            "grid_column": null,
            "grid_gap": null,
            "grid_row": null,
            "grid_template_areas": null,
            "grid_template_columns": null,
            "grid_template_rows": null,
            "height": null,
            "justify_content": null,
            "justify_items": null,
            "left": null,
            "margin": null,
            "max_height": null,
            "max_width": null,
            "min_height": null,
            "min_width": null,
            "object_fit": null,
            "object_position": null,
            "order": null,
            "overflow": null,
            "overflow_x": null,
            "overflow_y": null,
            "padding": null,
            "right": null,
            "top": null,
            "visibility": null,
            "width": "20px"
          }
        },
        "8ff2acca2f8e49aeba84fadbfc893918": {
          "model_module": "@jupyter-widgets/controls",
          "model_name": "ProgressStyleModel",
          "model_module_version": "1.5.0",
          "state": {
            "_model_module": "@jupyter-widgets/controls",
            "_model_module_version": "1.5.0",
            "_model_name": "ProgressStyleModel",
            "_view_count": null,
            "_view_module": "@jupyter-widgets/base",
            "_view_module_version": "1.2.0",
            "_view_name": "StyleView",
            "bar_color": null,
            "description_width": ""
          }
        },
        "7047bffb1a8b450986172bbc369c721f": {
          "model_module": "@jupyter-widgets/base",
          "model_name": "LayoutModel",
          "model_module_version": "1.2.0",
          "state": {
            "_model_module": "@jupyter-widgets/base",
            "_model_module_version": "1.2.0",
            "_model_name": "LayoutModel",
            "_view_count": null,
            "_view_module": "@jupyter-widgets/base",
            "_view_module_version": "1.2.0",
            "_view_name": "LayoutView",
            "align_content": null,
            "align_items": null,
            "align_self": null,
            "border": null,
            "bottom": null,
            "display": null,
            "flex": null,
            "flex_flow": null,
            "grid_area": null,
            "grid_auto_columns": null,
            "grid_auto_flow": null,
            "grid_auto_rows": null,
            "grid_column": null,
            "grid_gap": null,
            "grid_row": null,
            "grid_template_areas": null,
            "grid_template_columns": null,
            "grid_template_rows": null,
            "height": null,
            "justify_content": null,
            "justify_items": null,
            "left": null,
            "margin": null,
            "max_height": null,
            "max_width": null,
            "min_height": null,
            "min_width": null,
            "object_fit": null,
            "object_position": null,
            "order": null,
            "overflow": null,
            "overflow_x": null,
            "overflow_y": null,
            "padding": null,
            "right": null,
            "top": null,
            "visibility": null,
            "width": null
          }
        },
        "8a5814d3a23944789064c2bfef6bf7f7": {
          "model_module": "@jupyter-widgets/controls",
          "model_name": "DescriptionStyleModel",
          "model_module_version": "1.5.0",
          "state": {
            "_model_module": "@jupyter-widgets/controls",
            "_model_module_version": "1.5.0",
            "_model_name": "DescriptionStyleModel",
            "_view_count": null,
            "_view_module": "@jupyter-widgets/base",
            "_view_module_version": "1.2.0",
            "_view_name": "StyleView",
            "description_width": ""
          }
        },
        "bb77473f96b84fe5b66640b4b84d7c69": {
          "model_module": "@jupyter-widgets/controls",
          "model_name": "HBoxModel",
          "model_module_version": "1.5.0",
          "state": {
            "_dom_classes": [],
            "_model_module": "@jupyter-widgets/controls",
            "_model_module_version": "1.5.0",
            "_model_name": "HBoxModel",
            "_view_count": null,
            "_view_module": "@jupyter-widgets/controls",
            "_view_module_version": "1.5.0",
            "_view_name": "HBoxView",
            "box_style": "",
            "children": [
              "IPY_MODEL_dd3b672969e149348701032d3d4faad8",
              "IPY_MODEL_be457fdee7274adaafe8923274bf432b",
              "IPY_MODEL_49b69b67932a47b18fdf28b7babbec4b"
            ],
            "layout": "IPY_MODEL_6b47d1e6b5b544e6a3df781a6e745434"
          }
        },
        "dd3b672969e149348701032d3d4faad8": {
          "model_module": "@jupyter-widgets/controls",
          "model_name": "HTMLModel",
          "model_module_version": "1.5.0",
          "state": {
            "_dom_classes": [],
            "_model_module": "@jupyter-widgets/controls",
            "_model_module_version": "1.5.0",
            "_model_name": "HTMLModel",
            "_view_count": null,
            "_view_module": "@jupyter-widgets/controls",
            "_view_module_version": "1.5.0",
            "_view_name": "HTMLView",
            "description": "",
            "description_tooltip": null,
            "layout": "IPY_MODEL_bf81e44ffb1c47739ae309962236b490",
            "placeholder": "​",
            "style": "IPY_MODEL_33f8bfa1920b42b5892eec6767631cc8",
            "value": "100%"
          }
        },
        "be457fdee7274adaafe8923274bf432b": {
          "model_module": "@jupyter-widgets/controls",
          "model_name": "FloatProgressModel",
          "model_module_version": "1.5.0",
          "state": {
            "_dom_classes": [],
            "_model_module": "@jupyter-widgets/controls",
            "_model_module_version": "1.5.0",
            "_model_name": "FloatProgressModel",
            "_view_count": null,
            "_view_module": "@jupyter-widgets/controls",
            "_view_module_version": "1.5.0",
            "_view_name": "ProgressView",
            "bar_style": "danger",
            "description": "",
            "description_tooltip": null,
            "layout": "IPY_MODEL_d821ba74fe2e4a778bfd6274b375bc83",
            "max": 120000,
            "min": 0,
            "orientation": "horizontal",
            "style": "IPY_MODEL_bf4d0d1c25124d44a3e6695874acc26e",
            "value": 119999
          }
        },
        "49b69b67932a47b18fdf28b7babbec4b": {
          "model_module": "@jupyter-widgets/controls",
          "model_name": "HTMLModel",
          "model_module_version": "1.5.0",
          "state": {
            "_dom_classes": [],
            "_model_module": "@jupyter-widgets/controls",
            "_model_module_version": "1.5.0",
            "_model_name": "HTMLModel",
            "_view_count": null,
            "_view_module": "@jupyter-widgets/controls",
            "_view_module_version": "1.5.0",
            "_view_name": "HTMLView",
            "description": "",
            "description_tooltip": null,
            "layout": "IPY_MODEL_05adf7e5395c4d3a98be6ad035b517cc",
            "placeholder": "​",
            "style": "IPY_MODEL_f1acd715bc6b47e9aafbda8d256a9923",
            "value": " 119999/120000 [00:00&lt;00:00, 287167.53 examples/s]"
          }
        },
        "6b47d1e6b5b544e6a3df781a6e745434": {
          "model_module": "@jupyter-widgets/base",
          "model_name": "LayoutModel",
          "model_module_version": "1.2.0",
          "state": {
            "_model_module": "@jupyter-widgets/base",
            "_model_module_version": "1.2.0",
            "_model_name": "LayoutModel",
            "_view_count": null,
            "_view_module": "@jupyter-widgets/base",
            "_view_module_version": "1.2.0",
            "_view_name": "LayoutView",
            "align_content": null,
            "align_items": null,
            "align_self": null,
            "border": null,
            "bottom": null,
            "display": null,
            "flex": null,
            "flex_flow": null,
            "grid_area": null,
            "grid_auto_columns": null,
            "grid_auto_flow": null,
            "grid_auto_rows": null,
            "grid_column": null,
            "grid_gap": null,
            "grid_row": null,
            "grid_template_areas": null,
            "grid_template_columns": null,
            "grid_template_rows": null,
            "height": null,
            "justify_content": null,
            "justify_items": null,
            "left": null,
            "margin": null,
            "max_height": null,
            "max_width": null,
            "min_height": null,
            "min_width": null,
            "object_fit": null,
            "object_position": null,
            "order": null,
            "overflow": null,
            "overflow_x": null,
            "overflow_y": null,
            "padding": null,
            "right": null,
            "top": null,
            "visibility": null,
            "width": null
          }
        },
        "bf81e44ffb1c47739ae309962236b490": {
          "model_module": "@jupyter-widgets/base",
          "model_name": "LayoutModel",
          "model_module_version": "1.2.0",
          "state": {
            "_model_module": "@jupyter-widgets/base",
            "_model_module_version": "1.2.0",
            "_model_name": "LayoutModel",
            "_view_count": null,
            "_view_module": "@jupyter-widgets/base",
            "_view_module_version": "1.2.0",
            "_view_name": "LayoutView",
            "align_content": null,
            "align_items": null,
            "align_self": null,
            "border": null,
            "bottom": null,
            "display": null,
            "flex": null,
            "flex_flow": null,
            "grid_area": null,
            "grid_auto_columns": null,
            "grid_auto_flow": null,
            "grid_auto_rows": null,
            "grid_column": null,
            "grid_gap": null,
            "grid_row": null,
            "grid_template_areas": null,
            "grid_template_columns": null,
            "grid_template_rows": null,
            "height": null,
            "justify_content": null,
            "justify_items": null,
            "left": null,
            "margin": null,
            "max_height": null,
            "max_width": null,
            "min_height": null,
            "min_width": null,
            "object_fit": null,
            "object_position": null,
            "order": null,
            "overflow": null,
            "overflow_x": null,
            "overflow_y": null,
            "padding": null,
            "right": null,
            "top": null,
            "visibility": null,
            "width": null
          }
        },
        "33f8bfa1920b42b5892eec6767631cc8": {
          "model_module": "@jupyter-widgets/controls",
          "model_name": "DescriptionStyleModel",
          "model_module_version": "1.5.0",
          "state": {
            "_model_module": "@jupyter-widgets/controls",
            "_model_module_version": "1.5.0",
            "_model_name": "DescriptionStyleModel",
            "_view_count": null,
            "_view_module": "@jupyter-widgets/base",
            "_view_module_version": "1.2.0",
            "_view_name": "StyleView",
            "description_width": ""
          }
        },
        "d821ba74fe2e4a778bfd6274b375bc83": {
          "model_module": "@jupyter-widgets/base",
          "model_name": "LayoutModel",
          "model_module_version": "1.2.0",
          "state": {
            "_model_module": "@jupyter-widgets/base",
            "_model_module_version": "1.2.0",
            "_model_name": "LayoutModel",
            "_view_count": null,
            "_view_module": "@jupyter-widgets/base",
            "_view_module_version": "1.2.0",
            "_view_name": "LayoutView",
            "align_content": null,
            "align_items": null,
            "align_self": null,
            "border": null,
            "bottom": null,
            "display": null,
            "flex": null,
            "flex_flow": null,
            "grid_area": null,
            "grid_auto_columns": null,
            "grid_auto_flow": null,
            "grid_auto_rows": null,
            "grid_column": null,
            "grid_gap": null,
            "grid_row": null,
            "grid_template_areas": null,
            "grid_template_columns": null,
            "grid_template_rows": null,
            "height": null,
            "justify_content": null,
            "justify_items": null,
            "left": null,
            "margin": null,
            "max_height": null,
            "max_width": null,
            "min_height": null,
            "min_width": null,
            "object_fit": null,
            "object_position": null,
            "order": null,
            "overflow": null,
            "overflow_x": null,
            "overflow_y": null,
            "padding": null,
            "right": null,
            "top": null,
            "visibility": null,
            "width": null
          }
        },
        "bf4d0d1c25124d44a3e6695874acc26e": {
          "model_module": "@jupyter-widgets/controls",
          "model_name": "ProgressStyleModel",
          "model_module_version": "1.5.0",
          "state": {
            "_model_module": "@jupyter-widgets/controls",
            "_model_module_version": "1.5.0",
            "_model_name": "ProgressStyleModel",
            "_view_count": null,
            "_view_module": "@jupyter-widgets/base",
            "_view_module_version": "1.2.0",
            "_view_name": "StyleView",
            "bar_color": null,
            "description_width": ""
          }
        },
        "05adf7e5395c4d3a98be6ad035b517cc": {
          "model_module": "@jupyter-widgets/base",
          "model_name": "LayoutModel",
          "model_module_version": "1.2.0",
          "state": {
            "_model_module": "@jupyter-widgets/base",
            "_model_module_version": "1.2.0",
            "_model_name": "LayoutModel",
            "_view_count": null,
            "_view_module": "@jupyter-widgets/base",
            "_view_module_version": "1.2.0",
            "_view_name": "LayoutView",
            "align_content": null,
            "align_items": null,
            "align_self": null,
            "border": null,
            "bottom": null,
            "display": null,
            "flex": null,
            "flex_flow": null,
            "grid_area": null,
            "grid_auto_columns": null,
            "grid_auto_flow": null,
            "grid_auto_rows": null,
            "grid_column": null,
            "grid_gap": null,
            "grid_row": null,
            "grid_template_areas": null,
            "grid_template_columns": null,
            "grid_template_rows": null,
            "height": null,
            "justify_content": null,
            "justify_items": null,
            "left": null,
            "margin": null,
            "max_height": null,
            "max_width": null,
            "min_height": null,
            "min_width": null,
            "object_fit": null,
            "object_position": null,
            "order": null,
            "overflow": null,
            "overflow_x": null,
            "overflow_y": null,
            "padding": null,
            "right": null,
            "top": null,
            "visibility": null,
            "width": null
          }
        },
        "f1acd715bc6b47e9aafbda8d256a9923": {
          "model_module": "@jupyter-widgets/controls",
          "model_name": "DescriptionStyleModel",
          "model_module_version": "1.5.0",
          "state": {
            "_model_module": "@jupyter-widgets/controls",
            "_model_module_version": "1.5.0",
            "_model_name": "DescriptionStyleModel",
            "_view_count": null,
            "_view_module": "@jupyter-widgets/base",
            "_view_module_version": "1.2.0",
            "_view_name": "StyleView",
            "description_width": ""
          }
        },
        "f6f63e41e41f4becbef1098cd3e2efee": {
          "model_module": "@jupyter-widgets/controls",
          "model_name": "HBoxModel",
          "model_module_version": "1.5.0",
          "state": {
            "_dom_classes": [],
            "_model_module": "@jupyter-widgets/controls",
            "_model_module_version": "1.5.0",
            "_model_name": "HBoxModel",
            "_view_count": null,
            "_view_module": "@jupyter-widgets/controls",
            "_view_module_version": "1.5.0",
            "_view_name": "HBoxView",
            "box_style": "",
            "children": [
              "IPY_MODEL_b08b0f75aac248bca1fbc7010b9f3f8b",
              "IPY_MODEL_284cab5940ed46e8ab72312b736d0436",
              "IPY_MODEL_27d43bf3fcab49b2909da68c37ec4487"
            ],
            "layout": "IPY_MODEL_0dbbaafb19af43a7be16abd81d91b11c"
          }
        },
        "b08b0f75aac248bca1fbc7010b9f3f8b": {
          "model_module": "@jupyter-widgets/controls",
          "model_name": "HTMLModel",
          "model_module_version": "1.5.0",
          "state": {
            "_dom_classes": [],
            "_model_module": "@jupyter-widgets/controls",
            "_model_module_version": "1.5.0",
            "_model_name": "HTMLModel",
            "_view_count": null,
            "_view_module": "@jupyter-widgets/controls",
            "_view_module_version": "1.5.0",
            "_view_name": "HTMLView",
            "description": "",
            "description_tooltip": null,
            "layout": "IPY_MODEL_3bc6079b37d14aed81302b0cb285f6d9",
            "placeholder": "​",
            "style": "IPY_MODEL_fff93501358f4b9c9b368a468ca48ff4",
            "value": ""
          }
        },
        "284cab5940ed46e8ab72312b736d0436": {
          "model_module": "@jupyter-widgets/controls",
          "model_name": "FloatProgressModel",
          "model_module_version": "1.5.0",
          "state": {
            "_dom_classes": [],
            "_model_module": "@jupyter-widgets/controls",
            "_model_module_version": "1.5.0",
            "_model_name": "FloatProgressModel",
            "_view_count": null,
            "_view_module": "@jupyter-widgets/controls",
            "_view_module_version": "1.5.0",
            "_view_name": "ProgressView",
            "bar_style": "info",
            "description": "",
            "description_tooltip": null,
            "layout": "IPY_MODEL_2144303f0dec4a499cb69da25b67120e",
            "max": 1,
            "min": 0,
            "orientation": "horizontal",
            "style": "IPY_MODEL_6d4f8ac660f84035a130670ad389219f",
            "value": 1
          }
        },
        "27d43bf3fcab49b2909da68c37ec4487": {
          "model_module": "@jupyter-widgets/controls",
          "model_name": "HTMLModel",
          "model_module_version": "1.5.0",
          "state": {
            "_dom_classes": [],
            "_model_module": "@jupyter-widgets/controls",
            "_model_module_version": "1.5.0",
            "_model_name": "HTMLModel",
            "_view_count": null,
            "_view_module": "@jupyter-widgets/controls",
            "_view_module_version": "1.5.0",
            "_view_name": "HTMLView",
            "description": "",
            "description_tooltip": null,
            "layout": "IPY_MODEL_4de6487d46924db4953c3a46df6a4dc6",
            "placeholder": "​",
            "style": "IPY_MODEL_82de03bc142648fe911eaf9877eb4201",
            "value": " 7479/0 [00:01&lt;00:00, 4511.89 examples/s]"
          }
        },
        "0dbbaafb19af43a7be16abd81d91b11c": {
          "model_module": "@jupyter-widgets/base",
          "model_name": "LayoutModel",
          "model_module_version": "1.2.0",
          "state": {
            "_model_module": "@jupyter-widgets/base",
            "_model_module_version": "1.2.0",
            "_model_name": "LayoutModel",
            "_view_count": null,
            "_view_module": "@jupyter-widgets/base",
            "_view_module_version": "1.2.0",
            "_view_name": "LayoutView",
            "align_content": null,
            "align_items": null,
            "align_self": null,
            "border": null,
            "bottom": null,
            "display": null,
            "flex": null,
            "flex_flow": null,
            "grid_area": null,
            "grid_auto_columns": null,
            "grid_auto_flow": null,
            "grid_auto_rows": null,
            "grid_column": null,
            "grid_gap": null,
            "grid_row": null,
            "grid_template_areas": null,
            "grid_template_columns": null,
            "grid_template_rows": null,
            "height": null,
            "justify_content": null,
            "justify_items": null,
            "left": null,
            "margin": null,
            "max_height": null,
            "max_width": null,
            "min_height": null,
            "min_width": null,
            "object_fit": null,
            "object_position": null,
            "order": null,
            "overflow": null,
            "overflow_x": null,
            "overflow_y": null,
            "padding": null,
            "right": null,
            "top": null,
            "visibility": null,
            "width": null
          }
        },
        "3bc6079b37d14aed81302b0cb285f6d9": {
          "model_module": "@jupyter-widgets/base",
          "model_name": "LayoutModel",
          "model_module_version": "1.2.0",
          "state": {
            "_model_module": "@jupyter-widgets/base",
            "_model_module_version": "1.2.0",
            "_model_name": "LayoutModel",
            "_view_count": null,
            "_view_module": "@jupyter-widgets/base",
            "_view_module_version": "1.2.0",
            "_view_name": "LayoutView",
            "align_content": null,
            "align_items": null,
            "align_self": null,
            "border": null,
            "bottom": null,
            "display": null,
            "flex": null,
            "flex_flow": null,
            "grid_area": null,
            "grid_auto_columns": null,
            "grid_auto_flow": null,
            "grid_auto_rows": null,
            "grid_column": null,
            "grid_gap": null,
            "grid_row": null,
            "grid_template_areas": null,
            "grid_template_columns": null,
            "grid_template_rows": null,
            "height": null,
            "justify_content": null,
            "justify_items": null,
            "left": null,
            "margin": null,
            "max_height": null,
            "max_width": null,
            "min_height": null,
            "min_width": null,
            "object_fit": null,
            "object_position": null,
            "order": null,
            "overflow": null,
            "overflow_x": null,
            "overflow_y": null,
            "padding": null,
            "right": null,
            "top": null,
            "visibility": null,
            "width": null
          }
        },
        "fff93501358f4b9c9b368a468ca48ff4": {
          "model_module": "@jupyter-widgets/controls",
          "model_name": "DescriptionStyleModel",
          "model_module_version": "1.5.0",
          "state": {
            "_model_module": "@jupyter-widgets/controls",
            "_model_module_version": "1.5.0",
            "_model_name": "DescriptionStyleModel",
            "_view_count": null,
            "_view_module": "@jupyter-widgets/base",
            "_view_module_version": "1.2.0",
            "_view_name": "StyleView",
            "description_width": ""
          }
        },
        "2144303f0dec4a499cb69da25b67120e": {
          "model_module": "@jupyter-widgets/base",
          "model_name": "LayoutModel",
          "model_module_version": "1.2.0",
          "state": {
            "_model_module": "@jupyter-widgets/base",
            "_model_module_version": "1.2.0",
            "_model_name": "LayoutModel",
            "_view_count": null,
            "_view_module": "@jupyter-widgets/base",
            "_view_module_version": "1.2.0",
            "_view_name": "LayoutView",
            "align_content": null,
            "align_items": null,
            "align_self": null,
            "border": null,
            "bottom": null,
            "display": null,
            "flex": null,
            "flex_flow": null,
            "grid_area": null,
            "grid_auto_columns": null,
            "grid_auto_flow": null,
            "grid_auto_rows": null,
            "grid_column": null,
            "grid_gap": null,
            "grid_row": null,
            "grid_template_areas": null,
            "grid_template_columns": null,
            "grid_template_rows": null,
            "height": null,
            "justify_content": null,
            "justify_items": null,
            "left": null,
            "margin": null,
            "max_height": null,
            "max_width": null,
            "min_height": null,
            "min_width": null,
            "object_fit": null,
            "object_position": null,
            "order": null,
            "overflow": null,
            "overflow_x": null,
            "overflow_y": null,
            "padding": null,
            "right": null,
            "top": null,
            "visibility": null,
            "width": "20px"
          }
        },
        "6d4f8ac660f84035a130670ad389219f": {
          "model_module": "@jupyter-widgets/controls",
          "model_name": "ProgressStyleModel",
          "model_module_version": "1.5.0",
          "state": {
            "_model_module": "@jupyter-widgets/controls",
            "_model_module_version": "1.5.0",
            "_model_name": "ProgressStyleModel",
            "_view_count": null,
            "_view_module": "@jupyter-widgets/base",
            "_view_module_version": "1.2.0",
            "_view_name": "StyleView",
            "bar_color": null,
            "description_width": ""
          }
        },
        "4de6487d46924db4953c3a46df6a4dc6": {
          "model_module": "@jupyter-widgets/base",
          "model_name": "LayoutModel",
          "model_module_version": "1.2.0",
          "state": {
            "_model_module": "@jupyter-widgets/base",
            "_model_module_version": "1.2.0",
            "_model_name": "LayoutModel",
            "_view_count": null,
            "_view_module": "@jupyter-widgets/base",
            "_view_module_version": "1.2.0",
            "_view_name": "LayoutView",
            "align_content": null,
            "align_items": null,
            "align_self": null,
            "border": null,
            "bottom": null,
            "display": null,
            "flex": null,
            "flex_flow": null,
            "grid_area": null,
            "grid_auto_columns": null,
            "grid_auto_flow": null,
            "grid_auto_rows": null,
            "grid_column": null,
            "grid_gap": null,
            "grid_row": null,
            "grid_template_areas": null,
            "grid_template_columns": null,
            "grid_template_rows": null,
            "height": null,
            "justify_content": null,
            "justify_items": null,
            "left": null,
            "margin": null,
            "max_height": null,
            "max_width": null,
            "min_height": null,
            "min_width": null,
            "object_fit": null,
            "object_position": null,
            "order": null,
            "overflow": null,
            "overflow_x": null,
            "overflow_y": null,
            "padding": null,
            "right": null,
            "top": null,
            "visibility": null,
            "width": null
          }
        },
        "82de03bc142648fe911eaf9877eb4201": {
          "model_module": "@jupyter-widgets/controls",
          "model_name": "DescriptionStyleModel",
          "model_module_version": "1.5.0",
          "state": {
            "_model_module": "@jupyter-widgets/controls",
            "_model_module_version": "1.5.0",
            "_model_name": "DescriptionStyleModel",
            "_view_count": null,
            "_view_module": "@jupyter-widgets/base",
            "_view_module_version": "1.2.0",
            "_view_name": "StyleView",
            "description_width": ""
          }
        },
        "d7451b60a06d471d923273b65b93c089": {
          "model_module": "@jupyter-widgets/controls",
          "model_name": "HBoxModel",
          "model_module_version": "1.5.0",
          "state": {
            "_dom_classes": [],
            "_model_module": "@jupyter-widgets/controls",
            "_model_module_version": "1.5.0",
            "_model_name": "HBoxModel",
            "_view_count": null,
            "_view_module": "@jupyter-widgets/controls",
            "_view_module_version": "1.5.0",
            "_view_name": "HBoxView",
            "box_style": "",
            "children": [
              "IPY_MODEL_7d65c45cc62044058edcb13f4920d659",
              "IPY_MODEL_1e579e9ee9b548e1b174b5fdaf14b4bf",
              "IPY_MODEL_2eaef58eab1b484ba069d284a2d65d9a"
            ],
            "layout": "IPY_MODEL_cecf3153e4fd4b7dab3e979151f32acd"
          }
        },
        "7d65c45cc62044058edcb13f4920d659": {
          "model_module": "@jupyter-widgets/controls",
          "model_name": "HTMLModel",
          "model_module_version": "1.5.0",
          "state": {
            "_dom_classes": [],
            "_model_module": "@jupyter-widgets/controls",
            "_model_module_version": "1.5.0",
            "_model_name": "HTMLModel",
            "_view_count": null,
            "_view_module": "@jupyter-widgets/controls",
            "_view_module_version": "1.5.0",
            "_view_name": "HTMLView",
            "description": "",
            "description_tooltip": null,
            "layout": "IPY_MODEL_49ec23757d9f4c91b2969ecdceaae55b",
            "placeholder": "​",
            "style": "IPY_MODEL_c25bddddb82f43b59f7415773ef08862",
            "value": "100%"
          }
        },
        "1e579e9ee9b548e1b174b5fdaf14b4bf": {
          "model_module": "@jupyter-widgets/controls",
          "model_name": "FloatProgressModel",
          "model_module_version": "1.5.0",
          "state": {
            "_dom_classes": [],
            "_model_module": "@jupyter-widgets/controls",
            "_model_module_version": "1.5.0",
            "_model_name": "FloatProgressModel",
            "_view_count": null,
            "_view_module": "@jupyter-widgets/controls",
            "_view_module_version": "1.5.0",
            "_view_name": "ProgressView",
            "bar_style": "danger",
            "description": "",
            "description_tooltip": null,
            "layout": "IPY_MODEL_11ac2c8aa175421b931a7ccf9a7d7575",
            "max": 7600,
            "min": 0,
            "orientation": "horizontal",
            "style": "IPY_MODEL_087225847e6945bdabd69dab751ba4f9",
            "value": 7599
          }
        },
        "2eaef58eab1b484ba069d284a2d65d9a": {
          "model_module": "@jupyter-widgets/controls",
          "model_name": "HTMLModel",
          "model_module_version": "1.5.0",
          "state": {
            "_dom_classes": [],
            "_model_module": "@jupyter-widgets/controls",
            "_model_module_version": "1.5.0",
            "_model_name": "HTMLModel",
            "_view_count": null,
            "_view_module": "@jupyter-widgets/controls",
            "_view_module_version": "1.5.0",
            "_view_name": "HTMLView",
            "description": "",
            "description_tooltip": null,
            "layout": "IPY_MODEL_a49a87f0dcaa49efaa3f4c702de351ce",
            "placeholder": "​",
            "style": "IPY_MODEL_bfaa9f26e11f481999482fda617ba723",
            "value": " 7599/7600 [00:00&lt;00:00, 104793.47 examples/s]"
          }
        },
        "cecf3153e4fd4b7dab3e979151f32acd": {
          "model_module": "@jupyter-widgets/base",
          "model_name": "LayoutModel",
          "model_module_version": "1.2.0",
          "state": {
            "_model_module": "@jupyter-widgets/base",
            "_model_module_version": "1.2.0",
            "_model_name": "LayoutModel",
            "_view_count": null,
            "_view_module": "@jupyter-widgets/base",
            "_view_module_version": "1.2.0",
            "_view_name": "LayoutView",
            "align_content": null,
            "align_items": null,
            "align_self": null,
            "border": null,
            "bottom": null,
            "display": null,
            "flex": null,
            "flex_flow": null,
            "grid_area": null,
            "grid_auto_columns": null,
            "grid_auto_flow": null,
            "grid_auto_rows": null,
            "grid_column": null,
            "grid_gap": null,
            "grid_row": null,
            "grid_template_areas": null,
            "grid_template_columns": null,
            "grid_template_rows": null,
            "height": null,
            "justify_content": null,
            "justify_items": null,
            "left": null,
            "margin": null,
            "max_height": null,
            "max_width": null,
            "min_height": null,
            "min_width": null,
            "object_fit": null,
            "object_position": null,
            "order": null,
            "overflow": null,
            "overflow_x": null,
            "overflow_y": null,
            "padding": null,
            "right": null,
            "top": null,
            "visibility": null,
            "width": null
          }
        },
        "49ec23757d9f4c91b2969ecdceaae55b": {
          "model_module": "@jupyter-widgets/base",
          "model_name": "LayoutModel",
          "model_module_version": "1.2.0",
          "state": {
            "_model_module": "@jupyter-widgets/base",
            "_model_module_version": "1.2.0",
            "_model_name": "LayoutModel",
            "_view_count": null,
            "_view_module": "@jupyter-widgets/base",
            "_view_module_version": "1.2.0",
            "_view_name": "LayoutView",
            "align_content": null,
            "align_items": null,
            "align_self": null,
            "border": null,
            "bottom": null,
            "display": null,
            "flex": null,
            "flex_flow": null,
            "grid_area": null,
            "grid_auto_columns": null,
            "grid_auto_flow": null,
            "grid_auto_rows": null,
            "grid_column": null,
            "grid_gap": null,
            "grid_row": null,
            "grid_template_areas": null,
            "grid_template_columns": null,
            "grid_template_rows": null,
            "height": null,
            "justify_content": null,
            "justify_items": null,
            "left": null,
            "margin": null,
            "max_height": null,
            "max_width": null,
            "min_height": null,
            "min_width": null,
            "object_fit": null,
            "object_position": null,
            "order": null,
            "overflow": null,
            "overflow_x": null,
            "overflow_y": null,
            "padding": null,
            "right": null,
            "top": null,
            "visibility": null,
            "width": null
          }
        },
        "c25bddddb82f43b59f7415773ef08862": {
          "model_module": "@jupyter-widgets/controls",
          "model_name": "DescriptionStyleModel",
          "model_module_version": "1.5.0",
          "state": {
            "_model_module": "@jupyter-widgets/controls",
            "_model_module_version": "1.5.0",
            "_model_name": "DescriptionStyleModel",
            "_view_count": null,
            "_view_module": "@jupyter-widgets/base",
            "_view_module_version": "1.2.0",
            "_view_name": "StyleView",
            "description_width": ""
          }
        },
        "11ac2c8aa175421b931a7ccf9a7d7575": {
          "model_module": "@jupyter-widgets/base",
          "model_name": "LayoutModel",
          "model_module_version": "1.2.0",
          "state": {
            "_model_module": "@jupyter-widgets/base",
            "_model_module_version": "1.2.0",
            "_model_name": "LayoutModel",
            "_view_count": null,
            "_view_module": "@jupyter-widgets/base",
            "_view_module_version": "1.2.0",
            "_view_name": "LayoutView",
            "align_content": null,
            "align_items": null,
            "align_self": null,
            "border": null,
            "bottom": null,
            "display": null,
            "flex": null,
            "flex_flow": null,
            "grid_area": null,
            "grid_auto_columns": null,
            "grid_auto_flow": null,
            "grid_auto_rows": null,
            "grid_column": null,
            "grid_gap": null,
            "grid_row": null,
            "grid_template_areas": null,
            "grid_template_columns": null,
            "grid_template_rows": null,
            "height": null,
            "justify_content": null,
            "justify_items": null,
            "left": null,
            "margin": null,
            "max_height": null,
            "max_width": null,
            "min_height": null,
            "min_width": null,
            "object_fit": null,
            "object_position": null,
            "order": null,
            "overflow": null,
            "overflow_x": null,
            "overflow_y": null,
            "padding": null,
            "right": null,
            "top": null,
            "visibility": null,
            "width": null
          }
        },
        "087225847e6945bdabd69dab751ba4f9": {
          "model_module": "@jupyter-widgets/controls",
          "model_name": "ProgressStyleModel",
          "model_module_version": "1.5.0",
          "state": {
            "_model_module": "@jupyter-widgets/controls",
            "_model_module_version": "1.5.0",
            "_model_name": "ProgressStyleModel",
            "_view_count": null,
            "_view_module": "@jupyter-widgets/base",
            "_view_module_version": "1.2.0",
            "_view_name": "StyleView",
            "bar_color": null,
            "description_width": ""
          }
        },
        "a49a87f0dcaa49efaa3f4c702de351ce": {
          "model_module": "@jupyter-widgets/base",
          "model_name": "LayoutModel",
          "model_module_version": "1.2.0",
          "state": {
            "_model_module": "@jupyter-widgets/base",
            "_model_module_version": "1.2.0",
            "_model_name": "LayoutModel",
            "_view_count": null,
            "_view_module": "@jupyter-widgets/base",
            "_view_module_version": "1.2.0",
            "_view_name": "LayoutView",
            "align_content": null,
            "align_items": null,
            "align_self": null,
            "border": null,
            "bottom": null,
            "display": null,
            "flex": null,
            "flex_flow": null,
            "grid_area": null,
            "grid_auto_columns": null,
            "grid_auto_flow": null,
            "grid_auto_rows": null,
            "grid_column": null,
            "grid_gap": null,
            "grid_row": null,
            "grid_template_areas": null,
            "grid_template_columns": null,
            "grid_template_rows": null,
            "height": null,
            "justify_content": null,
            "justify_items": null,
            "left": null,
            "margin": null,
            "max_height": null,
            "max_width": null,
            "min_height": null,
            "min_width": null,
            "object_fit": null,
            "object_position": null,
            "order": null,
            "overflow": null,
            "overflow_x": null,
            "overflow_y": null,
            "padding": null,
            "right": null,
            "top": null,
            "visibility": null,
            "width": null
          }
        },
        "bfaa9f26e11f481999482fda617ba723": {
          "model_module": "@jupyter-widgets/controls",
          "model_name": "DescriptionStyleModel",
          "model_module_version": "1.5.0",
          "state": {
            "_model_module": "@jupyter-widgets/controls",
            "_model_module_version": "1.5.0",
            "_model_name": "DescriptionStyleModel",
            "_view_count": null,
            "_view_module": "@jupyter-widgets/base",
            "_view_module_version": "1.2.0",
            "_view_name": "StyleView",
            "description_width": ""
          }
        }
      }
    }
  },
  "cells": [
    {
      "cell_type": "markdown",
      "source": [
        "#**Deep Learning Homework 2: *Optimize and Train Deep Models***\n",
        "### MSc Computer Science, Data Science, Cybersecurity @UniPD\n",
        "### 2nd semester - 6 ECTS\n",
        "### Prof. Nicolò Navarin & Prof. Alessandro Sperduti\n",
        "---"
      ],
      "metadata": {
        "id": "raUKrVPW0SO1"
      }
    },
    {
      "cell_type": "markdown",
      "metadata": {
        "id": "QUc9frYnVBI_"
      },
      "source": [
        "In this homework, we will explore how to develop a simple Deep Neural Network for a classification problem. We will explore two common libraries: TensorFlow and Keras.\n",
        "Then we will explore how to face a well known problem that is common to encounter during the training phase: the Overfitting.\n",
        "Finally, we will study how to perform a fair model selection.\n",
        "Hint: Before starting the exercise take a look at how Tensorflow and Keras are designed.  https://keras.io/"
      ]
    },
    {
      "cell_type": "markdown",
      "metadata": {
        "id": "e-Nc7mFSVEiU"
      },
      "source": [
        "##Exercise 2.1: Text Classficiation with Tensorflow and Keras\n",
        "\n",
        "In this first exercise we will develop a 3 layers Neural Network to perfrom classification.\n",
        "\n",
        "Let's start importing the libraries we will need and setting a couple of environmental variables.\n"
      ]
    },
    {
      "cell_type": "code",
      "metadata": {
        "id": "bWn9FzneVqJo"
      },
      "source": [
        "import matplotlib as mpl\n",
        "import matplotlib.pyplot as plt\n",
        "import numpy as np\n",
        "import os\n",
        "import pandas as pd\n",
        "import sklearn\n",
        "import sys\n",
        "import tensorflow as tf\n",
        "from tensorflow import keras  # tf.keras\n",
        "import tensorflow_datasets as tfds\n",
        "import time\n",
        "\n",
        "import logging\n",
        "logging.disable(logging.WARNING)\n",
        "os.environ[\"TF_CPP_MIN_LOG_LEVEL\"] = \"3\"\n",
        "\n",
        "tf.random.set_seed(42)\n",
        "# os.environ['TF_DETERMINISTIC_OPS']='1'"
      ],
      "execution_count": null,
      "outputs": []
    },
    {
      "cell_type": "markdown",
      "metadata": {
        "id": "LT2HMYDEXcx0"
      },
      "source": [
        "### Load Data: AG News Subset\n",
        "\n",
        "In this HW, we use the AG News Subset that is available in Tensorflow Dataset. The AG's news topic classification dataset is constructed by choosing the 4 largest topic classes from a larger news corups. The total number of training samples is 120,000 and testing 7,600. Each class contains 30,000 training samples and 1,900 testing samples. Each sample contains both the title and an excerpt of the article, but in this exercise we will use only the excerpt as input.\n",
        "\n",
        "We will split the training set into two 90%-10% splits in order to have a validation set."
      ]
    },
    {
      "cell_type": "code",
      "source": [
        "### NOTE ###\n",
        "# running this cell might yield download-related errors.\n",
        "# just repeating the execution a couple of times should solve the error.\n",
        "\n",
        "train_ds, valid_ds, test_ds = tfds.load('ag_news_subset',\n",
        "                                        as_supervised=True, # return a set of (text, label) tuples\n",
        "                                        split=['train[:90%]', 'train[-10%:]', 'test'],\n",
        "                                        batch_size=-1)\n",
        "                                        # ^ using batch_size=-1 returns Tensors instead of Dataset objects"
      ],
      "metadata": {
        "id": "d8xZASzs26zD",
        "colab": {
          "base_uri": "https://localhost:8080/",
          "height": 318,
          "referenced_widgets": [
            "1a5b163ec8a14a0b8ab568dabf391d46",
            "af7aaa94548b4ad58d24157ee10bcfb8",
            "baf9d744152f4a0186fc3a5bab328bc6",
            "fbac4bd45b0e4c2faa5c6156fa8a5d3d",
            "c54870442087401687ec9c14fb4e9c54",
            "7e4bd94a64cd4c8ab9861091e710d2d6",
            "428511f4446a4278b66e3c9f588c652a",
            "e79da07d0b7947bbaced1df1ea1bb4dc",
            "16be059d60e043e5b006b74a49ce552c",
            "0becff616b00471b94dc4e037764234a",
            "a2b82be6b0204e349cb3392030b3db98",
            "31bc9fb0a18b40ebaf888263ff189680",
            "b961ab5d711f4f94807bbf0867f4fed1",
            "1120ab9e31c741298b6134689e8163b8",
            "c45418feeb934bb29daeb793fedbacd2",
            "7aa102cae505496f9673b302e355c186",
            "22857230d1bb49dcbd610114bf74d93d",
            "82e04d7427f44d2281e71cf6a1cbac0d",
            "065f02e52d964d83a170e50761e6b07a",
            "e6af15f04bc04a2f96219a786d31010d",
            "292527f1342949af97b509364abca3e2",
            "03ae6a09a8f7451ca7df4e493b57587d",
            "6e7d8326003841959e5d656d012cb791",
            "fb621e8437864993807c57da88723b19",
            "d492328bd4834da7a40a0c625217e628",
            "6df277d6717647ec88fd999b4f2478ab",
            "53011407c85943389f044b77b0b90107",
            "cf883c2310ba47e69268605d1fb44c3c",
            "c112ad230aac41748b8a224add014b76",
            "47929d297d2d46bdb7af0961b61853f1",
            "2f9e17b10e644c9895a8b961dc3f5e2c",
            "5053b89c05694d7cbd5c83d27bb83bb4",
            "d08c6a8b26844c15879f3d4c27e91a79",
            "8f5595e305d84bd49b28c788b74df078",
            "033fa818fa524abf89b3404e3f704fb0",
            "4aa50f6b8cb6480fbc54f218420d1565",
            "ac7dfcbd98044ed3b6f388b012df9119",
            "262efac55e2d4a37a6b59ac96f4b028b",
            "fd72787dc89749ba968fb29ec2567efa",
            "da0e7b7f7c994d4bbdbeeb26ed6188c0",
            "9346d095bbf84b20911eb083989b73b3",
            "8ff2acca2f8e49aeba84fadbfc893918",
            "7047bffb1a8b450986172bbc369c721f",
            "8a5814d3a23944789064c2bfef6bf7f7",
            "bb77473f96b84fe5b66640b4b84d7c69",
            "dd3b672969e149348701032d3d4faad8",
            "be457fdee7274adaafe8923274bf432b",
            "49b69b67932a47b18fdf28b7babbec4b",
            "6b47d1e6b5b544e6a3df781a6e745434",
            "bf81e44ffb1c47739ae309962236b490",
            "33f8bfa1920b42b5892eec6767631cc8",
            "d821ba74fe2e4a778bfd6274b375bc83",
            "bf4d0d1c25124d44a3e6695874acc26e",
            "05adf7e5395c4d3a98be6ad035b517cc",
            "f1acd715bc6b47e9aafbda8d256a9923",
            "f6f63e41e41f4becbef1098cd3e2efee",
            "b08b0f75aac248bca1fbc7010b9f3f8b",
            "284cab5940ed46e8ab72312b736d0436",
            "27d43bf3fcab49b2909da68c37ec4487",
            "0dbbaafb19af43a7be16abd81d91b11c",
            "3bc6079b37d14aed81302b0cb285f6d9",
            "fff93501358f4b9c9b368a468ca48ff4",
            "2144303f0dec4a499cb69da25b67120e",
            "6d4f8ac660f84035a130670ad389219f",
            "4de6487d46924db4953c3a46df6a4dc6",
            "82de03bc142648fe911eaf9877eb4201",
            "d7451b60a06d471d923273b65b93c089",
            "7d65c45cc62044058edcb13f4920d659",
            "1e579e9ee9b548e1b174b5fdaf14b4bf",
            "2eaef58eab1b484ba069d284a2d65d9a",
            "cecf3153e4fd4b7dab3e979151f32acd",
            "49ec23757d9f4c91b2969ecdceaae55b",
            "c25bddddb82f43b59f7415773ef08862",
            "11ac2c8aa175421b931a7ccf9a7d7575",
            "087225847e6945bdabd69dab751ba4f9",
            "a49a87f0dcaa49efaa3f4c702de351ce",
            "bfaa9f26e11f481999482fda617ba723"
          ]
        },
        "outputId": "8ca75678-00a7-4b5d-daf2-3f6dfaf8f3e2"
      },
      "execution_count": null,
      "outputs": [
        {
          "output_type": "stream",
          "name": "stdout",
          "text": [
            "\u001b[1mDownloading and preparing dataset ag_news_subset/1.0.0 (download: 11.24 MiB, generated: 35.79 MiB, total: 47.03 MiB) to /root/tensorflow_datasets/ag_news_subset/1.0.0...\u001b[0m\n"
          ]
        },
        {
          "output_type": "display_data",
          "data": {
            "text/plain": [
              "Dl Completed...: 0 url [00:00, ? url/s]"
            ],
            "application/vnd.jupyter.widget-view+json": {
              "version_major": 2,
              "version_minor": 0,
              "model_id": "1a5b163ec8a14a0b8ab568dabf391d46"
            }
          },
          "metadata": {}
        },
        {
          "output_type": "display_data",
          "data": {
            "text/plain": [
              "Dl Size...: 0 MiB [00:00, ? MiB/s]"
            ],
            "application/vnd.jupyter.widget-view+json": {
              "version_major": 2,
              "version_minor": 0,
              "model_id": "31bc9fb0a18b40ebaf888263ff189680"
            }
          },
          "metadata": {}
        },
        {
          "output_type": "display_data",
          "data": {
            "text/plain": [
              "Extraction completed...: 0 file [00:00, ? file/s]"
            ],
            "application/vnd.jupyter.widget-view+json": {
              "version_major": 2,
              "version_minor": 0,
              "model_id": "6e7d8326003841959e5d656d012cb791"
            }
          },
          "metadata": {}
        },
        {
          "output_type": "stream",
          "name": "stdout",
          "text": [
            "\n",
            "\n",
            "\n"
          ]
        },
        {
          "output_type": "display_data",
          "data": {
            "text/plain": [
              "0 examples [00:00, ? examples/s]"
            ],
            "application/vnd.jupyter.widget-view+json": {
              "version_major": 2,
              "version_minor": 0,
              "model_id": "8f5595e305d84bd49b28c788b74df078"
            }
          },
          "metadata": {}
        },
        {
          "output_type": "stream",
          "name": "stdout",
          "text": [
            "Shuffling and writing examples to /root/tensorflow_datasets/ag_news_subset/1.0.0.incomplete6LI740/ag_news_subset-train.tfrecord\n"
          ]
        },
        {
          "output_type": "display_data",
          "data": {
            "text/plain": [
              "  0%|          | 0/120000 [00:00<?, ? examples/s]"
            ],
            "application/vnd.jupyter.widget-view+json": {
              "version_major": 2,
              "version_minor": 0,
              "model_id": "bb77473f96b84fe5b66640b4b84d7c69"
            }
          },
          "metadata": {}
        },
        {
          "output_type": "display_data",
          "data": {
            "text/plain": [
              "0 examples [00:00, ? examples/s]"
            ],
            "application/vnd.jupyter.widget-view+json": {
              "version_major": 2,
              "version_minor": 0,
              "model_id": "f6f63e41e41f4becbef1098cd3e2efee"
            }
          },
          "metadata": {}
        },
        {
          "output_type": "stream",
          "name": "stdout",
          "text": [
            "Shuffling and writing examples to /root/tensorflow_datasets/ag_news_subset/1.0.0.incomplete6LI740/ag_news_subset-test.tfrecord\n"
          ]
        },
        {
          "output_type": "display_data",
          "data": {
            "text/plain": [
              "  0%|          | 0/7600 [00:00<?, ? examples/s]"
            ],
            "application/vnd.jupyter.widget-view+json": {
              "version_major": 2,
              "version_minor": 0,
              "model_id": "d7451b60a06d471d923273b65b93c089"
            }
          },
          "metadata": {}
        },
        {
          "output_type": "stream",
          "name": "stdout",
          "text": [
            "\u001b[1mDataset ag_news_subset downloaded and prepared to /root/tensorflow_datasets/ag_news_subset/1.0.0. Subsequent calls will reuse this data.\u001b[0m\n"
          ]
        }
      ]
    },
    {
      "cell_type": "code",
      "source": [
        "# Tensors have two elements, data and labels; let's split them\n",
        "# so we can transform the data\n",
        "X_train, y_train = train_ds\n",
        "X_valid, y_valid = valid_ds\n",
        "X_test, y_test = test_ds"
      ],
      "metadata": {
        "id": "BYkXCTv3NrvC"
      },
      "execution_count": null,
      "outputs": []
    },
    {
      "cell_type": "markdown",
      "source": [
        "The AG News Subset dataset consists in news articles, each one composed by a sequence of words. In order to encode each article in a single tensor with a fixed number of elements, we will use multi-hot encoding. For testing purposes, we will only consider the first 10,000  most common words. Multi-hot-encoding our lists means turning them into vectors of 0s and 1s. Concretely, this would mean for instance turning the sequence [3, 5] into a 10,000-dimensional vector that would be all-zeros except for indices 3 and 5, which would be ones. The obtained input representation indicates which words are present (at least one time) in the sentence."
      ],
      "metadata": {
        "id": "8prUBtqq8JW7"
      }
    },
    {
      "cell_type": "code",
      "source": [
        "num_words = 1000\n",
        "vectorize_layer = tf.keras.layers.TextVectorization(\n",
        " max_tokens=num_words,\n",
        " standardize=\"lower_and_strip_punctuation\",\n",
        " split=\"whitespace\",\n",
        " output_mode='multi_hot',\n",
        " pad_to_max_tokens=True)\n",
        "\n",
        "vectorize_layer.adapt(X_train)"
      ],
      "metadata": {
        "id": "Brt087tDIDpe"
      },
      "execution_count": null,
      "outputs": []
    },
    {
      "cell_type": "code",
      "source": [
        "X_train = vectorize_layer(X_train)\n",
        "X_valid = vectorize_layer(X_valid)\n",
        "X_test  = vectorize_layer(X_test)"
      ],
      "metadata": {
        "id": "seuFLH2lNiDT"
      },
      "execution_count": null,
      "outputs": []
    },
    {
      "cell_type": "markdown",
      "metadata": {
        "id": "jGUg8TexZMNf"
      },
      "source": [
        "### Define the model:\n",
        "\n",
        "Let's build a Sequential model (`keras.models.Sequential`) and add four layers to it by calling its `add()` method:\n",
        "\n",
        "\n",
        "*   a input layer (`tf.keras.Input`) that is the first layer in your model. With this layer you should specify the `input_shape` argument, leaving out the batch size: `(num_words,)`;\n",
        "*  a Dense layer (`keras.layers.Dense`) with 16 neurons, and the \"relu\" activation function;\n",
        "* another Dense layer with 16 neurons, also with the \"relu\" activation function;\n",
        "* a final Dense layer with 4 output neurons, and with the \"softmax\" activation (since we considering a classification task with four classes)."
      ]
    },
    {
      "cell_type": "code",
      "metadata": {
        "id": "OaoEISyaZL56"
      },
      "source": [
        "model = keras.models.Sequential()\n",
        "model.add(tf.keras.Input(shape=(num_words,)))\n",
        "model.add(keras.layers.Dense(16, activation=\"relu\"))\n",
        "model.add(keras.layers.Dense(16, activation=\"relu\"))\n",
        "model.add(keras.layers.Dense(4, activation=\"softmax\"))"
      ],
      "execution_count": null,
      "outputs": []
    },
    {
      "cell_type": "markdown",
      "metadata": {
        "id": "fYfxUOQVZljh"
      },
      "source": [
        "Call the model's `summary()` method to check if the model has been built correctly. Also, try using `keras.utils.plot_model()` to save an image of your model's architecture."
      ]
    },
    {
      "cell_type": "code",
      "metadata": {
        "id": "IpGkQl5dZoWq",
        "colab": {
          "base_uri": "https://localhost:8080/"
        },
        "outputId": "78c3d72d-918f-400d-ee4b-9bf39137dabc"
      },
      "source": [
        "model.summary()"
      ],
      "execution_count": null,
      "outputs": [
        {
          "output_type": "stream",
          "name": "stdout",
          "text": [
            "Model: \"sequential\"\n",
            "_________________________________________________________________\n",
            " Layer (type)                Output Shape              Param #   \n",
            "=================================================================\n",
            " dense (Dense)               (None, 16)                16016     \n",
            "                                                                 \n",
            " dense_1 (Dense)             (None, 16)                272       \n",
            "                                                                 \n",
            " dense_2 (Dense)             (None, 4)                 68        \n",
            "                                                                 \n",
            "=================================================================\n",
            "Total params: 16,356\n",
            "Trainable params: 16,356\n",
            "Non-trainable params: 0\n",
            "_________________________________________________________________\n"
          ]
        }
      ]
    },
    {
      "cell_type": "code",
      "metadata": {
        "id": "b1NbkrXRZwOA",
        "colab": {
          "base_uri": "https://localhost:8080/",
          "height": 422
        },
        "outputId": "51d51151-a048-4024-ff5a-b0774b243372"
      },
      "source": [
        "keras.utils.plot_model(model, \"my_model.png\", show_shapes=True)"
      ],
      "execution_count": null,
      "outputs": [
        {
          "output_type": "execute_result",
          "data": {
            "text/plain": [
              "<IPython.core.display.Image object>"
            ],
            "image/png": "[encoded data removed]"
          },
          "metadata": {},
          "execution_count": 9
        }
      ]
    },
    {
      "cell_type": "markdown",
      "metadata": {
        "id": "Mc3xzuA-33WH"
      },
      "source": [
        "As you can see, the first dimension of each layer is not defined (`None`), indeed this dimension in each layer is variable and depends on the batch size."
      ]
    },
    {
      "cell_type": "markdown",
      "metadata": {
        "id": "6FAjFixuHSA_"
      },
      "source": [
        "Instaed of using `add()` method it is also possibile to define the model using the following syntax"
      ]
    },
    {
      "cell_type": "code",
      "metadata": {
        "id": "yOhr57M9GPHy",
        "colab": {
          "base_uri": "https://localhost:8080/",
          "height": 682
        },
        "outputId": "3744ca06-f5fa-438b-94ea-94222570148f"
      },
      "source": [
        "model = keras.models.Sequential([\n",
        "    tf.keras.Input(shape=(num_words,)),\n",
        "    keras.layers.Dense(16, activation=\"relu\"),\n",
        "    keras.layers.Dense(16, activation=\"relu\"),\n",
        "    keras.layers.Dense(4, activation=\"softmax\")\n",
        "])\n",
        "model.summary()\n",
        "keras.utils.plot_model(model, \"my_model.png\", show_shapes=True)"
      ],
      "execution_count": null,
      "outputs": [
        {
          "output_type": "stream",
          "name": "stdout",
          "text": [
            "Model: \"sequential_1\"\n",
            "_________________________________________________________________\n",
            " Layer (type)                Output Shape              Param #   \n",
            "=================================================================\n",
            " dense_3 (Dense)             (None, 16)                16016     \n",
            "                                                                 \n",
            " dense_4 (Dense)             (None, 16)                272       \n",
            "                                                                 \n",
            " dense_5 (Dense)             (None, 4)                 68        \n",
            "                                                                 \n",
            "=================================================================\n",
            "Total params: 16,356\n",
            "Trainable params: 16,356\n",
            "Non-trainable params: 0\n",
            "_________________________________________________________________\n"
          ]
        },
        {
          "output_type": "execute_result",
          "data": {
            "text/plain": [
              "<IPython.core.display.Image object>"
            ],
            "image/png": "[encoded data removed]"
          },
          "metadata": {},
          "execution_count": 10
        }
      ]
    },
    {
      "cell_type": "markdown",
      "metadata": {
        "id": "2ySdJmzxaSuz"
      },
      "source": [
        "### Optimize the model:\n",
        "\n",
        "After the model has been created, you must call its `compile()` method to specify the loss function and the optimizer to use.\n",
        "\n",
        "Since the model performs a classification task, and we have labels encoded as integers, we use the sparse categorical cross-entropy loss. As optimizer we use Adam.\n",
        "\n",
        "Moreover, you can optionally specify a list of additional metrics that should be measured during training. In this case we specify `metrics=[\"accuracy\"]`."
      ]
    },
    {
      "cell_type": "code",
      "metadata": {
        "id": "x3bbsY3uaeh5"
      },
      "source": [
        "model.compile(loss=\"sparse_categorical_crossentropy\",\n",
        "              optimizer=keras.optimizers.Adam(learning_rate=1e-4),\n",
        "              metrics=[\"accuracy\"])"
      ],
      "execution_count": null,
      "outputs": []
    },
    {
      "cell_type": "markdown",
      "metadata": {
        "id": "NB9SV0MpaeTg"
      },
      "source": [
        "Now our model is ready to be trained. Call its `fit()` method, passing to it the input features (`X_train`) and the target classes (`y_train`). Set the number of epochs to 20.\n",
        "In order to validate our model we will also pass the validation data by setting `validation_data=(X_valid, y_valid)`. Keras will compute the loss and the additional metrics (the accuracy in this case) on the validation set at the end of each epoch. If the loss on the training set is much lower than the one on the validation set, your model is probably overfitting the training set. Note: the `fit()` method will return a `History` object containing training stats."
      ]
    },
    {
      "cell_type": "code",
      "metadata": {
        "id": "5whx-LU3aoKn",
        "colab": {
          "base_uri": "https://localhost:8080/"
        },
        "outputId": "ea057c13-62cf-479e-f98d-53e7f89a0a5f"
      },
      "source": [
        "history = model.fit(X_train, y_train, epochs=20,\n",
        "                    validation_data=(X_valid, y_valid))"
      ],
      "execution_count": null,
      "outputs": [
        {
          "output_type": "stream",
          "name": "stdout",
          "text": [
            "Epoch 1/20\n",
            "3375/3375 [==============================] - 10s 2ms/step - loss: 0.8503 - accuracy: 0.6761 - val_loss: 0.5107 - val_accuracy: 0.8314\n",
            "Epoch 2/20\n",
            "3375/3375 [==============================] - 8s 2ms/step - loss: 0.4583 - accuracy: 0.8449 - val_loss: 0.4452 - val_accuracy: 0.8475\n",
            "Epoch 3/20\n",
            "3375/3375 [==============================] - 8s 2ms/step - loss: 0.4222 - accuracy: 0.8546 - val_loss: 0.4318 - val_accuracy: 0.8507\n",
            "Epoch 4/20\n",
            "3375/3375 [==============================] - 8s 2ms/step - loss: 0.4089 - accuracy: 0.8573 - val_loss: 0.4241 - val_accuracy: 0.8509\n",
            "Epoch 5/20\n",
            "3375/3375 [==============================] - 8s 2ms/step - loss: 0.4012 - accuracy: 0.8590 - val_loss: 0.4210 - val_accuracy: 0.8525\n",
            "Epoch 6/20\n",
            "3375/3375 [==============================] - 8s 2ms/step - loss: 0.3959 - accuracy: 0.8601 - val_loss: 0.4175 - val_accuracy: 0.8531\n",
            "Epoch 7/20\n",
            "3375/3375 [==============================] - 8s 2ms/step - loss: 0.3917 - accuracy: 0.8615 - val_loss: 0.4149 - val_accuracy: 0.8535\n",
            "Epoch 8/20\n",
            "3375/3375 [==============================] - 7s 2ms/step - loss: 0.3882 - accuracy: 0.8617 - val_loss: 0.4132 - val_accuracy: 0.8550\n",
            "Epoch 9/20\n",
            "3375/3375 [==============================] - 8s 2ms/step - loss: 0.3851 - accuracy: 0.8627 - val_loss: 0.4109 - val_accuracy: 0.8540\n",
            "Epoch 10/20\n",
            "3375/3375 [==============================] - 8s 2ms/step - loss: 0.3825 - accuracy: 0.8629 - val_loss: 0.4096 - val_accuracy: 0.8534\n",
            "Epoch 11/20\n",
            "3375/3375 [==============================] - 8s 2ms/step - loss: 0.3799 - accuracy: 0.8637 - val_loss: 0.4081 - val_accuracy: 0.8539\n",
            "Epoch 12/20\n",
            "3375/3375 [==============================] - 8s 2ms/step - loss: 0.3775 - accuracy: 0.8638 - val_loss: 0.4064 - val_accuracy: 0.8543\n",
            "Epoch 13/20\n",
            "3375/3375 [==============================] - 8s 2ms/step - loss: 0.3753 - accuracy: 0.8645 - val_loss: 0.4051 - val_accuracy: 0.8538\n",
            "Epoch 14/20\n",
            "3375/3375 [==============================] - 8s 2ms/step - loss: 0.3731 - accuracy: 0.8649 - val_loss: 0.4053 - val_accuracy: 0.8543\n",
            "Epoch 15/20\n",
            "3375/3375 [==============================] - 7s 2ms/step - loss: 0.3709 - accuracy: 0.8660 - val_loss: 0.4035 - val_accuracy: 0.8554\n",
            "Epoch 16/20\n",
            "3375/3375 [==============================] - 8s 2ms/step - loss: 0.3689 - accuracy: 0.8661 - val_loss: 0.4027 - val_accuracy: 0.8553\n",
            "Epoch 17/20\n",
            "3375/3375 [==============================] - 8s 2ms/step - loss: 0.3669 - accuracy: 0.8668 - val_loss: 0.4011 - val_accuracy: 0.8564\n",
            "Epoch 18/20\n",
            "3375/3375 [==============================] - 8s 2ms/step - loss: 0.3649 - accuracy: 0.8672 - val_loss: 0.4004 - val_accuracy: 0.8555\n",
            "Epoch 19/20\n",
            "3375/3375 [==============================] - 8s 2ms/step - loss: 0.3630 - accuracy: 0.8679 - val_loss: 0.3992 - val_accuracy: 0.8559\n",
            "Epoch 20/20\n",
            "3375/3375 [==============================] - 7s 2ms/step - loss: 0.3612 - accuracy: 0.8684 - val_loss: 0.3993 - val_accuracy: 0.8562\n"
          ]
        }
      ]
    },
    {
      "cell_type": "markdown",
      "metadata": {
        "id": "EPxiw8iCADr-"
      },
      "source": [
        "Let's plot the loss and the accuracy trends on both training and validation sets. We define the `plot_learning_acc_and_loss` function because we will reuse it in the next steps."
      ]
    },
    {
      "cell_type": "code",
      "metadata": {
        "id": "AJg-F7mUa7st",
        "colab": {
          "base_uri": "https://localhost:8080/",
          "height": 320
        },
        "outputId": "092208a2-b306-4295-8b27-fb11159552f5"
      },
      "source": [
        "def plot_learning_acc_and_loss(history):\n",
        "    pd.DataFrame(history.history).plot(figsize=(8, 5))\n",
        "    plt.grid(True)\n",
        "    plt.show()\n",
        "plot_learning_acc_and_loss(history)"
      ],
      "execution_count": null,
      "outputs": [
        {
          "output_type": "display_data",
          "data": {
            "text/plain": [
              "<Figure size 576x360 with 1 Axes>"
            ],
            "image/png": "[encoded data removed]"
          },
          "metadata": {
            "needs_background": "light"
          }
        }
      ]
    },
    {
      "cell_type": "markdown",
      "metadata": {
        "id": "9O3-sLmxansJ"
      },
      "source": [
        "### [TO COMPLETE] Evaluate the model:\n",
        "\n",
        "Now, our model has been optimized on the training set, and as you can see the performance on the validation set in quite similar (so it does not overfit the training data). Let's now evaluate the performance of our model using the test set."
      ]
    },
    {
      "cell_type": "code",
      "metadata": {
        "id": "q-ZvJEcObdyB",
        "colab": {
          "base_uri": "https://localhost:8080/"
        },
        "outputId": "e7c5f2b1-c922-4e5b-f2f2-95243b7d38ba"
      },
      "source": [
        "model.evaluate(X_test, y_test)"
      ],
      "execution_count": null,
      "outputs": [
        {
          "output_type": "stream",
          "name": "stdout",
          "text": [
            "238/238 [==============================] - 1s 2ms/step - loss: 0.4092 - accuracy: 0.8516\n"
          ]
        },
        {
          "output_type": "execute_result",
          "data": {
            "text/plain": [
              "[0.40924084186553955, 0.851578950881958]"
            ]
          },
          "metadata": {},
          "execution_count": 14
        }
      ]
    },
    {
      "cell_type": "markdown",
      "metadata": {
        "id": "KTSxlnwrII-n"
      },
      "source": [
        "[TO COMPLETE] Explain why it is important to use test and validation, and why it is important to evaluate the model on the test set instead of the validation set. Finally, explain what is the usefulness of the validation set. Insert the discussion in this cell.\n",
        "\n",
        "# **Importance of using the test and validation sets**\n",
        "\n",
        "To build a model is relevant observe the error on the validation set since the performance on the training set might be an overestimation.\n",
        "\n",
        "A model can have a very good accuracy on the trainnig set and it can be overfitting, so is important to compare the results with the test set which is an unbiased estimator because it contains part of the data that we haven't seen.\n",
        "\n",
        "We don't perform this comparison with the validation set, due to the fact the main purpose of it is setting the value for the hyperparameters.\n",
        "\n",
        "If we have high bias then our model is underfitting, if instead we have high variance we are overfitting, so we need to search for the best trade-off between the bias and the variance.\n"
      ]
    },
    {
      "cell_type": "markdown",
      "metadata": {
        "id": "aeGlzKe864Gq"
      },
      "source": [
        "## [TO COMPLETE] Exercise 2.2: Overfiting\n",
        "\n",
        "A common problem that occurs when you train a deep neural network is overfittig. Overfitting occurs when you achieve a good fit of your model on the training data, while it does not generalize well on new, unseen data. In other words, the model learned patterns specific to the training data, which are irrelevant in other data.\n",
        "As we have seen in the previous exercise, our model does not overfit the training data. In this exercise, we try to modify the training parameters in order to have a model that overfits.\n",
        "Overfitting can have many causes and usually is a combination of some of them, for instance: too many parameters/ layers, too few training samples, wrong learning rate (usualy too high), etc..\n",
        "\n",
        "[TO COMPLETE] In the next cell define a new model (similar to the previuos one) that overfits the training data; then plot the trend of the loss in training and validation set."
      ]
    },
    {
      "cell_type": "code",
      "metadata": {
        "id": "T2B2DFEC8f88",
        "colab": {
          "base_uri": "https://localhost:8080/"
        },
        "outputId": "1342a2c0-7940-41fe-bfa0-36b204b71506"
      },
      "source": [
        "model = keras.models.Sequential([\n",
        "    tf.keras.Input(shape=(num_words,)),\n",
        "    keras.layers.Dense(32, activation=\"relu\"),\n",
        "    keras.layers.Dense(32, activation=\"relu\"),\n",
        "    keras.layers.Dense(4, activation=\"softmax\")\n",
        "])\n",
        "#[TO COMPLETE] modify the previuos model in order to obtain a new model that overfits the training data\n",
        "\n",
        "model.compile(loss=\"sparse_categorical_crossentropy\",\n",
        "              optimizer=keras.optimizers.Adam(learning_rate=1e-3),#[TO COMPLETE] learning rate\n",
        "              metrics=[\"accuracy\"])\n",
        "\n",
        "history = model.fit(X_train, y_train, epochs=30,#[TO COMPLETE] epochs\n",
        "                    validation_data=(X_valid, y_valid))\n",
        "\n",
        "print(\"Model Evaluation\")\n",
        "model.evaluate(X_test, y_test)"
      ],
      "execution_count": null,
      "outputs": [
        {
          "output_type": "stream",
          "name": "stdout",
          "text": [
            "Epoch 1/30\n",
            "3375/3375 [==============================] - 8s 2ms/step - loss: 0.4650 - accuracy: 0.8311 - val_loss: 0.4084 - val_accuracy: 0.8529\n",
            "Epoch 2/30\n",
            "3375/3375 [==============================] - 8s 2ms/step - loss: 0.3878 - accuracy: 0.8584 - val_loss: 0.3993 - val_accuracy: 0.8553\n",
            "Epoch 3/30\n",
            "3375/3375 [==============================] - 8s 2ms/step - loss: 0.3610 - accuracy: 0.8670 - val_loss: 0.3899 - val_accuracy: 0.8574\n",
            "Epoch 4/30\n",
            "3375/3375 [==============================] - 7s 2ms/step - loss: 0.3386 - accuracy: 0.8753 - val_loss: 0.3939 - val_accuracy: 0.8594\n",
            "Epoch 5/30\n",
            "3375/3375 [==============================] - 7s 2ms/step - loss: 0.3190 - accuracy: 0.8824 - val_loss: 0.3898 - val_accuracy: 0.8612\n",
            "Epoch 6/30\n",
            "3375/3375 [==============================] - 7s 2ms/step - loss: 0.2997 - accuracy: 0.8891 - val_loss: 0.4016 - val_accuracy: 0.8583\n",
            "Epoch 7/30\n",
            "3375/3375 [==============================] - 7s 2ms/step - loss: 0.2828 - accuracy: 0.8966 - val_loss: 0.4114 - val_accuracy: 0.8564\n",
            "Epoch 8/30\n",
            "3375/3375 [==============================] - 8s 2ms/step - loss: 0.2677 - accuracy: 0.9020 - val_loss: 0.4159 - val_accuracy: 0.8566\n",
            "Epoch 9/30\n",
            "3375/3375 [==============================] - 8s 2ms/step - loss: 0.2542 - accuracy: 0.9073 - val_loss: 0.4310 - val_accuracy: 0.8545\n",
            "Epoch 10/30\n",
            "3375/3375 [==============================] - 8s 2ms/step - loss: 0.2416 - accuracy: 0.9116 - val_loss: 0.4440 - val_accuracy: 0.8561\n",
            "Epoch 11/30\n",
            "3375/3375 [==============================] - 8s 2ms/step - loss: 0.2310 - accuracy: 0.9163 - val_loss: 0.4540 - val_accuracy: 0.8519\n",
            "Epoch 12/30\n",
            "3375/3375 [==============================] - 8s 2ms/step - loss: 0.2201 - accuracy: 0.9206 - val_loss: 0.4776 - val_accuracy: 0.8515\n",
            "Epoch 13/30\n",
            "3375/3375 [==============================] - 7s 2ms/step - loss: 0.2108 - accuracy: 0.9238 - val_loss: 0.4887 - val_accuracy: 0.8517\n",
            "Epoch 14/30\n",
            "3375/3375 [==============================] - 7s 2ms/step - loss: 0.2014 - accuracy: 0.9275 - val_loss: 0.5112 - val_accuracy: 0.8471\n",
            "Epoch 15/30\n",
            "3375/3375 [==============================] - 8s 2ms/step - loss: 0.1934 - accuracy: 0.9295 - val_loss: 0.5245 - val_accuracy: 0.8482\n",
            "Epoch 16/30\n",
            "3375/3375 [==============================] - 8s 2ms/step - loss: 0.1864 - accuracy: 0.9327 - val_loss: 0.5433 - val_accuracy: 0.8429\n",
            "Epoch 17/30\n",
            "3375/3375 [==============================] - 7s 2ms/step - loss: 0.1786 - accuracy: 0.9353 - val_loss: 0.5676 - val_accuracy: 0.8431\n",
            "Epoch 18/30\n",
            "3375/3375 [==============================] - 8s 2ms/step - loss: 0.1723 - accuracy: 0.9371 - val_loss: 0.5820 - val_accuracy: 0.8379\n",
            "Epoch 19/30\n",
            "3375/3375 [==============================] - 7s 2ms/step - loss: 0.1664 - accuracy: 0.9397 - val_loss: 0.6055 - val_accuracy: 0.8364\n",
            "Epoch 20/30\n",
            "3375/3375 [==============================] - 8s 2ms/step - loss: 0.1600 - accuracy: 0.9426 - val_loss: 0.6292 - val_accuracy: 0.8349\n",
            "Epoch 21/30\n",
            "3375/3375 [==============================] - 7s 2ms/step - loss: 0.1542 - accuracy: 0.9449 - val_loss: 0.6563 - val_accuracy: 0.8374\n",
            "Epoch 22/30\n",
            "3375/3375 [==============================] - 8s 2ms/step - loss: 0.1492 - accuracy: 0.9461 - val_loss: 0.6712 - val_accuracy: 0.8342\n",
            "Epoch 23/30\n",
            "3375/3375 [==============================] - 7s 2ms/step - loss: 0.1452 - accuracy: 0.9477 - val_loss: 0.7006 - val_accuracy: 0.8360\n",
            "Epoch 24/30\n",
            "3375/3375 [==============================] - 8s 2ms/step - loss: 0.1401 - accuracy: 0.9500 - val_loss: 0.7232 - val_accuracy: 0.8318\n",
            "Epoch 25/30\n",
            "3375/3375 [==============================] - 8s 2ms/step - loss: 0.1360 - accuracy: 0.9513 - val_loss: 0.7508 - val_accuracy: 0.8332\n",
            "Epoch 26/30\n",
            "3375/3375 [==============================] - 8s 2ms/step - loss: 0.1318 - accuracy: 0.9530 - val_loss: 0.7689 - val_accuracy: 0.8310\n",
            "Epoch 27/30\n",
            "3375/3375 [==============================] - 9s 3ms/step - loss: 0.1276 - accuracy: 0.9537 - val_loss: 0.7859 - val_accuracy: 0.8366\n",
            "Epoch 28/30\n",
            "3375/3375 [==============================] - 8s 2ms/step - loss: 0.1243 - accuracy: 0.9557 - val_loss: 0.7916 - val_accuracy: 0.8311\n",
            "Epoch 29/30\n",
            "3375/3375 [==============================] - 7s 2ms/step - loss: 0.1211 - accuracy: 0.9568 - val_loss: 0.8461 - val_accuracy: 0.8325\n",
            "Epoch 30/30\n",
            "3375/3375 [==============================] - 8s 2ms/step - loss: 0.1175 - accuracy: 0.9579 - val_loss: 0.8644 - val_accuracy: 0.8319\n",
            "Model Evaluation\n",
            "238/238 [==============================] - 1s 2ms/step - loss: 0.9034 - accuracy: 0.8292\n"
          ]
        },
        {
          "output_type": "execute_result",
          "data": {
            "text/plain": [
              "[0.9033668637275696, 0.8292105197906494]"
            ]
          },
          "metadata": {},
          "execution_count": 23
        }
      ]
    },
    {
      "cell_type": "markdown",
      "metadata": {
        "id": "MS0fujEqh_m3"
      },
      "source": [
        "Define the `plot_learning_curves` function that plots only the losses (not the accuracy)."
      ]
    },
    {
      "cell_type": "code",
      "metadata": {
        "id": "q5EsklC0DZYH",
        "colab": {
          "base_uri": "https://localhost:8080/",
          "height": 336
        },
        "outputId": "03becda3-cc21-4a28-a34d-a7ab00c3d0c7"
      },
      "source": [
        "def plot_learning_curves(history):\n",
        "    plt.figure(figsize=(8, 5))\n",
        "    plt.plot(history.epoch,history.history['loss'], label='train loss')\n",
        "    plt.plot(history.epoch,history.history['val_loss'], label='valid loss')\n",
        "    plt.legend()\n",
        "    plt.title('loss')\n",
        "    plt.grid(True)\n",
        "    plt.show()\n",
        "plot_learning_curves(history)"
      ],
      "execution_count": null,
      "outputs": [
        {
          "output_type": "display_data",
          "data": {
            "text/plain": [
              "<Figure size 576x360 with 1 Axes>"
            ],
            "image/png": "[encoded data removed]"
          },
          "metadata": {
            "needs_background": "light"
          }
        }
      ]
    },
    {
      "cell_type": "markdown",
      "metadata": {
        "id": "OW4Kf4fgDfOs"
      },
      "source": [
        "### [TO COMPLETE] L1 norm\n",
        "\n",
        "One possible way to solve the overitting issue is by using regularization methods. The two most common regularization methods in Deep Learning are the L1-norm regularization and the L2-norm regularization. Both These techniques are based on limiting the capacity of models, by adding a parameter norm penalty to the objective function $\\mathcal{J}$:\n",
        "$$\n",
        "\\hat{\\mathcal{J}}(\\theta,\\mathbf{X},\\mathbf{y}) = \\mathcal{J}(\\theta,\\mathbf{X},\\mathbf{y}) + \\alpha \\Omega(\\theta)\n",
        "$$\n",
        "where $\\alpha$ is a hyperparameter that weighs the relative contribution of the norm penalty $\\Omega$.\n",
        "Lets start by considering the L1-norm regularization where the regularization term is defined as:\n",
        "$$\n",
        " \\Omega(\\theta)=||\\mathbf{W}||_1=\\sum_i |\\mathbf{w}|\n",
        "$$\n",
        "Let's find the values for the $\\alpha$ parameters that allow to remove the overfitting effect."
      ]
    },
    {
      "cell_type": "code",
      "metadata": {
        "id": "QzD8520dDgw3",
        "colab": {
          "base_uri": "https://localhost:8080/",
          "height": 1000
        },
        "outputId": "6a408802-1747-435e-e297-cca3b254d810"
      },
      "source": [
        "#In Keras is neccesary to add the regularizer by using the attribute kernel_regularizer\n",
        "#to each layer whose weights will be considered in the Omega function.\n",
        "#is it also possibile to consider the bias by using the attribute bias_regularizer\n",
        "#tf.keras.regularizers.l1(alpha) perfroms the L1-norm regularization\n",
        "\n",
        "#[TO COMPLETE] copy the model that you previously defined that overfits the\n",
        "#training data, and add the L1-norm regularization. Use a proper value for the\n",
        "#alpha hyper-parameter, that prevents the model from overfitting. The results\n",
        "#reached by the model in terms of loss and accuracy (in all data sets) should be\n",
        "#comparable with the ones obtained by the initial model defined in Exercise 2.1\n",
        "\n",
        "#In general, a layer that exploits L1-norm regularization is defined as follows:\n",
        "\n",
        "#model.add(keras.layers.Dense(units=[TO COMPLETE], activation=[TO COMPLETE], kernel_regularizer=tf.keras.regularizers.l1([TO COMPLETE])))\n",
        "\n",
        "alpha=1e-3\n",
        "model = keras.models.Sequential([\n",
        "    tf.keras.Input(shape=(num_words,)),\n",
        "    keras.layers.Dense(32, activation=\"relu\", kernel_regularizer=tf.keras.regularizers.l1(alpha)),\n",
        "    keras.layers.Dense(32, activation=\"relu\",kernel_regularizer=tf.keras.regularizers.l1(alpha)),\n",
        "    keras.layers.Dense(4, activation=\"softmax\",kernel_regularizer=tf.keras.regularizers.l1(alpha))\n",
        "])\n",
        "#[TO COMPLETE]\n",
        "\n",
        "\n",
        "model.compile(loss=\"sparse_categorical_crossentropy\",\n",
        "              optimizer=keras.optimizers.Adam(learning_rate=1e-3),#[TO COMPLETE] learning rate\n",
        "              metrics=[\"accuracy\"])\n",
        "\n",
        "history = model.fit(X_train, y_train, epochs=30,#[TO COMPLETE] epochs\n",
        "                    validation_data=(X_valid, y_valid))\n",
        "\n",
        "print(\"Model Evaluation\")\n",
        "model.evaluate(X_test, y_test)\n",
        "plot_learning_curves(history)"
      ],
      "execution_count": null,
      "outputs": [
        {
          "output_type": "stream",
          "name": "stdout",
          "text": [
            "Epoch 1/30\n",
            "3375/3375 [==============================] - 9s 2ms/step - loss: 0.8590 - accuracy: 0.8116 - val_loss: 0.7296 - val_accuracy: 0.8341\n",
            "Epoch 2/30\n",
            "3375/3375 [==============================] - 8s 2ms/step - loss: 0.6858 - accuracy: 0.8406 - val_loss: 0.6621 - val_accuracy: 0.8428\n",
            "Epoch 3/30\n",
            "3375/3375 [==============================] - 8s 2ms/step - loss: 0.6472 - accuracy: 0.8432 - val_loss: 0.6376 - val_accuracy: 0.8416\n",
            "Epoch 4/30\n",
            "3375/3375 [==============================] - 8s 2ms/step - loss: 0.6247 - accuracy: 0.8442 - val_loss: 0.6329 - val_accuracy: 0.8364\n",
            "Epoch 5/30\n",
            "3375/3375 [==============================] - 8s 2ms/step - loss: 0.6141 - accuracy: 0.8437 - val_loss: 0.6161 - val_accuracy: 0.8429\n",
            "Epoch 6/30\n",
            "3375/3375 [==============================] - 8s 2ms/step - loss: 0.6090 - accuracy: 0.8445 - val_loss: 0.6176 - val_accuracy: 0.8406\n",
            "Epoch 7/30\n",
            "3375/3375 [==============================] - 8s 2ms/step - loss: 0.6066 - accuracy: 0.8449 - val_loss: 0.6227 - val_accuracy: 0.8407\n",
            "Epoch 8/30\n",
            "3375/3375 [==============================] - 8s 2ms/step - loss: 0.6053 - accuracy: 0.8444 - val_loss: 0.6085 - val_accuracy: 0.8446\n",
            "Epoch 9/30\n",
            "3375/3375 [==============================] - 8s 2ms/step - loss: 0.6021 - accuracy: 0.8443 - val_loss: 0.6138 - val_accuracy: 0.8380\n",
            "Epoch 10/30\n",
            "3375/3375 [==============================] - 8s 2ms/step - loss: 0.6004 - accuracy: 0.8440 - val_loss: 0.6138 - val_accuracy: 0.8407\n",
            "Epoch 11/30\n",
            "3375/3375 [==============================] - 8s 2ms/step - loss: 0.5981 - accuracy: 0.8439 - val_loss: 0.6034 - val_accuracy: 0.8427\n",
            "Epoch 12/30\n",
            "3375/3375 [==============================] - 8s 2ms/step - loss: 0.5957 - accuracy: 0.8438 - val_loss: 0.5987 - val_accuracy: 0.8431\n",
            "Epoch 13/30\n",
            "3375/3375 [==============================] - 8s 2ms/step - loss: 0.5932 - accuracy: 0.8439 - val_loss: 0.5919 - val_accuracy: 0.8430\n",
            "Epoch 14/30\n",
            "3375/3375 [==============================] - 8s 2ms/step - loss: 0.5910 - accuracy: 0.8444 - val_loss: 0.6021 - val_accuracy: 0.8388\n",
            "Epoch 15/30\n",
            "3375/3375 [==============================] - 8s 2ms/step - loss: 0.5904 - accuracy: 0.8430 - val_loss: 0.5930 - val_accuracy: 0.8453\n",
            "Epoch 16/30\n",
            "3375/3375 [==============================] - 8s 2ms/step - loss: 0.5887 - accuracy: 0.8434 - val_loss: 0.5935 - val_accuracy: 0.8407\n",
            "Epoch 17/30\n",
            "3375/3375 [==============================] - 8s 2ms/step - loss: 0.5865 - accuracy: 0.8438 - val_loss: 0.5904 - val_accuracy: 0.8455\n",
            "Epoch 18/30\n",
            "3375/3375 [==============================] - 8s 2ms/step - loss: 0.5856 - accuracy: 0.8442 - val_loss: 0.5930 - val_accuracy: 0.8413\n",
            "Epoch 19/30\n",
            "3375/3375 [==============================] - 8s 2ms/step - loss: 0.5846 - accuracy: 0.8430 - val_loss: 0.5883 - val_accuracy: 0.8429\n",
            "Epoch 20/30\n",
            "3375/3375 [==============================] - 8s 2ms/step - loss: 0.5831 - accuracy: 0.8436 - val_loss: 0.6012 - val_accuracy: 0.8388\n",
            "Epoch 21/30\n",
            "3375/3375 [==============================] - 8s 2ms/step - loss: 0.5825 - accuracy: 0.8443 - val_loss: 0.5943 - val_accuracy: 0.8407\n",
            "Epoch 22/30\n",
            "3375/3375 [==============================] - 8s 2ms/step - loss: 0.5814 - accuracy: 0.8432 - val_loss: 0.5931 - val_accuracy: 0.8406\n",
            "Epoch 23/30\n",
            "3375/3375 [==============================] - 8s 2ms/step - loss: 0.5788 - accuracy: 0.8442 - val_loss: 0.5837 - val_accuracy: 0.8435\n",
            "Epoch 24/30\n",
            "3375/3375 [==============================] - 8s 2ms/step - loss: 0.5776 - accuracy: 0.8434 - val_loss: 0.5809 - val_accuracy: 0.8434\n",
            "Epoch 25/30\n",
            "3375/3375 [==============================] - 8s 2ms/step - loss: 0.5765 - accuracy: 0.8444 - val_loss: 0.5761 - val_accuracy: 0.8432\n",
            "Epoch 26/30\n",
            "3375/3375 [==============================] - 8s 2ms/step - loss: 0.5755 - accuracy: 0.8436 - val_loss: 0.5850 - val_accuracy: 0.8411\n",
            "Epoch 27/30\n",
            "3375/3375 [==============================] - 8s 2ms/step - loss: 0.5744 - accuracy: 0.8442 - val_loss: 0.5791 - val_accuracy: 0.8413\n",
            "Epoch 28/30\n",
            "3375/3375 [==============================] - 8s 2ms/step - loss: 0.5737 - accuracy: 0.8441 - val_loss: 0.5791 - val_accuracy: 0.8418\n",
            "Epoch 29/30\n",
            "3375/3375 [==============================] - 8s 2ms/step - loss: 0.5728 - accuracy: 0.8439 - val_loss: 0.5726 - val_accuracy: 0.8456\n",
            "Epoch 30/30\n",
            "3375/3375 [==============================] - 8s 2ms/step - loss: 0.5714 - accuracy: 0.8437 - val_loss: 0.5796 - val_accuracy: 0.8446\n",
            "Model Evaluation\n",
            "238/238 [==============================] - 1s 2ms/step - loss: 0.5906 - accuracy: 0.8342\n"
          ]
        },
        {
          "output_type": "display_data",
          "data": {
            "text/plain": [
              "<Figure size 576x360 with 1 Axes>"
            ],
            "image/png": "[encoded data removed]"
          },
          "metadata": {
            "needs_background": "light"
          }
        }
      ]
    },
    {
      "cell_type": "markdown",
      "metadata": {
        "id": "CgnCGYUvDqbC"
      },
      "source": [
        "### [TO COMPLETE] L2-norm\n",
        "\n",
        "L2-norm regularization is also known as weight decay. This strategy drives the weights closer to the origin by adding the regularization term omega which is defined as:\n",
        "$$\n",
        " \\Omega(\\theta)=\\frac{1}{2}||\\mathbf{W}||_2^2\n",
        "$$\n",
        "\n",
        "Let's find the values for the $\\alpha$ parameters that allow removing remove the overfitting effect with L2-norm."
      ]
    },
    {
      "cell_type": "code",
      "metadata": {
        "id": "qqNhu350DtJo",
        "colab": {
          "base_uri": "https://localhost:8080/",
          "height": 1000
        },
        "outputId": "2ea45341-6a75-455b-9e3c-0de31e0b4b81"
      },
      "source": [
        "#[TO COMPLETE] insert the model that you previously defined that overfit the\n",
        "#trainig data, and add the L2-norm regularization. Use proper values for the\n",
        "#alpha hyper-parameters, that prevents the model from overfitting. The results\n",
        "#reached by the model in terms of loss and accuracy (in all data sets) should be\n",
        "#comparable with the ones obtained by the initial model defined in Exercise 2.1\n",
        "\n",
        "#In general, a layer that exploits L2-norm regularization is defined as follow:\n",
        "\n",
        "#model.add(keras.layers.Dense(units=[TO COMPLETE], activation=[TO COMPLETE],kernel_regularizer=tf.keras.regularizers.l2([TO COMPLETE])))\n",
        "\n",
        "alpha=1e-3\n",
        "model = keras.models.Sequential([\n",
        "    tf.keras.Input(shape=(num_words,)),\n",
        "    keras.layers.Dense(32, activation=\"relu\", kernel_regularizer=tf.keras.regularizers.l2(alpha)),\n",
        "    keras.layers.Dense(32, activation=\"relu\",kernel_regularizer=tf.keras.regularizers.l2(alpha)),\n",
        "    keras.layers.Dense(4, activation=\"softmax\",kernel_regularizer=tf.keras.regularizers.l2(alpha))\n",
        "])\n",
        "#[TO COMPLETE]\n",
        "\n",
        "model.compile(loss=\"sparse_categorical_crossentropy\",\n",
        "              optimizer=keras.optimizers.Adam(learning_rate=1e-3),#[TO COMPLETE] learning rate\n",
        "              metrics=[\"accuracy\"])\n",
        "\n",
        "history = model.fit(X_train, y_train, epochs=30,#[TO COMPLETE] epochs\n",
        "                    validation_data=(X_valid, y_valid))\n",
        "\n",
        "print(\"Model Evaluation\")\n",
        "model.evaluate(X_test, y_test)\n",
        "plot_learning_curves(history)"
      ],
      "execution_count": null,
      "outputs": [
        {
          "output_type": "stream",
          "name": "stdout",
          "text": [
            "Epoch 1/30\n",
            "3375/3375 [==============================] - 61s 3ms/step - loss: 0.5747 - accuracy: 0.8263 - val_loss: 0.5308 - val_accuracy: 0.8416\n",
            "Epoch 2/30\n",
            "3375/3375 [==============================] - 8s 2ms/step - loss: 0.5132 - accuracy: 0.8456 - val_loss: 0.5106 - val_accuracy: 0.8457\n",
            "Epoch 3/30\n",
            "3375/3375 [==============================] - 8s 2ms/step - loss: 0.5013 - accuracy: 0.8492 - val_loss: 0.5044 - val_accuracy: 0.8465\n",
            "Epoch 4/30\n",
            "3375/3375 [==============================] - 8s 2ms/step - loss: 0.4953 - accuracy: 0.8505 - val_loss: 0.5126 - val_accuracy: 0.8420\n",
            "Epoch 5/30\n",
            "3375/3375 [==============================] - 8s 2ms/step - loss: 0.4895 - accuracy: 0.8531 - val_loss: 0.4949 - val_accuracy: 0.8507\n",
            "Epoch 6/30\n",
            "3375/3375 [==============================] - 8s 2ms/step - loss: 0.4842 - accuracy: 0.8547 - val_loss: 0.4974 - val_accuracy: 0.8487\n",
            "Epoch 7/30\n",
            "3375/3375 [==============================] - 8s 2ms/step - loss: 0.4817 - accuracy: 0.8557 - val_loss: 0.5042 - val_accuracy: 0.8473\n",
            "Epoch 8/30\n",
            "3375/3375 [==============================] - 8s 2ms/step - loss: 0.4803 - accuracy: 0.8554 - val_loss: 0.4878 - val_accuracy: 0.8547\n",
            "Epoch 9/30\n",
            "3375/3375 [==============================] - 8s 2ms/step - loss: 0.4786 - accuracy: 0.8569 - val_loss: 0.4929 - val_accuracy: 0.8499\n",
            "Epoch 10/30\n",
            "3375/3375 [==============================] - 8s 2ms/step - loss: 0.4778 - accuracy: 0.8576 - val_loss: 0.4944 - val_accuracy: 0.8513\n",
            "Epoch 11/30\n",
            "3375/3375 [==============================] - 8s 2ms/step - loss: 0.4772 - accuracy: 0.8570 - val_loss: 0.4874 - val_accuracy: 0.8533\n",
            "Epoch 12/30\n",
            "3375/3375 [==============================] - 8s 2ms/step - loss: 0.4766 - accuracy: 0.8581 - val_loss: 0.4891 - val_accuracy: 0.8520\n",
            "Epoch 13/30\n",
            "3375/3375 [==============================] - 8s 2ms/step - loss: 0.4759 - accuracy: 0.8573 - val_loss: 0.4836 - val_accuracy: 0.8519\n",
            "Epoch 14/30\n",
            "3375/3375 [==============================] - 8s 2ms/step - loss: 0.4747 - accuracy: 0.8581 - val_loss: 0.4896 - val_accuracy: 0.8515\n",
            "Epoch 15/30\n",
            "3375/3375 [==============================] - 8s 2ms/step - loss: 0.4743 - accuracy: 0.8574 - val_loss: 0.4828 - val_accuracy: 0.8527\n",
            "Epoch 16/30\n",
            "3375/3375 [==============================] - 8s 2ms/step - loss: 0.4731 - accuracy: 0.8587 - val_loss: 0.4835 - val_accuracy: 0.8531\n",
            "Epoch 17/30\n",
            "3375/3375 [==============================] - 8s 2ms/step - loss: 0.4725 - accuracy: 0.8581 - val_loss: 0.4829 - val_accuracy: 0.8554\n",
            "Epoch 18/30\n",
            "3375/3375 [==============================] - 8s 2ms/step - loss: 0.4721 - accuracy: 0.8579 - val_loss: 0.4816 - val_accuracy: 0.8538\n",
            "Epoch 19/30\n",
            "3375/3375 [==============================] - 8s 2ms/step - loss: 0.4718 - accuracy: 0.8587 - val_loss: 0.4814 - val_accuracy: 0.8554\n",
            "Epoch 20/30\n",
            "3375/3375 [==============================] - 8s 2ms/step - loss: 0.4715 - accuracy: 0.8580 - val_loss: 0.4934 - val_accuracy: 0.8512\n",
            "Epoch 21/30\n",
            "3375/3375 [==============================] - 8s 2ms/step - loss: 0.4717 - accuracy: 0.8576 - val_loss: 0.4828 - val_accuracy: 0.8550\n",
            "Epoch 22/30\n",
            "3375/3375 [==============================] - 8s 2ms/step - loss: 0.4717 - accuracy: 0.8589 - val_loss: 0.4902 - val_accuracy: 0.8497\n",
            "Epoch 23/30\n",
            "3375/3375 [==============================] - 8s 2ms/step - loss: 0.4712 - accuracy: 0.8581 - val_loss: 0.4834 - val_accuracy: 0.8539\n",
            "Epoch 24/30\n",
            "3375/3375 [==============================] - 8s 2ms/step - loss: 0.4713 - accuracy: 0.8592 - val_loss: 0.4836 - val_accuracy: 0.8522\n",
            "Epoch 25/30\n",
            "3375/3375 [==============================] - 8s 2ms/step - loss: 0.4711 - accuracy: 0.8592 - val_loss: 0.4811 - val_accuracy: 0.8534\n",
            "Epoch 26/30\n",
            "3375/3375 [==============================] - 8s 2ms/step - loss: 0.4713 - accuracy: 0.8574 - val_loss: 0.4847 - val_accuracy: 0.8542\n",
            "Epoch 27/30\n",
            "3375/3375 [==============================] - 8s 2ms/step - loss: 0.4709 - accuracy: 0.8590 - val_loss: 0.4847 - val_accuracy: 0.8524\n",
            "Epoch 28/30\n",
            "3375/3375 [==============================] - 8s 2ms/step - loss: 0.4710 - accuracy: 0.8585 - val_loss: 0.4823 - val_accuracy: 0.8530\n",
            "Epoch 29/30\n",
            "3375/3375 [==============================] - 8s 2ms/step - loss: 0.4710 - accuracy: 0.8591 - val_loss: 0.4780 - val_accuracy: 0.8568\n",
            "Epoch 30/30\n",
            "3375/3375 [==============================] - 8s 2ms/step - loss: 0.4702 - accuracy: 0.8588 - val_loss: 0.4831 - val_accuracy: 0.8553\n",
            "Model Evaluation\n",
            "238/238 [==============================] - 1s 2ms/step - loss: 0.4966 - accuracy: 0.8472\n"
          ]
        },
        {
          "output_type": "display_data",
          "data": {
            "text/plain": [
              "<Figure size 576x360 with 1 Axes>"
            ],
            "image/png": "[encoded data removed]"
          },
          "metadata": {
            "needs_background": "light"
          }
        }
      ]
    },
    {
      "cell_type": "markdown",
      "metadata": {
        "id": "xvyKPb4DD25G"
      },
      "source": [
        "###[TO COMPLETE] Early stopping\n",
        "\n",
        "Early Stopping is a form of regularization used to avoid overfitting. It is designed to monitor the generalization error of one model and stop training when generalization error begins to degrade. In order to evaluate the generalization error, early stopping requires that a validation dataset is evaluated during training. Then, when the validation error does not improve for a specific number of epochs (`patience` hyper-parameter), it stops the training phase."
      ]
    },
    {
      "cell_type": "code",
      "metadata": {
        "id": "MqNOOZ11D7cq",
        "colab": {
          "base_uri": "https://localhost:8080/",
          "height": 544
        },
        "outputId": "179d44c8-8df5-4bfb-df06-bc938181901e"
      },
      "source": [
        "#[TO COMPLETE] insert the model that you previously defined that overfit the\n",
        "#trainnig data\n",
        "model = keras.models.Sequential([\n",
        "    tf.keras.Input(shape=(num_words,)),\n",
        "    keras.layers.Dense(32, activation=\"relu\"),\n",
        "    keras.layers.Dense(32, activation=\"relu\"),\n",
        "    keras.layers.Dense(4, activation=\"softmax\")\n",
        "])\n",
        "\n",
        "\n",
        "model.compile(loss=\"sparse_categorical_crossentropy\",\n",
        "              optimizer=keras.optimizers.Adam(learning_rate=1e-3),#[TO COMPLETE] learning rate\n",
        "\n",
        "              metrics=[\"accuracy\"])\n",
        "\n",
        "#Let's define a log dir in order to save the checkpoint file\n",
        "logdir = os.path.join(os.curdir, \"my_logs\", \"run_{}\".format(time.time()))\n",
        "\n",
        "#In Keras the early stopping is manage by using the callbacks argument.\n",
        "callbacks = [\n",
        "    keras.callbacks.TensorBoard(logdir),\n",
        "    keras.callbacks.EarlyStopping(patience=2),#[TO COMPLETE] play with patience and find the value that prevents the model from overfitting.\n",
        "\n",
        "\n",
        "    #Saving the checkpoints file allows to load the \"best\" model when the Early\n",
        "    #stopping detect that the generalization error degrade (after 'patience' epochs)\n",
        "    keras.callbacks.ModelCheckpoint(\"my_mnist_model.h5\", save_best_only=True),\n",
        "]\n",
        "\n",
        "history = model.fit(X_train, y_train, epochs=30,#[TO COMPLETE] epochs\n",
        "                    validation_data=(X_valid, y_valid),\n",
        "                    callbacks=callbacks)\n",
        "\n",
        "print(\"Model Evaluation\")\n",
        "#The early stopping stopped training after few epochs without progress, so your\n",
        "#model may already have started to overfit the training set. Since the\n",
        "#ModelCheckpoint callback only saved the best models (on the validation set) the\n",
        "#last saved model is the best on the validation set.\n",
        "model = keras.models.load_model(\"my_mnist_model.h5\")\n",
        "model.evaluate(X_test, y_test)\n",
        "plot_learning_curves(history)"
      ],
      "execution_count": null,
      "outputs": [
        {
          "output_type": "stream",
          "name": "stdout",
          "text": [
            "Epoch 1/30\n",
            "3375/3375 [==============================] - 9s 2ms/step - loss: 0.4610 - accuracy: 0.8331 - val_loss: 0.4096 - val_accuracy: 0.8528\n",
            "Epoch 2/30\n",
            "3375/3375 [==============================] - 8s 2ms/step - loss: 0.3860 - accuracy: 0.8588 - val_loss: 0.3973 - val_accuracy: 0.8561\n",
            "Epoch 3/30\n",
            "3375/3375 [==============================] - 8s 2ms/step - loss: 0.3575 - accuracy: 0.8690 - val_loss: 0.3924 - val_accuracy: 0.8572\n",
            "Epoch 4/30\n",
            "3375/3375 [==============================] - 8s 2ms/step - loss: 0.3338 - accuracy: 0.8774 - val_loss: 0.3953 - val_accuracy: 0.8578\n",
            "Epoch 5/30\n",
            "3375/3375 [==============================] - 8s 2ms/step - loss: 0.3120 - accuracy: 0.8864 - val_loss: 0.3950 - val_accuracy: 0.8576\n",
            "Model Evaluation\n",
            "238/238 [==============================] - 1s 2ms/step - loss: 0.3999 - accuracy: 0.8529\n"
          ]
        },
        {
          "output_type": "display_data",
          "data": {
            "text/plain": [
              "<Figure size 576x360 with 1 Axes>"
            ],
            "image/png": "[encoded data removed]"
          },
          "metadata": {
            "needs_background": "light"
          }
        }
      ]
    },
    {
      "cell_type": "markdown",
      "metadata": {
        "id": "DCV8pwVzl9GK"
      },
      "source": [
        "\n",
        "## Exercise 2.3: Model Selection\n",
        "\n",
        "Hyperparameters are the parameters of the learning method itself which we have to specify a priori, i.e., before model fitting. In contrast, model parameters are parameters which arise as a result of the fit (the network weights). The aim of model selection is selecting the best hyperparameters for our deep network. Finding the right hyperparameters for a model can be crucial for the model performance on given data. For istance lets consider our model trained by using different values for the learning rate:"
      ]
    },
    {
      "cell_type": "code",
      "metadata": {
        "id": "Fw8Hs-AEmLKh"
      },
      "source": [
        "learning_rates = [1e-4, 1e-2, 1e-1]"
      ],
      "execution_count": null,
      "outputs": []
    },
    {
      "cell_type": "code",
      "metadata": {
        "id": "mym4GOgUmWqD",
        "colab": {
          "base_uri": "https://localhost:8080/"
        },
        "outputId": "b9d7abf2-b25a-4edd-966e-c31158eb1c36"
      },
      "source": [
        "histories = []\n",
        "for learning_rate in learning_rates:\n",
        "    model = keras.models.Sequential([\n",
        "                                    tf.keras.Input(shape=(num_words,)),\n",
        "                                    keras.layers.Dense(16, activation=\"relu\"),\n",
        "                                    keras.layers.Dense(16, activation=\"relu\"),\n",
        "                                    keras.layers.Dense(4, activation=\"softmax\")\n",
        "                                     ])\n",
        "    model.compile(loss=\"sparse_categorical_crossentropy\",\n",
        "              optimizer=keras.optimizers.Adam(learning_rate=learning_rate),\n",
        "              metrics=[\"accuracy\"])\n",
        "\n",
        "    callbacks = [keras.callbacks.EarlyStopping(patience=2)]\n",
        "\n",
        "    history = model.fit(X_train, y_train,\n",
        "                        validation_data=(X_valid, y_valid), epochs=10,\n",
        "                        callbacks=callbacks)\n",
        "    histories.append(history)\n",
        "    print(\"evaluation on test set\")\n",
        "    model.evaluate(X_test, y_test)"
      ],
      "execution_count": null,
      "outputs": [
        {
          "output_type": "stream",
          "name": "stdout",
          "text": [
            "Epoch 1/10\n",
            "3375/3375 [==============================] - 8s 2ms/step - loss: 0.8018 - accuracy: 0.7129 - val_loss: 0.4933 - val_accuracy: 0.8348\n",
            "Epoch 2/10\n",
            "3375/3375 [==============================] - 8s 2ms/step - loss: 0.4500 - accuracy: 0.8450 - val_loss: 0.4404 - val_accuracy: 0.8497\n",
            "Epoch 3/10\n",
            "3375/3375 [==============================] - 8s 2ms/step - loss: 0.4179 - accuracy: 0.8543 - val_loss: 0.4280 - val_accuracy: 0.8510\n",
            "Epoch 4/10\n",
            "3375/3375 [==============================] - 8s 2ms/step - loss: 0.4048 - accuracy: 0.8572 - val_loss: 0.4202 - val_accuracy: 0.8529\n",
            "Epoch 5/10\n",
            "3375/3375 [==============================] - 8s 2ms/step - loss: 0.3973 - accuracy: 0.8590 - val_loss: 0.4172 - val_accuracy: 0.8528\n",
            "Epoch 6/10\n",
            "3375/3375 [==============================] - 8s 2ms/step - loss: 0.3922 - accuracy: 0.8600 - val_loss: 0.4143 - val_accuracy: 0.8520\n",
            "Epoch 7/10\n",
            "3375/3375 [==============================] - 8s 2ms/step - loss: 0.3879 - accuracy: 0.8618 - val_loss: 0.4116 - val_accuracy: 0.8532\n",
            "Epoch 8/10\n",
            "3375/3375 [==============================] - 8s 2ms/step - loss: 0.3843 - accuracy: 0.8622 - val_loss: 0.4100 - val_accuracy: 0.8543\n",
            "Epoch 9/10\n",
            "3375/3375 [==============================] - 8s 2ms/step - loss: 0.3810 - accuracy: 0.8630 - val_loss: 0.4069 - val_accuracy: 0.8543\n",
            "Epoch 10/10\n",
            "3375/3375 [==============================] - 9s 3ms/step - loss: 0.3780 - accuracy: 0.8635 - val_loss: 0.4060 - val_accuracy: 0.8562\n",
            "evaluation on test set\n",
            "238/238 [==============================] - 1s 3ms/step - loss: 0.4169 - accuracy: 0.8467\n",
            "Epoch 1/10\n",
            "3375/3375 [==============================] - 8s 2ms/step - loss: 0.4647 - accuracy: 0.8320 - val_loss: 0.4317 - val_accuracy: 0.8481\n",
            "Epoch 2/10\n",
            "3375/3375 [==============================] - 8s 2ms/step - loss: 0.4100 - accuracy: 0.8512 - val_loss: 0.4116 - val_accuracy: 0.8502\n",
            "Epoch 3/10\n",
            "3375/3375 [==============================] - 8s 2ms/step - loss: 0.3897 - accuracy: 0.8576 - val_loss: 0.4103 - val_accuracy: 0.8547\n",
            "Epoch 4/10\n",
            "3375/3375 [==============================] - 8s 2ms/step - loss: 0.3752 - accuracy: 0.8623 - val_loss: 0.4249 - val_accuracy: 0.8518\n",
            "Epoch 5/10\n",
            "3375/3375 [==============================] - 8s 2ms/step - loss: 0.3643 - accuracy: 0.8664 - val_loss: 0.4214 - val_accuracy: 0.8515\n",
            "evaluation on test set\n",
            "238/238 [==============================] - 1s 2ms/step - loss: 0.4379 - accuracy: 0.8433\n",
            "Epoch 1/10\n",
            "3375/3375 [==============================] - 8s 2ms/step - loss: 0.6540 - accuracy: 0.7798 - val_loss: 0.6182 - val_accuracy: 0.7893\n",
            "Epoch 2/10\n",
            "3375/3375 [==============================] - 8s 2ms/step - loss: 0.6566 - accuracy: 0.7784 - val_loss: 0.6268 - val_accuracy: 0.7585\n",
            "Epoch 3/10\n",
            "3375/3375 [==============================] - 8s 2ms/step - loss: 0.6524 - accuracy: 0.7874 - val_loss: 0.6694 - val_accuracy: 0.7144\n",
            "evaluation on test set\n",
            "238/238 [==============================] - 1s 3ms/step - loss: 0.6929 - accuracy: 0.7149\n"
          ]
        }
      ]
    },
    {
      "cell_type": "markdown",
      "metadata": {
        "id": "RzTSjfwptkHJ"
      },
      "source": [
        "Let's plot the results"
      ]
    },
    {
      "cell_type": "code",
      "metadata": {
        "id": "cIlN1vlioIYh",
        "colab": {
          "base_uri": "https://localhost:8080/",
          "height": 978
        },
        "outputId": "6794b5db-5a2b-464f-a13c-711b9c49361b"
      },
      "source": [
        "for learning_rate, history in zip(learning_rates, histories):\n",
        "    print(\"Learning rate:\", learning_rate)\n",
        "    plot_learning_acc_and_loss(history)"
      ],
      "execution_count": null,
      "outputs": [
        {
          "output_type": "stream",
          "name": "stdout",
          "text": [
            "Learning rate: 0.0001\n"
          ]
        },
        {
          "output_type": "display_data",
          "data": {
            "text/plain": [
              "<Figure size 576x360 with 1 Axes>"
            ],
            "image/png": "[encoded data removed]"
          },
          "metadata": {
            "needs_background": "light"
          }
        },
        {
          "output_type": "stream",
          "name": "stdout",
          "text": [
            "Learning rate: 0.01\n"
          ]
        },
        {
          "output_type": "display_data",
          "data": {
            "text/plain": [
              "<Figure size 576x360 with 1 Axes>"
            ],
            "image/png": "[encoded data removed]"
          },
          "metadata": {
            "needs_background": "light"
          }
        },
        {
          "output_type": "stream",
          "name": "stdout",
          "text": [
            "Learning rate: 0.1\n"
          ]
        },
        {
          "output_type": "display_data",
          "data": {
            "text/plain": [
              "<Figure size 576x360 with 1 Axes>"
            ],
            "image/png": "[encoded data removed]"
          },
          "metadata": {
            "needs_background": "light"
          }
        }
      ]
    },
    {
      "cell_type": "markdown",
      "metadata": {
        "id": "_JntujSWq3e5"
      },
      "source": [
        "### [TO COMPLETE] GRID Search:\n",
        "\n",
        "Since a deep net has many hyperparameters, in order to find the best ones, we have to consider all the possible combinations of all of the possible values. One common method to perform this complex task is Grid-Search.\n",
        "Given a set of values for each hyper-parameter, Grid-Search will build a model on each parameter combination possible. It iterates through every parameter combination and stores a model for each combination. Finally, the model that obtained the best result on the validation set will be select.\n",
        "\n",
        "In order to perfrom Grid-Search we will use the `GridSearchCV` class from `scikit-learn`."
      ]
    },
    {
      "cell_type": "markdown",
      "metadata": {
        "id": "CPz629YSrDhN"
      },
      "source": [
        "Let's Create a `build_model()` function that takes two arguments, `n_neurons` and `learning_rate`, and builds, compiles and returns a model with the given number of of neurons and the given learning rate.\n",
        "In order to limit the time requirements of the process we will consider only these two hyper-paramters.\n",
        "\n",
        "[TO COMPLETE] in the following code cell define the `build_model` function."
      ]
    },
    {
      "cell_type": "code",
      "metadata": {
        "id": "oGSKWTTtqxZ4",
        "colab": {
          "base_uri": "https://localhost:8080/"
        },
        "outputId": "ac5a0353-a3c2-41e9-d257-4152cda83031"
      },
      "source": [
        "def build_model(n_units=30, learning_rate=1e-3):\n",
        "    # The function has to build a model similar to the ones we used in previuous execises:\n",
        "    #- a input layer\n",
        "    #- one or two Dense layers composed of n_units and that exploit Relu activation function\n",
        "    #- the output layer that uses the softmax activation function\n",
        "    # Then, the model has to be compiled.\n",
        "    model = keras.models.Sequential([\n",
        "    tf.keras.Input(shape=(num_words,)),\n",
        "    keras.layers.Dense(n_units, activation=\"relu\"),\n",
        "    keras.layers.Dense(n_units, activation=\"relu\"),\n",
        "    keras.layers.Dense(4, activation=\"softmax\")\n",
        "])\n",
        "\n",
        "    # [TO COMPLETE] Then, the model has to be compiled.\n",
        "    model.compile(loss=\"sparse_categorical_crossentropy\", optimizer=keras.optimizers.Adam(learning_rate=learning_rate), metrics=[\"accuracy\"])\n",
        "    return model\n",
        "\n",
        "\n",
        "#Create a keras.wrappers.scikit_learn.KerasRegressor and pass the build_model\n",
        "#function to the constructor. This gives you a Scikit-Learn compatible predictor\n",
        "keras_reg = keras.wrappers.scikit_learn.KerasRegressor(build_model)"
      ],
      "execution_count": null,
      "outputs": [
        {
          "output_type": "stream",
          "name": "stderr",
          "text": [
            "/usr/local/lib/python3.7/dist-packages/ipykernel_launcher.py:21: DeprecationWarning: KerasRegressor is deprecated, use Sci-Keras (https://github.com/adriangb/scikeras) instead. See https://www.adriangb.com/scikeras/stable/migration.html for help migrating.\n"
          ]
        }
      ]
    },
    {
      "cell_type": "markdown",
      "metadata": {
        "id": "PS6W3A2LxDg5"
      },
      "source": [
        "Let's define the lists of hyper-parameters' values. Also in this case, we use a very limited size lists, but in a real-world scenario a reasonable amount of possible values should be considered (try to add some values and check how much the time required to perform the Grid-Search increases)"
      ]
    },
    {
      "cell_type": "code",
      "metadata": {
        "id": "y-uldCW3ru24"
      },
      "source": [
        "param_distribs = {\n",
        "    \"n_units\": [8, 16, 32],# [TO COMPLETE] insert a list that contains few (2 or 3) reasonable value\n",
        "    \"learning_rate\": [0.001,0.01,.1] #[TO COMPLETE] insert a list that contains few (2 or 3) reasonable values\n",
        "    #Check how the time required to perform GRID search increases when increasing the number of values for each hyper-parameter.\n",
        "}"
      ],
      "execution_count": null,
      "outputs": []
    },
    {
      "cell_type": "markdown",
      "metadata": {
        "id": "bEiBxVYtx_sK"
      },
      "source": [
        "Use a `sklearn.model_selection.GridSearchCV` to search the hyperparameter space of your `KerasRegressor`"
      ]
    },
    {
      "cell_type": "code",
      "metadata": {
        "id": "iobF2Bvdr9ER"
      },
      "source": [
        "from sklearn.model_selection import GridSearchCV\n",
        "\n",
        "grid_search = GridSearchCV(keras_reg, param_distribs)"
      ],
      "execution_count": null,
      "outputs": []
    },
    {
      "cell_type": "markdown",
      "metadata": {
        "id": "LVGMcZz_yKSX"
      },
      "source": [
        "Run the Grid-Search"
      ]
    },
    {
      "cell_type": "code",
      "metadata": {
        "id": "-BA3vgTjr-hw",
        "colab": {
          "base_uri": "https://localhost:8080/"
        },
        "outputId": "8f60dcdc-da89-47ee-dba9-8d2b06f9804f"
      },
      "source": [
        "\n",
        "grid_search.fit(X_train.numpy(), y_train.numpy(), epochs=5,#The number of epochs can be modified (check what happens by increasing it)\n",
        "                validation_data=(X_valid.numpy(), y_valid.numpy()))"
      ],
      "execution_count": null,
      "outputs": [
        {
          "output_type": "stream",
          "name": "stdout",
          "text": [
            "Epoch 1/5\n",
            "2700/2700 [==============================] - 7s 2ms/step - loss: 0.5226 - accuracy: 0.8153 - val_loss: 0.4343 - val_accuracy: 0.8474\n",
            "Epoch 2/5\n",
            "2700/2700 [==============================] - 6s 2ms/step - loss: 0.4099 - accuracy: 0.8530 - val_loss: 0.4144 - val_accuracy: 0.8528\n",
            "Epoch 3/5\n",
            "2700/2700 [==============================] - 6s 2ms/step - loss: 0.3967 - accuracy: 0.8562 - val_loss: 0.4137 - val_accuracy: 0.8510\n",
            "Epoch 4/5\n",
            "2700/2700 [==============================] - 6s 2ms/step - loss: 0.3873 - accuracy: 0.8592 - val_loss: 0.4083 - val_accuracy: 0.8512\n",
            "Epoch 5/5\n",
            "2700/2700 [==============================] - 7s 3ms/step - loss: 0.3789 - accuracy: 0.8611 - val_loss: 0.4060 - val_accuracy: 0.8506\n",
            "675/675 [==============================] - 1s 2ms/step - loss: 0.3927 - accuracy: 0.8574\n",
            "Epoch 1/5\n",
            "2700/2700 [==============================] - 7s 2ms/step - loss: 0.5478 - accuracy: 0.8062 - val_loss: 0.4459 - val_accuracy: 0.8433\n",
            "Epoch 2/5\n",
            "2700/2700 [==============================] - 6s 2ms/step - loss: 0.4147 - accuracy: 0.8515 - val_loss: 0.4179 - val_accuracy: 0.8514\n",
            "Epoch 3/5\n",
            "2700/2700 [==============================] - 6s 2ms/step - loss: 0.3960 - accuracy: 0.8563 - val_loss: 0.4175 - val_accuracy: 0.8499\n",
            "Epoch 4/5\n",
            "2700/2700 [==============================] - 6s 2ms/step - loss: 0.3861 - accuracy: 0.8584 - val_loss: 0.4120 - val_accuracy: 0.8500\n",
            "Epoch 5/5\n",
            "2700/2700 [==============================] - 6s 2ms/step - loss: 0.3790 - accuracy: 0.8621 - val_loss: 0.4092 - val_accuracy: 0.8527\n",
            "675/675 [==============================] - 1s 2ms/step - loss: 0.4048 - accuracy: 0.8523\n",
            "Epoch 1/5\n",
            "2700/2700 [==============================] - 7s 2ms/step - loss: 0.5164 - accuracy: 0.8154 - val_loss: 0.4342 - val_accuracy: 0.8467\n",
            "Epoch 2/5\n",
            "2700/2700 [==============================] - 6s 2ms/step - loss: 0.4056 - accuracy: 0.8545 - val_loss: 0.4184 - val_accuracy: 0.8505\n",
            "Epoch 3/5\n",
            "2700/2700 [==============================] - 6s 2ms/step - loss: 0.3937 - accuracy: 0.8576 - val_loss: 0.4153 - val_accuracy: 0.8502\n",
            "Epoch 4/5\n",
            "2700/2700 [==============================] - 6s 2ms/step - loss: 0.3850 - accuracy: 0.8603 - val_loss: 0.4185 - val_accuracy: 0.8496\n",
            "Epoch 5/5\n",
            "2700/2700 [==============================] - 6s 2ms/step - loss: 0.3782 - accuracy: 0.8619 - val_loss: 0.4111 - val_accuracy: 0.8528\n",
            "675/675 [==============================] - 1s 2ms/step - loss: 0.4144 - accuracy: 0.8491\n",
            "Epoch 1/5\n",
            "2700/2700 [==============================] - 7s 2ms/step - loss: 0.5615 - accuracy: 0.8019 - val_loss: 0.4476 - val_accuracy: 0.8472\n",
            "Epoch 2/5\n",
            "2700/2700 [==============================] - 6s 2ms/step - loss: 0.4221 - accuracy: 0.8500 - val_loss: 0.4204 - val_accuracy: 0.8543\n",
            "Epoch 3/5\n",
            "2700/2700 [==============================] - 6s 2ms/step - loss: 0.4007 - accuracy: 0.8545 - val_loss: 0.4133 - val_accuracy: 0.8535\n",
            "Epoch 4/5\n",
            "2700/2700 [==============================] - 6s 2ms/step - loss: 0.3895 - accuracy: 0.8586 - val_loss: 0.4140 - val_accuracy: 0.8533\n",
            "Epoch 5/5\n",
            "2700/2700 [==============================] - 6s 2ms/step - loss: 0.3816 - accuracy: 0.8611 - val_loss: 0.4072 - val_accuracy: 0.8548\n",
            "675/675 [==============================] - 1s 2ms/step - loss: 0.3998 - accuracy: 0.8577\n",
            "Epoch 1/5\n",
            "2700/2700 [==============================] - 7s 2ms/step - loss: 0.5136 - accuracy: 0.8170 - val_loss: 0.4224 - val_accuracy: 0.8504\n",
            "Epoch 2/5\n",
            "2700/2700 [==============================] - 6s 2ms/step - loss: 0.4029 - accuracy: 0.8547 - val_loss: 0.4158 - val_accuracy: 0.8518\n",
            "Epoch 3/5\n",
            "2700/2700 [==============================] - 6s 2ms/step - loss: 0.3921 - accuracy: 0.8576 - val_loss: 0.4103 - val_accuracy: 0.8528\n",
            "Epoch 4/5\n",
            "2700/2700 [==============================] - 6s 2ms/step - loss: 0.3843 - accuracy: 0.8596 - val_loss: 0.4093 - val_accuracy: 0.8531\n",
            "Epoch 5/5\n",
            "2700/2700 [==============================] - 6s 2ms/step - loss: 0.3774 - accuracy: 0.8607 - val_loss: 0.4080 - val_accuracy: 0.8539\n",
            "675/675 [==============================] - 1s 2ms/step - loss: 0.4103 - accuracy: 0.8526\n",
            "Epoch 1/5\n",
            "2700/2700 [==============================] - 7s 2ms/step - loss: 0.4985 - accuracy: 0.8211 - val_loss: 0.4374 - val_accuracy: 0.8459\n",
            "Epoch 2/5\n",
            "2700/2700 [==============================] - 7s 2ms/step - loss: 0.4049 - accuracy: 0.8538 - val_loss: 0.4125 - val_accuracy: 0.8543\n",
            "Epoch 3/5\n",
            "2700/2700 [==============================] - 7s 2ms/step - loss: 0.3856 - accuracy: 0.8592 - val_loss: 0.4107 - val_accuracy: 0.8538\n",
            "Epoch 4/5\n",
            "2700/2700 [==============================] - 6s 2ms/step - loss: 0.3705 - accuracy: 0.8654 - val_loss: 0.4054 - val_accuracy: 0.8528\n",
            "Epoch 5/5\n",
            "2700/2700 [==============================] - 6s 2ms/step - loss: 0.3568 - accuracy: 0.8689 - val_loss: 0.4061 - val_accuracy: 0.8543\n",
            "675/675 [==============================] - 1s 2ms/step - loss: 0.3904 - accuracy: 0.8595\n",
            "Epoch 1/5\n",
            "2700/2700 [==============================] - 7s 2ms/step - loss: 0.4869 - accuracy: 0.8270 - val_loss: 0.4294 - val_accuracy: 0.8490\n",
            "Epoch 2/5\n",
            "2700/2700 [==============================] - 6s 2ms/step - loss: 0.4018 - accuracy: 0.8548 - val_loss: 0.4121 - val_accuracy: 0.8518\n",
            "Epoch 3/5\n",
            "2700/2700 [==============================] - 6s 2ms/step - loss: 0.3823 - accuracy: 0.8592 - val_loss: 0.4092 - val_accuracy: 0.8537\n",
            "Epoch 4/5\n",
            "2700/2700 [==============================] - 6s 2ms/step - loss: 0.3663 - accuracy: 0.8641 - val_loss: 0.4071 - val_accuracy: 0.8520\n",
            "Epoch 5/5\n",
            "2700/2700 [==============================] - 6s 2ms/step - loss: 0.3518 - accuracy: 0.8705 - val_loss: 0.4054 - val_accuracy: 0.8546\n",
            "675/675 [==============================] - 1s 2ms/step - loss: 0.3989 - accuracy: 0.8519\n",
            "Epoch 1/5\n",
            "2700/2700 [==============================] - 7s 2ms/step - loss: 0.4967 - accuracy: 0.8219 - val_loss: 0.4314 - val_accuracy: 0.8472\n",
            "Epoch 2/5\n",
            "2700/2700 [==============================] - 6s 2ms/step - loss: 0.4004 - accuracy: 0.8545 - val_loss: 0.4092 - val_accuracy: 0.8518\n",
            "Epoch 3/5\n",
            "2700/2700 [==============================] - 6s 2ms/step - loss: 0.3793 - accuracy: 0.8616 - val_loss: 0.4023 - val_accuracy: 0.8531\n",
            "Epoch 4/5\n",
            "2700/2700 [==============================] - 6s 2ms/step - loss: 0.3624 - accuracy: 0.8668 - val_loss: 0.4040 - val_accuracy: 0.8525\n",
            "Epoch 5/5\n",
            "2700/2700 [==============================] - 6s 2ms/step - loss: 0.3485 - accuracy: 0.8721 - val_loss: 0.3995 - val_accuracy: 0.8558\n",
            "675/675 [==============================] - 1s 2ms/step - loss: 0.4107 - accuracy: 0.8497\n",
            "Epoch 1/5\n",
            "2700/2700 [==============================] - 7s 3ms/step - loss: 0.4996 - accuracy: 0.8203 - val_loss: 0.4258 - val_accuracy: 0.8485\n",
            "Epoch 2/5\n",
            "2700/2700 [==============================] - 6s 2ms/step - loss: 0.4082 - accuracy: 0.8520 - val_loss: 0.4110 - val_accuracy: 0.8519\n",
            "Epoch 3/5\n",
            "2700/2700 [==============================] - 6s 2ms/step - loss: 0.3889 - accuracy: 0.8562 - val_loss: 0.4024 - val_accuracy: 0.8529\n",
            "Epoch 4/5\n",
            "2700/2700 [==============================] - 6s 2ms/step - loss: 0.3724 - accuracy: 0.8624 - val_loss: 0.4029 - val_accuracy: 0.8528\n",
            "Epoch 5/5\n",
            "2700/2700 [==============================] - 6s 2ms/step - loss: 0.3591 - accuracy: 0.8650 - val_loss: 0.3972 - val_accuracy: 0.8546\n",
            "675/675 [==============================] - 1s 2ms/step - loss: 0.3897 - accuracy: 0.8591\n",
            "Epoch 1/5\n",
            "2700/2700 [==============================] - 7s 2ms/step - loss: 0.4869 - accuracy: 0.8247 - val_loss: 0.4177 - val_accuracy: 0.8515\n",
            "Epoch 2/5\n",
            "2700/2700 [==============================] - 7s 3ms/step - loss: 0.3985 - accuracy: 0.8543 - val_loss: 0.4099 - val_accuracy: 0.8506\n",
            "Epoch 3/5\n",
            "2700/2700 [==============================] - 6s 2ms/step - loss: 0.3809 - accuracy: 0.8598 - val_loss: 0.4035 - val_accuracy: 0.8553\n",
            "Epoch 4/5\n",
            "2700/2700 [==============================] - 6s 2ms/step - loss: 0.3668 - accuracy: 0.8649 - val_loss: 0.4031 - val_accuracy: 0.8553\n",
            "Epoch 5/5\n",
            "2700/2700 [==============================] - 6s 2ms/step - loss: 0.3542 - accuracy: 0.8689 - val_loss: 0.4043 - val_accuracy: 0.8556\n",
            "675/675 [==============================] - 1s 2ms/step - loss: 0.4076 - accuracy: 0.8544\n",
            "Epoch 1/5\n",
            "2700/2700 [==============================] - 7s 2ms/step - loss: 0.4830 - accuracy: 0.8249 - val_loss: 0.4311 - val_accuracy: 0.8443\n",
            "Epoch 2/5\n",
            "2700/2700 [==============================] - 6s 2ms/step - loss: 0.3920 - accuracy: 0.8558 - val_loss: 0.3999 - val_accuracy: 0.8550\n",
            "Epoch 3/5\n",
            "2700/2700 [==============================] - 6s 2ms/step - loss: 0.3624 - accuracy: 0.8670 - val_loss: 0.4000 - val_accuracy: 0.8555\n",
            "Epoch 4/5\n",
            "2700/2700 [==============================] - 6s 2ms/step - loss: 0.3376 - accuracy: 0.8763 - val_loss: 0.3996 - val_accuracy: 0.8594\n",
            "Epoch 5/5\n",
            "2700/2700 [==============================] - 6s 2ms/step - loss: 0.3145 - accuracy: 0.8858 - val_loss: 0.4091 - val_accuracy: 0.8572\n",
            "675/675 [==============================] - 1s 2ms/step - loss: 0.3951 - accuracy: 0.8586\n",
            "Epoch 1/5\n",
            "2700/2700 [==============================] - 7s 2ms/step - loss: 0.4844 - accuracy: 0.8259 - val_loss: 0.4281 - val_accuracy: 0.8473\n",
            "Epoch 2/5\n",
            "2700/2700 [==============================] - 6s 2ms/step - loss: 0.3961 - accuracy: 0.8552 - val_loss: 0.4069 - val_accuracy: 0.8527\n",
            "Epoch 3/5\n",
            "2700/2700 [==============================] - 6s 2ms/step - loss: 0.3717 - accuracy: 0.8635 - val_loss: 0.4053 - val_accuracy: 0.8542\n",
            "Epoch 4/5\n",
            "2700/2700 [==============================] - 6s 2ms/step - loss: 0.3498 - accuracy: 0.8707 - val_loss: 0.4036 - val_accuracy: 0.8559\n",
            "Epoch 5/5\n",
            "2700/2700 [==============================] - 6s 2ms/step - loss: 0.3286 - accuracy: 0.8791 - val_loss: 0.4052 - val_accuracy: 0.8555\n",
            "675/675 [==============================] - 1s 2ms/step - loss: 0.3976 - accuracy: 0.8540\n",
            "Epoch 1/5\n",
            "2700/2700 [==============================] - 7s 2ms/step - loss: 0.4755 - accuracy: 0.8291 - val_loss: 0.4259 - val_accuracy: 0.8453\n",
            "Epoch 2/5\n",
            "2700/2700 [==============================] - 6s 2ms/step - loss: 0.3901 - accuracy: 0.8583 - val_loss: 0.4021 - val_accuracy: 0.8543\n",
            "Epoch 3/5\n",
            "2700/2700 [==============================] - 6s 2ms/step - loss: 0.3608 - accuracy: 0.8680 - val_loss: 0.3981 - val_accuracy: 0.8561\n",
            "Epoch 4/5\n",
            "2700/2700 [==============================] - 6s 2ms/step - loss: 0.3342 - accuracy: 0.8777 - val_loss: 0.4030 - val_accuracy: 0.8597\n",
            "Epoch 5/5\n",
            "2700/2700 [==============================] - 6s 2ms/step - loss: 0.3100 - accuracy: 0.8867 - val_loss: 0.4016 - val_accuracy: 0.8581\n",
            "675/675 [==============================] - 1s 2ms/step - loss: 0.4125 - accuracy: 0.8512\n",
            "Epoch 1/5\n",
            "2700/2700 [==============================] - 7s 2ms/step - loss: 0.4794 - accuracy: 0.8280 - val_loss: 0.4189 - val_accuracy: 0.8483\n",
            "Epoch 2/5\n",
            "2700/2700 [==============================] - 6s 2ms/step - loss: 0.3958 - accuracy: 0.8539 - val_loss: 0.4003 - val_accuracy: 0.8577\n",
            "Epoch 3/5\n",
            "2700/2700 [==============================] - 6s 2ms/step - loss: 0.3685 - accuracy: 0.8632 - val_loss: 0.3946 - val_accuracy: 0.8548\n",
            "Epoch 4/5\n",
            "2700/2700 [==============================] - 6s 2ms/step - loss: 0.3435 - accuracy: 0.8728 - val_loss: 0.3965 - val_accuracy: 0.8574\n",
            "Epoch 5/5\n",
            "2700/2700 [==============================] - 6s 2ms/step - loss: 0.3209 - accuracy: 0.8812 - val_loss: 0.3952 - val_accuracy: 0.8579\n",
            "675/675 [==============================] - 1s 2ms/step - loss: 0.3925 - accuracy: 0.8583\n",
            "Epoch 1/5\n",
            "2700/2700 [==============================] - 7s 2ms/step - loss: 0.4741 - accuracy: 0.8301 - val_loss: 0.4179 - val_accuracy: 0.8520\n",
            "Epoch 2/5\n",
            "2700/2700 [==============================] - 6s 2ms/step - loss: 0.3936 - accuracy: 0.8550 - val_loss: 0.4060 - val_accuracy: 0.8523\n",
            "Epoch 3/5\n",
            "2700/2700 [==============================] - 6s 2ms/step - loss: 0.3665 - accuracy: 0.8645 - val_loss: 0.3994 - val_accuracy: 0.8550\n",
            "Epoch 4/5\n",
            "2700/2700 [==============================] - 6s 2ms/step - loss: 0.3416 - accuracy: 0.8733 - val_loss: 0.3989 - val_accuracy: 0.8540\n",
            "Epoch 5/5\n",
            "2700/2700 [==============================] - 6s 2ms/step - loss: 0.3183 - accuracy: 0.8823 - val_loss: 0.4066 - val_accuracy: 0.8551\n",
            "675/675 [==============================] - 1s 2ms/step - loss: 0.4133 - accuracy: 0.8544\n",
            "Epoch 1/5\n",
            "2700/2700 [==============================] - 7s 2ms/step - loss: 0.4824 - accuracy: 0.8259 - val_loss: 0.4737 - val_accuracy: 0.8338\n",
            "Epoch 2/5\n",
            "2700/2700 [==============================] - 6s 2ms/step - loss: 0.4247 - accuracy: 0.8472 - val_loss: 0.4279 - val_accuracy: 0.8486\n",
            "Epoch 3/5\n",
            "2700/2700 [==============================] - 6s 2ms/step - loss: 0.4089 - accuracy: 0.8519 - val_loss: 0.4404 - val_accuracy: 0.8432\n",
            "Epoch 4/5\n",
            "2700/2700 [==============================] - 6s 2ms/step - loss: 0.3999 - accuracy: 0.8562 - val_loss: 0.4318 - val_accuracy: 0.8488\n",
            "Epoch 5/5\n",
            "2700/2700 [==============================] - 6s 2ms/step - loss: 0.3911 - accuracy: 0.8576 - val_loss: 0.4312 - val_accuracy: 0.8518\n",
            "675/675 [==============================] - 1s 2ms/step - loss: 0.4213 - accuracy: 0.8507\n",
            "Epoch 1/5\n",
            "2700/2700 [==============================] - 7s 2ms/step - loss: 0.4815 - accuracy: 0.8255 - val_loss: 0.4391 - val_accuracy: 0.8422\n",
            "Epoch 2/5\n",
            "2700/2700 [==============================] - 6s 2ms/step - loss: 0.4177 - accuracy: 0.8492 - val_loss: 0.4284 - val_accuracy: 0.8457\n",
            "Epoch 3/5\n",
            "2700/2700 [==============================] - 6s 2ms/step - loss: 0.4020 - accuracy: 0.8538 - val_loss: 0.4436 - val_accuracy: 0.8443\n",
            "Epoch 4/5\n",
            "2700/2700 [==============================] - 6s 2ms/step - loss: 0.3925 - accuracy: 0.8588 - val_loss: 0.4328 - val_accuracy: 0.8487\n",
            "Epoch 5/5\n",
            "2700/2700 [==============================] - 6s 2ms/step - loss: 0.3848 - accuracy: 0.8606 - val_loss: 0.4300 - val_accuracy: 0.8484\n",
            "675/675 [==============================] - 1s 2ms/step - loss: 0.4227 - accuracy: 0.8481\n",
            "Epoch 1/5\n",
            "2700/2700 [==============================] - 7s 2ms/step - loss: 0.4782 - accuracy: 0.8278 - val_loss: 0.4372 - val_accuracy: 0.8449\n",
            "Epoch 2/5\n",
            "2700/2700 [==============================] - 6s 2ms/step - loss: 0.4130 - accuracy: 0.8510 - val_loss: 0.4204 - val_accuracy: 0.8499\n",
            "Epoch 3/5\n",
            "2700/2700 [==============================] - 6s 2ms/step - loss: 0.3947 - accuracy: 0.8571 - val_loss: 0.4190 - val_accuracy: 0.8494\n",
            "Epoch 4/5\n",
            "2700/2700 [==============================] - 6s 2ms/step - loss: 0.3849 - accuracy: 0.8617 - val_loss: 0.4263 - val_accuracy: 0.8482\n",
            "Epoch 5/5\n",
            "2700/2700 [==============================] - 6s 2ms/step - loss: 0.3770 - accuracy: 0.8636 - val_loss: 0.4271 - val_accuracy: 0.8500\n",
            "675/675 [==============================] - 1s 2ms/step - loss: 0.4381 - accuracy: 0.8445\n",
            "Epoch 1/5\n",
            "2700/2700 [==============================] - 7s 2ms/step - loss: 0.4850 - accuracy: 0.8238 - val_loss: 0.4582 - val_accuracy: 0.8389\n",
            "Epoch 2/5\n",
            "2700/2700 [==============================] - 6s 2ms/step - loss: 0.4256 - accuracy: 0.8458 - val_loss: 0.4311 - val_accuracy: 0.8469\n",
            "Epoch 3/5\n",
            "2700/2700 [==============================] - 6s 2ms/step - loss: 0.4107 - accuracy: 0.8502 - val_loss: 0.4321 - val_accuracy: 0.8432\n",
            "Epoch 4/5\n",
            "2700/2700 [==============================] - 6s 2ms/step - loss: 0.4021 - accuracy: 0.8534 - val_loss: 0.4324 - val_accuracy: 0.8484\n",
            "Epoch 5/5\n",
            "2700/2700 [==============================] - 6s 2ms/step - loss: 0.3944 - accuracy: 0.8551 - val_loss: 0.4220 - val_accuracy: 0.8487\n",
            "675/675 [==============================] - 1s 2ms/step - loss: 0.4188 - accuracy: 0.8510\n",
            "Epoch 1/5\n",
            "2700/2700 [==============================] - 7s 2ms/step - loss: 0.4726 - accuracy: 0.8284 - val_loss: 0.4437 - val_accuracy: 0.8410\n",
            "Epoch 2/5\n",
            "2700/2700 [==============================] - 6s 2ms/step - loss: 0.4150 - accuracy: 0.8489 - val_loss: 0.4257 - val_accuracy: 0.8483\n",
            "Epoch 3/5\n",
            "2700/2700 [==============================] - 6s 2ms/step - loss: 0.3996 - accuracy: 0.8554 - val_loss: 0.4257 - val_accuracy: 0.8481\n",
            "Epoch 4/5\n",
            "2700/2700 [==============================] - 6s 2ms/step - loss: 0.3909 - accuracy: 0.8576 - val_loss: 0.4301 - val_accuracy: 0.8482\n",
            "Epoch 5/5\n",
            "2700/2700 [==============================] - 6s 2ms/step - loss: 0.3830 - accuracy: 0.8583 - val_loss: 0.4253 - val_accuracy: 0.8496\n",
            "675/675 [==============================] - 1s 2ms/step - loss: 0.4285 - accuracy: 0.8480\n",
            "Epoch 1/5\n",
            "2700/2700 [==============================] - 7s 2ms/step - loss: 0.4731 - accuracy: 0.8285 - val_loss: 0.4482 - val_accuracy: 0.8360\n",
            "Epoch 2/5\n",
            "2700/2700 [==============================] - 7s 3ms/step - loss: 0.4138 - accuracy: 0.8497 - val_loss: 0.4266 - val_accuracy: 0.8523\n",
            "Epoch 3/5\n",
            "2700/2700 [==============================] - 6s 2ms/step - loss: 0.3907 - accuracy: 0.8591 - val_loss: 0.4304 - val_accuracy: 0.8509\n",
            "Epoch 4/5\n",
            "2700/2700 [==============================] - 6s 2ms/step - loss: 0.3733 - accuracy: 0.8650 - val_loss: 0.4238 - val_accuracy: 0.8493\n",
            "Epoch 5/5\n",
            "2700/2700 [==============================] - 6s 2ms/step - loss: 0.3588 - accuracy: 0.8704 - val_loss: 0.4589 - val_accuracy: 0.8454\n",
            "675/675 [==============================] - 1s 2ms/step - loss: 0.4512 - accuracy: 0.8440\n",
            "Epoch 1/5\n",
            "2700/2700 [==============================] - 7s 2ms/step - loss: 0.4734 - accuracy: 0.8279 - val_loss: 0.4355 - val_accuracy: 0.8447\n",
            "Epoch 2/5\n",
            "2700/2700 [==============================] - 6s 2ms/step - loss: 0.4117 - accuracy: 0.8522 - val_loss: 0.4255 - val_accuracy: 0.8471\n",
            "Epoch 3/5\n",
            "2700/2700 [==============================] - 6s 2ms/step - loss: 0.3882 - accuracy: 0.8585 - val_loss: 0.4225 - val_accuracy: 0.8496\n",
            "Epoch 4/5\n",
            "2700/2700 [==============================] - 6s 2ms/step - loss: 0.3718 - accuracy: 0.8645 - val_loss: 0.4185 - val_accuracy: 0.8543\n",
            "Epoch 5/5\n",
            "2700/2700 [==============================] - 6s 2ms/step - loss: 0.3560 - accuracy: 0.8710 - val_loss: 0.4366 - val_accuracy: 0.8473\n",
            "675/675 [==============================] - 1s 2ms/step - loss: 0.4270 - accuracy: 0.8455\n",
            "Epoch 1/5\n",
            "2700/2700 [==============================] - 7s 2ms/step - loss: 0.4680 - accuracy: 0.8313 - val_loss: 0.4402 - val_accuracy: 0.8440\n",
            "Epoch 2/5\n",
            "2700/2700 [==============================] - 6s 2ms/step - loss: 0.4060 - accuracy: 0.8524 - val_loss: 0.4247 - val_accuracy: 0.8479\n",
            "Epoch 3/5\n",
            "2700/2700 [==============================] - 6s 2ms/step - loss: 0.3838 - accuracy: 0.8611 - val_loss: 0.4164 - val_accuracy: 0.8538\n",
            "Epoch 4/5\n",
            "2700/2700 [==============================] - 6s 2ms/step - loss: 0.3673 - accuracy: 0.8678 - val_loss: 0.4244 - val_accuracy: 0.8493\n",
            "Epoch 5/5\n",
            "2700/2700 [==============================] - 6s 2ms/step - loss: 0.3530 - accuracy: 0.8726 - val_loss: 0.4279 - val_accuracy: 0.8508\n",
            "675/675 [==============================] - 1s 2ms/step - loss: 0.4368 - accuracy: 0.8450\n",
            "Epoch 1/5\n",
            "2700/2700 [==============================] - 7s 2ms/step - loss: 0.4733 - accuracy: 0.8285 - val_loss: 0.4524 - val_accuracy: 0.8364\n",
            "Epoch 2/5\n",
            "2700/2700 [==============================] - 6s 2ms/step - loss: 0.4115 - accuracy: 0.8492 - val_loss: 0.4307 - val_accuracy: 0.8464\n",
            "Epoch 3/5\n",
            "2700/2700 [==============================] - 6s 2ms/step - loss: 0.3886 - accuracy: 0.8587 - val_loss: 0.4280 - val_accuracy: 0.8482\n",
            "Epoch 4/5\n",
            "2700/2700 [==============================] - 6s 2ms/step - loss: 0.3703 - accuracy: 0.8649 - val_loss: 0.4263 - val_accuracy: 0.8481\n",
            "Epoch 5/5\n",
            "2700/2700 [==============================] - 6s 2ms/step - loss: 0.3553 - accuracy: 0.8700 - val_loss: 0.4208 - val_accuracy: 0.8509\n",
            "675/675 [==============================] - 1s 2ms/step - loss: 0.4190 - accuracy: 0.8531\n",
            "Epoch 1/5\n",
            "2700/2700 [==============================] - 7s 2ms/step - loss: 0.4729 - accuracy: 0.8282 - val_loss: 0.4399 - val_accuracy: 0.8432\n",
            "Epoch 2/5\n",
            "2700/2700 [==============================] - 6s 2ms/step - loss: 0.4095 - accuracy: 0.8513 - val_loss: 0.4276 - val_accuracy: 0.8468\n",
            "Epoch 3/5\n",
            "2700/2700 [==============================] - 6s 2ms/step - loss: 0.3877 - accuracy: 0.8592 - val_loss: 0.4214 - val_accuracy: 0.8464\n",
            "Epoch 4/5\n",
            "2700/2700 [==============================] - 6s 2ms/step - loss: 0.3716 - accuracy: 0.8648 - val_loss: 0.4303 - val_accuracy: 0.8455\n",
            "Epoch 5/5\n",
            "2700/2700 [==============================] - 6s 2ms/step - loss: 0.3582 - accuracy: 0.8686 - val_loss: 0.4375 - val_accuracy: 0.8457\n",
            "675/675 [==============================] - 1s 2ms/step - loss: 0.4445 - accuracy: 0.8451\n",
            "Epoch 1/5\n",
            "2700/2700 [==============================] - 7s 2ms/step - loss: 0.4749 - accuracy: 0.8287 - val_loss: 0.4412 - val_accuracy: 0.8427\n",
            "Epoch 2/5\n",
            "2700/2700 [==============================] - 6s 2ms/step - loss: 0.4063 - accuracy: 0.8531 - val_loss: 0.4197 - val_accuracy: 0.8537\n",
            "Epoch 3/5\n",
            "2700/2700 [==============================] - 6s 2ms/step - loss: 0.3733 - accuracy: 0.8638 - val_loss: 0.4231 - val_accuracy: 0.8494\n",
            "Epoch 4/5\n",
            "2700/2700 [==============================] - 6s 2ms/step - loss: 0.3457 - accuracy: 0.8743 - val_loss: 0.4400 - val_accuracy: 0.8469\n",
            "Epoch 5/5\n",
            "2700/2700 [==============================] - 6s 2ms/step - loss: 0.3230 - accuracy: 0.8814 - val_loss: 0.4482 - val_accuracy: 0.8419\n",
            "675/675 [==============================] - 1s 2ms/step - loss: 0.4372 - accuracy: 0.8464\n",
            "Epoch 1/5\n",
            "2700/2700 [==============================] - 7s 2ms/step - loss: 0.4717 - accuracy: 0.8294 - val_loss: 0.4282 - val_accuracy: 0.8454\n",
            "Epoch 2/5\n",
            "2700/2700 [==============================] - 6s 2ms/step - loss: 0.4063 - accuracy: 0.8542 - val_loss: 0.4340 - val_accuracy: 0.8501\n",
            "Epoch 3/5\n",
            "2700/2700 [==============================] - 6s 2ms/step - loss: 0.3747 - accuracy: 0.8642 - val_loss: 0.4229 - val_accuracy: 0.8516\n",
            "Epoch 4/5\n",
            "2700/2700 [==============================] - 6s 2ms/step - loss: 0.3498 - accuracy: 0.8728 - val_loss: 0.4333 - val_accuracy: 0.8482\n",
            "Epoch 5/5\n",
            "2700/2700 [==============================] - 6s 2ms/step - loss: 0.3269 - accuracy: 0.8823 - val_loss: 0.4447 - val_accuracy: 0.8483\n",
            "675/675 [==============================] - 1s 2ms/step - loss: 0.4419 - accuracy: 0.8460\n",
            "Epoch 1/5\n",
            "2700/2700 [==============================] - 7s 2ms/step - loss: 0.4704 - accuracy: 0.8302 - val_loss: 0.4348 - val_accuracy: 0.8438\n",
            "Epoch 2/5\n",
            "2700/2700 [==============================] - 6s 2ms/step - loss: 0.4007 - accuracy: 0.8548 - val_loss: 0.4159 - val_accuracy: 0.8479\n",
            "Epoch 3/5\n",
            "2700/2700 [==============================] - 6s 2ms/step - loss: 0.3688 - accuracy: 0.8661 - val_loss: 0.4236 - val_accuracy: 0.8490\n",
            "Epoch 4/5\n",
            "2700/2700 [==============================] - 6s 2ms/step - loss: 0.3432 - accuracy: 0.8757 - val_loss: 0.4243 - val_accuracy: 0.8480\n",
            "Epoch 5/5\n",
            "2700/2700 [==============================] - 6s 2ms/step - loss: 0.3195 - accuracy: 0.8826 - val_loss: 0.4451 - val_accuracy: 0.8468\n",
            "675/675 [==============================] - 1s 2ms/step - loss: 0.4642 - accuracy: 0.8425\n",
            "Epoch 1/5\n",
            "2700/2700 [==============================] - 7s 2ms/step - loss: 0.4731 - accuracy: 0.8290 - val_loss: 0.4433 - val_accuracy: 0.8423\n",
            "Epoch 2/5\n",
            "2700/2700 [==============================] - 6s 2ms/step - loss: 0.4051 - accuracy: 0.8523 - val_loss: 0.4205 - val_accuracy: 0.8503\n",
            "Epoch 3/5\n",
            "2700/2700 [==============================] - 6s 2ms/step - loss: 0.3733 - accuracy: 0.8631 - val_loss: 0.4165 - val_accuracy: 0.8511\n",
            "Epoch 4/5\n",
            "2700/2700 [==============================] - 6s 2ms/step - loss: 0.3464 - accuracy: 0.8743 - val_loss: 0.4254 - val_accuracy: 0.8500\n",
            "Epoch 5/5\n",
            "2700/2700 [==============================] - 6s 2ms/step - loss: 0.3219 - accuracy: 0.8831 - val_loss: 0.4424 - val_accuracy: 0.8443\n",
            "675/675 [==============================] - 1s 2ms/step - loss: 0.4431 - accuracy: 0.8490\n",
            "Epoch 1/5\n",
            "2700/2700 [==============================] - 7s 2ms/step - loss: 0.4684 - accuracy: 0.8309 - val_loss: 0.4328 - val_accuracy: 0.8474\n",
            "Epoch 2/5\n",
            "2700/2700 [==============================] - 6s 2ms/step - loss: 0.4010 - accuracy: 0.8537 - val_loss: 0.4239 - val_accuracy: 0.8511\n",
            "Epoch 3/5\n",
            "2700/2700 [==============================] - 6s 2ms/step - loss: 0.3687 - accuracy: 0.8667 - val_loss: 0.4241 - val_accuracy: 0.8497\n",
            "Epoch 4/5\n",
            "2700/2700 [==============================] - 6s 2ms/step - loss: 0.3423 - accuracy: 0.8766 - val_loss: 0.4326 - val_accuracy: 0.8454\n",
            "Epoch 5/5\n",
            "2700/2700 [==============================] - 6s 2ms/step - loss: 0.3205 - accuracy: 0.8844 - val_loss: 0.4462 - val_accuracy: 0.8475\n",
            "675/675 [==============================] - 1s 2ms/step - loss: 0.4517 - accuracy: 0.8470\n",
            "Epoch 1/5\n",
            "2700/2700 [==============================] - 7s 2ms/step - loss: 0.7012 - accuracy: 0.7631 - val_loss: 0.7019 - val_accuracy: 0.7701\n",
            "Epoch 2/5\n",
            "2700/2700 [==============================] - 6s 2ms/step - loss: 0.7188 - accuracy: 0.7631 - val_loss: 0.7530 - val_accuracy: 0.7828\n",
            "Epoch 3/5\n",
            "2700/2700 [==============================] - 6s 2ms/step - loss: 0.7370 - accuracy: 0.7652 - val_loss: 0.7287 - val_accuracy: 0.7777\n",
            "Epoch 4/5\n",
            "2700/2700 [==============================] - 7s 2ms/step - loss: 0.7387 - accuracy: 0.7623 - val_loss: 0.7561 - val_accuracy: 0.7665\n",
            "Epoch 5/5\n",
            "2700/2700 [==============================] - 6s 2ms/step - loss: 0.7574 - accuracy: 0.7642 - val_loss: 0.8467 - val_accuracy: 0.7701\n",
            "675/675 [==============================] - 1s 2ms/step - loss: 0.8305 - accuracy: 0.7758\n",
            "Epoch 1/5\n",
            "2700/2700 [==============================] - 7s 3ms/step - loss: 0.6554 - accuracy: 0.7825 - val_loss: 0.6795 - val_accuracy: 0.7925\n",
            "Epoch 2/5\n",
            "2700/2700 [==============================] - 6s 2ms/step - loss: 0.6346 - accuracy: 0.7975 - val_loss: 0.6638 - val_accuracy: 0.8014\n",
            "Epoch 3/5\n",
            "2700/2700 [==============================] - 6s 2ms/step - loss: 0.6320 - accuracy: 0.7995 - val_loss: 0.6062 - val_accuracy: 0.7950\n",
            "Epoch 4/5\n",
            "2700/2700 [==============================] - 6s 2ms/step - loss: 0.7310 - accuracy: 0.7379 - val_loss: 0.9497 - val_accuracy: 0.5708\n",
            "Epoch 5/5\n",
            "2700/2700 [==============================] - 6s 2ms/step - loss: 0.9474 - accuracy: 0.5762 - val_loss: 0.9516 - val_accuracy: 0.5843\n",
            "675/675 [==============================] - 1s 2ms/step - loss: 0.9448 - accuracy: 0.5930\n",
            "Epoch 1/5\n",
            "2700/2700 [==============================] - 7s 2ms/step - loss: 0.9218 - accuracy: 0.6013 - val_loss: 0.8857 - val_accuracy: 0.5606\n",
            "Epoch 2/5\n",
            "2700/2700 [==============================] - 6s 2ms/step - loss: 0.8811 - accuracy: 0.6355 - val_loss: 0.8855 - val_accuracy: 0.6450\n",
            "Epoch 3/5\n",
            "2700/2700 [==============================] - 6s 2ms/step - loss: 0.8844 - accuracy: 0.6162 - val_loss: 0.8487 - val_accuracy: 0.6048\n",
            "Epoch 4/5\n",
            "2700/2700 [==============================] - 6s 2ms/step - loss: 0.9625 - accuracy: 0.5458 - val_loss: 1.0689 - val_accuracy: 0.4523\n",
            "Epoch 5/5\n",
            "2700/2700 [==============================] - 6s 2ms/step - loss: 1.0662 - accuracy: 0.4536 - val_loss: 1.0599 - val_accuracy: 0.4597\n",
            "675/675 [==============================] - 1s 2ms/step - loss: 1.0578 - accuracy: 0.4544\n",
            "Epoch 1/5\n",
            "2700/2700 [==============================] - 7s 2ms/step - loss: 0.8899 - accuracy: 0.5930 - val_loss: 0.8747 - val_accuracy: 0.6108\n",
            "Epoch 2/5\n",
            "2700/2700 [==============================] - 6s 2ms/step - loss: 0.8856 - accuracy: 0.6180 - val_loss: 1.0106 - val_accuracy: 0.6132\n",
            "Epoch 3/5\n",
            "2700/2700 [==============================] - 6s 2ms/step - loss: 0.8834 - accuracy: 0.6156 - val_loss: 0.8948 - val_accuracy: 0.5842\n",
            "Epoch 4/5\n",
            "2700/2700 [==============================] - 6s 2ms/step - loss: 0.8737 - accuracy: 0.6197 - val_loss: 0.8680 - val_accuracy: 0.6052\n",
            "Epoch 5/5\n",
            "2700/2700 [==============================] - 6s 2ms/step - loss: 0.8872 - accuracy: 0.6135 - val_loss: 1.0042 - val_accuracy: 0.5163\n",
            "675/675 [==============================] - 1s 2ms/step - loss: 1.0194 - accuracy: 0.5233\n",
            "Epoch 1/5\n",
            "2700/2700 [==============================] - 7s 2ms/step - loss: 0.6714 - accuracy: 0.7710 - val_loss: 0.6610 - val_accuracy: 0.7661\n",
            "Epoch 2/5\n",
            "2700/2700 [==============================] - 6s 2ms/step - loss: 0.7227 - accuracy: 0.7142 - val_loss: 0.7564 - val_accuracy: 0.7480\n",
            "Epoch 3/5\n",
            "2700/2700 [==============================] - 7s 2ms/step - loss: 0.7085 - accuracy: 0.7728 - val_loss: 0.7978 - val_accuracy: 0.7884\n",
            "Epoch 4/5\n",
            "2700/2700 [==============================] - 6s 2ms/step - loss: 0.7190 - accuracy: 0.7645 - val_loss: 0.7869 - val_accuracy: 0.7565\n",
            "Epoch 5/5\n",
            "2700/2700 [==============================] - 6s 2ms/step - loss: 0.6960 - accuracy: 0.7844 - val_loss: 0.6620 - val_accuracy: 0.8036\n",
            "675/675 [==============================] - 1s 2ms/step - loss: 0.6717 - accuracy: 0.7985\n",
            "Epoch 1/5\n",
            "2700/2700 [==============================] - 7s 2ms/step - loss: 0.6432 - accuracy: 0.7814 - val_loss: 0.6707 - val_accuracy: 0.7887\n",
            "Epoch 2/5\n",
            "2700/2700 [==============================] - 7s 2ms/step - loss: 0.6522 - accuracy: 0.7791 - val_loss: 0.6794 - val_accuracy: 0.7754\n",
            "Epoch 3/5\n",
            "2700/2700 [==============================] - 6s 2ms/step - loss: 0.6899 - accuracy: 0.7708 - val_loss: 0.6342 - val_accuracy: 0.7432\n",
            "Epoch 4/5\n",
            "2700/2700 [==============================] - 6s 2ms/step - loss: 0.6887 - accuracy: 0.7670 - val_loss: 0.7562 - val_accuracy: 0.7262\n",
            "Epoch 5/5\n",
            "2700/2700 [==============================] - 6s 2ms/step - loss: 0.7455 - accuracy: 0.7251 - val_loss: 0.7451 - val_accuracy: 0.7537\n",
            "675/675 [==============================] - 1s 2ms/step - loss: 0.7522 - accuracy: 0.7469\n",
            "Epoch 1/5\n",
            "2700/2700 [==============================] - 7s 2ms/step - loss: 0.6753 - accuracy: 0.7759 - val_loss: 0.6098 - val_accuracy: 0.7981\n",
            "Epoch 2/5\n",
            "2700/2700 [==============================] - 6s 2ms/step - loss: 0.6457 - accuracy: 0.7948 - val_loss: 0.6206 - val_accuracy: 0.7963\n",
            "Epoch 3/5\n",
            "2700/2700 [==============================] - 6s 2ms/step - loss: 0.7003 - accuracy: 0.7858 - val_loss: 0.6475 - val_accuracy: 0.8047\n",
            "Epoch 4/5\n",
            "2700/2700 [==============================] - 6s 2ms/step - loss: 0.6854 - accuracy: 0.8001 - val_loss: 0.6726 - val_accuracy: 0.8018\n",
            "Epoch 5/5\n",
            "2700/2700 [==============================] - 6s 2ms/step - loss: 0.6861 - accuracy: 0.7961 - val_loss: 0.6852 - val_accuracy: 0.8051\n",
            "675/675 [==============================] - 1s 2ms/step - loss: 0.6748 - accuracy: 0.8010\n",
            "Epoch 1/5\n",
            "2700/2700 [==============================] - 7s 2ms/step - loss: 0.7768 - accuracy: 0.7106 - val_loss: 0.7841 - val_accuracy: 0.6934\n",
            "Epoch 2/5\n",
            "2700/2700 [==============================] - 6s 2ms/step - loss: 0.7289 - accuracy: 0.7407 - val_loss: 0.7255 - val_accuracy: 0.7247\n",
            "Epoch 3/5\n",
            "2700/2700 [==============================] - 6s 2ms/step - loss: 0.7436 - accuracy: 0.7338 - val_loss: 0.7384 - val_accuracy: 0.7253\n",
            "Epoch 4/5\n",
            "2700/2700 [==============================] - 6s 2ms/step - loss: 0.7621 - accuracy: 0.7238 - val_loss: 0.8481 - val_accuracy: 0.7339\n",
            "Epoch 5/5\n",
            "2700/2700 [==============================] - 6s 2ms/step - loss: 0.8404 - accuracy: 0.6998 - val_loss: 0.8075 - val_accuracy: 0.7161\n",
            "675/675 [==============================] - 1s 2ms/step - loss: 0.8012 - accuracy: 0.7139\n",
            "Epoch 1/5\n",
            "2700/2700 [==============================] - 7s 2ms/step - loss: 0.6563 - accuracy: 0.7694 - val_loss: 0.6701 - val_accuracy: 0.7554\n",
            "Epoch 2/5\n",
            "2700/2700 [==============================] - 6s 2ms/step - loss: 0.6443 - accuracy: 0.7799 - val_loss: 0.6541 - val_accuracy: 0.7823\n",
            "Epoch 3/5\n",
            "2700/2700 [==============================] - 6s 2ms/step - loss: 0.6589 - accuracy: 0.7784 - val_loss: 0.6468 - val_accuracy: 0.7708\n",
            "Epoch 4/5\n",
            "2700/2700 [==============================] - 7s 2ms/step - loss: 0.8522 - accuracy: 0.6516 - val_loss: 1.0108 - val_accuracy: 0.5411\n",
            "Epoch 5/5\n",
            "2700/2700 [==============================] - 7s 2ms/step - loss: 0.9677 - accuracy: 0.5533 - val_loss: 0.9452 - val_accuracy: 0.5702\n",
            "675/675 [==============================] - 1s 2ms/step - loss: 0.9497 - accuracy: 0.5799\n",
            "Epoch 1/5\n",
            "2700/2700 [==============================] - 7s 2ms/step - loss: 0.6691 - accuracy: 0.7681 - val_loss: 0.6608 - val_accuracy: 0.7540\n",
            "Epoch 2/5\n",
            "2700/2700 [==============================] - 6s 2ms/step - loss: 0.6286 - accuracy: 0.7848 - val_loss: 0.6810 - val_accuracy: 0.7857\n",
            "Epoch 3/5\n",
            "2700/2700 [==============================] - 6s 2ms/step - loss: 0.7818 - accuracy: 0.7000 - val_loss: 1.0115 - val_accuracy: 0.5779\n",
            "Epoch 4/5\n",
            "2700/2700 [==============================] - 7s 2ms/step - loss: 0.8068 - accuracy: 0.6840 - val_loss: 0.7512 - val_accuracy: 0.7479\n",
            "Epoch 5/5\n",
            "2700/2700 [==============================] - 6s 2ms/step - loss: 0.7843 - accuracy: 0.7139 - val_loss: 0.7756 - val_accuracy: 0.7278\n",
            "675/675 [==============================] - 1s 2ms/step - loss: 0.7881 - accuracy: 0.7299\n",
            "Epoch 1/5\n",
            "2700/2700 [==============================] - 7s 2ms/step - loss: 0.6910 - accuracy: 0.7696 - val_loss: 0.6715 - val_accuracy: 0.7717\n",
            "Epoch 2/5\n",
            "2700/2700 [==============================] - 6s 2ms/step - loss: 0.6970 - accuracy: 0.7713 - val_loss: 0.7278 - val_accuracy: 0.7738\n",
            "Epoch 3/5\n",
            "2700/2700 [==============================] - 6s 2ms/step - loss: 0.7286 - accuracy: 0.7759 - val_loss: 0.7387 - val_accuracy: 0.7970\n",
            "Epoch 4/5\n",
            "2700/2700 [==============================] - 7s 2ms/step - loss: 0.6935 - accuracy: 0.7879 - val_loss: 0.6907 - val_accuracy: 0.7920\n",
            "Epoch 5/5\n",
            "2700/2700 [==============================] - 7s 2ms/step - loss: 0.6876 - accuracy: 0.7899 - val_loss: 0.6988 - val_accuracy: 0.7802\n",
            "675/675 [==============================] - 1s 2ms/step - loss: 0.6939 - accuracy: 0.7833\n",
            "Epoch 1/5\n",
            "2700/2700 [==============================] - 7s 2ms/step - loss: 0.6672 - accuracy: 0.7763 - val_loss: 0.6124 - val_accuracy: 0.7895\n",
            "Epoch 2/5\n",
            "2700/2700 [==============================] - 7s 2ms/step - loss: 0.6221 - accuracy: 0.7891 - val_loss: 0.6101 - val_accuracy: 0.7925\n",
            "Epoch 3/5\n",
            "2700/2700 [==============================] - 7s 2ms/step - loss: 0.7138 - accuracy: 0.6957 - val_loss: 0.7436 - val_accuracy: 0.6307\n",
            "Epoch 4/5\n",
            "2700/2700 [==============================] - 7s 2ms/step - loss: 0.8061 - accuracy: 0.6825 - val_loss: 1.4041 - val_accuracy: 0.2512\n",
            "Epoch 5/5\n",
            "2700/2700 [==============================] - 7s 2ms/step - loss: 1.3935 - accuracy: 0.2469 - val_loss: 1.3946 - val_accuracy: 0.2512\n",
            "675/675 [==============================] - 1s 2ms/step - loss: 1.3970 - accuracy: 0.2523\n",
            "Epoch 1/5\n",
            "2700/2700 [==============================] - 8s 3ms/step - loss: 0.6921 - accuracy: 0.7738 - val_loss: 0.6860 - val_accuracy: 0.7864\n",
            "Epoch 2/5\n",
            "2700/2700 [==============================] - 7s 2ms/step - loss: 0.6585 - accuracy: 0.7956 - val_loss: 0.6202 - val_accuracy: 0.8046\n",
            "Epoch 3/5\n",
            "2700/2700 [==============================] - 7s 2ms/step - loss: 0.6884 - accuracy: 0.7947 - val_loss: 0.7245 - val_accuracy: 0.8035\n",
            "Epoch 4/5\n",
            "2700/2700 [==============================] - 7s 2ms/step - loss: 0.6911 - accuracy: 0.7914 - val_loss: 0.6898 - val_accuracy: 0.7982\n",
            "Epoch 5/5\n",
            "2700/2700 [==============================] - 7s 2ms/step - loss: 0.6811 - accuracy: 0.7968 - val_loss: 0.7313 - val_accuracy: 0.8012\n",
            "675/675 [==============================] - 1s 2ms/step - loss: 0.7521 - accuracy: 0.7952\n",
            "Epoch 1/5\n",
            "2700/2700 [==============================] - 7s 3ms/step - loss: 0.6960 - accuracy: 0.7657 - val_loss: 0.6808 - val_accuracy: 0.7567\n",
            "Epoch 2/5\n",
            "2700/2700 [==============================] - 7s 3ms/step - loss: 0.6436 - accuracy: 0.7801 - val_loss: 0.6539 - val_accuracy: 0.7798\n",
            "Epoch 3/5\n",
            "2700/2700 [==============================] - 7s 3ms/step - loss: 0.6706 - accuracy: 0.7784 - val_loss: 0.6597 - val_accuracy: 0.8087\n",
            "Epoch 4/5\n",
            "2700/2700 [==============================] - 7s 3ms/step - loss: 0.8098 - accuracy: 0.6766 - val_loss: 0.9131 - val_accuracy: 0.7883\n",
            "Epoch 5/5\n",
            "2700/2700 [==============================] - 7s 3ms/step - loss: 0.8532 - accuracy: 0.6348 - val_loss: 0.8538 - val_accuracy: 0.6267\n",
            "675/675 [==============================] - 1s 2ms/step - loss: 0.8557 - accuracy: 0.6239\n",
            "Epoch 1/5\n",
            "2700/2700 [==============================] - 8s 3ms/step - loss: 0.6925 - accuracy: 0.7622 - val_loss: 0.6090 - val_accuracy: 0.7947\n",
            "Epoch 2/5\n",
            "2700/2700 [==============================] - 7s 3ms/step - loss: 0.7229 - accuracy: 0.7002 - val_loss: 0.7658 - val_accuracy: 0.6734\n",
            "Epoch 3/5\n",
            "2700/2700 [==============================] - 7s 3ms/step - loss: 0.7562 - accuracy: 0.6431 - val_loss: 0.7256 - val_accuracy: 0.6518\n",
            "Epoch 4/5\n",
            "2700/2700 [==============================] - 7s 2ms/step - loss: 0.7606 - accuracy: 0.6388 - val_loss: 0.7213 - val_accuracy: 0.6622\n",
            "Epoch 5/5\n",
            "2700/2700 [==============================] - 7s 2ms/step - loss: 0.8610 - accuracy: 0.6218 - val_loss: 0.8452 - val_accuracy: 0.6417\n",
            "675/675 [==============================] - 1s 2ms/step - loss: 0.8476 - accuracy: 0.6348\n",
            "Epoch 1/5\n",
            "3375/3375 [==============================] - 9s 2ms/step - loss: 0.4743 - accuracy: 0.8296 - val_loss: 0.4153 - val_accuracy: 0.8520\n",
            "Epoch 2/5\n",
            "3375/3375 [==============================] - 8s 2ms/step - loss: 0.3976 - accuracy: 0.8545 - val_loss: 0.4081 - val_accuracy: 0.8514\n",
            "Epoch 3/5\n",
            "3375/3375 [==============================] - 8s 2ms/step - loss: 0.3798 - accuracy: 0.8609 - val_loss: 0.4003 - val_accuracy: 0.8536\n",
            "Epoch 4/5\n",
            "3375/3375 [==============================] - 9s 3ms/step - loss: 0.3657 - accuracy: 0.8640 - val_loss: 0.3968 - val_accuracy: 0.8544\n",
            "Epoch 5/5\n",
            "3375/3375 [==============================] - 8s 2ms/step - loss: 0.3543 - accuracy: 0.8691 - val_loss: 0.3925 - val_accuracy: 0.8576\n"
          ]
        },
        {
          "output_type": "execute_result",
          "data": {
            "text/plain": [
              "GridSearchCV(estimator=<keras.wrappers.scikit_learn.KerasRegressor object at 0x7f46bfc11e90>,\n",
              "             param_grid={'learning_rate': [0.001, 0.01, 0.1],\n",
              "                         'n_units': [8, 16, 32]})"
            ]
          },
          "metadata": {},
          "execution_count": 41
        }
      ]
    },
    {
      "cell_type": "markdown",
      "metadata": {
        "id": "aadmkiOoyM94"
      },
      "source": [
        "Print the best hyper-parameters, and evealuate the best model on the test set."
      ]
    },
    {
      "cell_type": "code",
      "metadata": {
        "id": "b0nL5OZkylNX",
        "colab": {
          "base_uri": "https://localhost:8080/"
        },
        "outputId": "192da49e-aa1b-4a39-c9d7-4b2360af2c02"
      },
      "source": [
        "print(grid_search.best_params_)\n",
        "\n",
        "model = grid_search.best_estimator_.model\n",
        "model.evaluate(X_test, y_test)"
      ],
      "execution_count": null,
      "outputs": [
        {
          "output_type": "stream",
          "name": "stdout",
          "text": [
            "{'learning_rate': 0.001, 'n_units': 16}\n",
            "238/238 [==============================] - 1s 3ms/step - loss: 0.3999 - accuracy: 0.8543\n"
          ]
        },
        {
          "output_type": "execute_result",
          "data": {
            "text/plain": [
              "[0.3999482989311218, 0.8543421030044556]"
            ]
          },
          "metadata": {},
          "execution_count": 42
        }
      ]
    }
  ]
}